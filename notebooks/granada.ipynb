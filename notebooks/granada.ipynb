{
 "cells": [
  {
   "cell_type": "code",
   "execution_count": null,
   "metadata": {},
   "outputs": [],
   "source": [
    "%load_ext line_profiler\n",
    "%load_ext autoreload\n",
    "%autoreload 2\n"
   ]
  },
  {
   "cell_type": "code",
   "execution_count": null,
   "metadata": {},
   "outputs": [],
   "source": [
    "import os \n",
    "import sys\n",
    "import numpy as np\n",
    "import pandas as pd\n",
    "from shapely.geometry import Polygon\n",
    "import osmnx as ox\n",
    "%matplotlib qt\n",
    "\n",
    "from strm2stl.buildings import *\n",
    "from strm2stl.dem2stl import *\n",
    "from strm2stl.osm2stl import *\n",
    "import strm2stl.numpy2stl as np2stl"
   ]
  },
  {
   "cell_type": "code",
   "execution_count": null,
   "metadata": {},
   "outputs": [],
   "source": [
    "#sys.path.append('..\\\\numpy2stl')\n",
    "\n"
   ]
  },
  {
   "cell_type": "code",
   "execution_count": null,
   "metadata": {},
   "outputs": [],
   "source": [
    "import trimesh\n",
    "import glob\n"
   ]
  },
  {
   "cell_type": "code",
   "execution_count": null,
   "metadata": {},
   "outputs": [],
   "source": [
    "from strm2stl.create import *"
   ]
  },
  {
   "cell_type": "code",
   "execution_count": null,
   "metadata": {},
   "outputs": [],
   "source": [
    "Root = \"C:/Users/eac84/Desktop/Desktop/FILES\"\n"
   ]
  },
  {
   "cell_type": "code",
   "execution_count": null,
   "metadata": {},
   "outputs": [],
   "source": [
    "%matplotlib qt"
   ]
  },
  {
   "cell_type": "code",
   "execution_count": null,
   "metadata": {},
   "outputs": [],
   "source": [
    "pd.set_option('display.max_rows', None)"
   ]
  },
  {
   "cell_type": "code",
   "execution_count": null,
   "metadata": {},
   "outputs": [],
   "source": [
    "\n",
    "gdf = ox.features_from_place(\"Granada,Spain\", tags)\n",
    "gdf = ox.features_from_place(\"Albaicín,Spain\", tags)"
   ]
  },
  {
   "cell_type": "markdown",
   "metadata": {},
   "source": [
    "## Granada"
   ]
  },
  {
   "cell_type": "code",
   "execution_count": null,
   "metadata": {},
   "outputs": [],
   "source": [
    "\n",
    "scale = .0003\n",
    "center = (37.17827, -3.598) \n",
    "tags = {'building': True}\n",
    "\n",
    "dist = 1500\n",
    "\n",
    "models = location2solid(center, scale, tags, dist)\n"
   ]
  },
  {
   "cell_type": "code",
   "execution_count": null,
   "metadata": {},
   "outputs": [],
   "source": [
    "print(vertices.mean(axis=0).round(-2))\n",
    "print((vertices.max(axis=0) - vertices.min(axis=0)).round(2) )\n",
    "print(vertices.max(axis=0).round(-2) , vertices.min(axis=0).round(-2))\n",
    "\n",
    "print(\"\")\n",
    "print(vx.mean(axis=0).round(-2))\n",
    "print( (vx.max(axis=0)- vx.min(axis=0)).round(2))\n",
    "print(vx.max(axis=0).round(-2) ,  vx.min(axis=0).round())"
   ]
  },
  {
   "cell_type": "code",
   "execution_count": null,
   "metadata": {},
   "outputs": [],
   "source": [
    "import napari\n",
    "print(\"opening - Napari\")\n",
    "v = napari.current_viewer()\n",
    "if v is None: v = napari.Viewer()\n",
    "v.layers.clear()\n",
    "\n",
    "for key in models:\n",
    "\n",
    "\tvertices, faces = models[key]\n",
    "\tsurface = (vertices,faces)\n",
    "\ts = v.add_surface(surface)\n",
    "\ts.wireframe.visible = False\n",
    "\n",
    "#s.normals.face.visible = True\n",
    "#s.normals.vertex.visible = True"
   ]
  },
  {
   "cell_type": "code",
   "execution_count": null,
   "metadata": {},
   "outputs": [],
   "source": [
    "for keys in models:\n",
    "\n",
    "\tvertices, faces = models[keys]\n",
    "\tsurface = (vertices,faces)\n",
    "\ts = v.add_surface(surface)\n",
    "\ts.wireframe.visible = False\n",
    "\n",
    "\tmesh = trimesh.Trimesh(vertices,faces)\n",
    "\tmesh.export(\"Granada_\" +keys+\".stl\")\n"
   ]
  },
  {
   "cell_type": "code",
   "execution_count": null,
   "metadata": {},
   "outputs": [],
   "source": [
    "vertices2 = []\n",
    "faces2 = []\n",
    "maxfaces = 0\n",
    "\n",
    "for keys in models:\n",
    "\n",
    "\tvertices, faces = models[keys]\n",
    "\n",
    "\tfaces = faces + maxfaces\n",
    "\tprint(faces.max())\n",
    "\tprint(len(vertices))\n",
    "\tvertices2.append(vertices)\n",
    "\tfaces2.append(faces)\n",
    "\n",
    "\tmaxfaces = maxfaces + (faces.max()+1)\n",
    "\n",
    "vertices2 = np.concatenate(vertices2,axis=0)\n",
    "faces2    = np.concatenate(faces2, axis=0)"
   ]
  },
  {
   "cell_type": "code",
   "execution_count": null,
   "metadata": {},
   "outputs": [],
   "source": [
    "mesh = trimesh.Trimesh(vertices2,faces2)\n",
    "mesh.export(\"Granada_together.stl\")"
   ]
  },
  {
   "cell_type": "code",
   "execution_count": null,
   "metadata": {},
   "outputs": [],
   "source": [
    "models"
   ]
  },
  {
   "cell_type": "code",
   "execution_count": null,
   "metadata": {},
   "outputs": [],
   "source": [
    "from skimage import filters,transform\n",
    " \n",
    "outshape = np.array(data.shape)*2\n",
    "filt = transform.resize(data, outshape)\n",
    "filt = filters.gaussian( filt , sigma=3, truncate=3)\n",
    "filt = filters.median(filt, np.ones((3,3)))\n",
    "\n",
    "plt.figure()\n",
    "plt.imshow(filt)\n",
    "\n",
    "#data = dem.data\n",
    "facet = np2stl.numpy2stl(filt)\n",
    "solid = np2stl.Solid(facet)\n",
    "#solid.simplify()\n",
    "fn = \"granada_topo.stl\" \n",
    "solid.save_stl(fn)"
   ]
  },
  {
   "cell_type": "code",
   "execution_count": null,
   "metadata": {},
   "outputs": [],
   "source": [
    "x = 660\n",
    "y = 1470\n",
    "plt.imshow(im[-780:-570,1370:1570])"
   ]
  },
  {
   "cell_type": "code",
   "execution_count": null,
   "metadata": {},
   "outputs": [],
   "source": [
    "r0 = 2820\n",
    "r1 = 3030\n",
    "c0 = 1370\n",
    "c1 = 1570\n",
    "\n",
    "mx = im[r0:r1, c0:c1]\n",
    "plt.imshow(mx)"
   ]
  },
  {
   "cell_type": "code",
   "execution_count": null,
   "metadata": {},
   "outputs": [],
   "source": [
    "plt.imshow(im)\n",
    "plt.plot(Wcoor,Ncoor, \"ro\")"
   ]
  },
  {
   "cell_type": "code",
   "execution_count": null,
   "metadata": {},
   "outputs": [],
   "source": [
    "ax = plt.figure().add_subplot(projection='3d')\n",
    "ax.plot(Ncoor,Wcoor,H, \"o\")"
   ]
  },
  {
   "cell_type": "code",
   "execution_count": null,
   "metadata": {},
   "outputs": [],
   "source": []
  },
  {
   "cell_type": "markdown",
   "metadata": {},
   "source": [
    "## Barranquilla"
   ]
  },
  {
   "cell_type": "code",
   "execution_count": null,
   "metadata": {},
   "outputs": [],
   "source": [
    "#gdf[\"height\"] = 30\n",
    "\n",
    "gdf[\"heights\"] = 30#building_heights(gdf)*.05\n",
    "gdf[\"topo_base\"] = 0\n",
    "gdf[\"z0\"] = gdf[\"topo_base\"]\n",
    "gdf[\"z1\"] = gdf[\"z0\"]+ gdf[\"heights\"]\n",
    "\n",
    "building_poly = get_polygons(gdf)\n",
    "tris = triangulate_buildings(building_poly)"
   ]
  },
  {
   "cell_type": "code",
   "execution_count": null,
   "metadata": {},
   "outputs": [],
   "source": [
    "vertices, faces = np2stl.vertices_to_index(tris)\n",
    "vertices[:,[1,0]] = vertices[:,[0,1]]\n",
    "vertices[:,2] = vertices[:,2] * scale\n",
    "vertices = vertices*1000"
   ]
  },
  {
   "cell_type": "code",
   "execution_count": 1,
   "metadata": {},
   "outputs": [
    {
     "name": "stdout",
     "output_type": "stream",
     "text": [
      "opening - Napari\n"
     ]
    },
    {
     "name": "stderr",
     "output_type": "stream",
     "text": [
      "c:\\Users\\eac84\\anaconda3\\lib\\site-packages\\numpy\\_distributor_init.py:30: UserWarning: loaded more than 1 DLL from .libs:\n",
      "c:\\Users\\eac84\\anaconda3\\lib\\site-packages\\numpy\\.libs\\libopenblas.FB5AE2TYXYH2IJRDKGDGQ3XBKLKTF43H.gfortran-win_amd64.dll\n",
      "c:\\Users\\eac84\\anaconda3\\lib\\site-packages\\numpy\\.libs\\libopenblas64__v0.3.21-gcc_10_3_0.dll\n",
      "  warnings.warn(\"loaded more than 1 DLL from .libs:\"\n"
     ]
    },
    {
     "ename": "NameError",
     "evalue": "name 'vertices' is not defined",
     "output_type": "error",
     "traceback": [
      "\u001b[1;31m---------------------------------------------------------------------------\u001b[0m",
      "\u001b[1;31mNameError\u001b[0m                                 Traceback (most recent call last)",
      "\u001b[1;32m<ipython-input-1-1d4ff4925d55>\u001b[0m in \u001b[0;36m<module>\u001b[1;34m\u001b[0m\n\u001b[0;32m      5\u001b[0m \u001b[0mv\u001b[0m\u001b[1;33m.\u001b[0m\u001b[0mlayers\u001b[0m\u001b[1;33m.\u001b[0m\u001b[0mclear\u001b[0m\u001b[1;33m(\u001b[0m\u001b[1;33m)\u001b[0m\u001b[1;33m\u001b[0m\u001b[1;33m\u001b[0m\u001b[0m\n\u001b[0;32m      6\u001b[0m \u001b[1;33m\u001b[0m\u001b[0m\n\u001b[1;32m----> 7\u001b[1;33m \u001b[0msurface\u001b[0m \u001b[1;33m=\u001b[0m \u001b[1;33m(\u001b[0m\u001b[0mvertices\u001b[0m\u001b[1;33m,\u001b[0m\u001b[0mfaces\u001b[0m\u001b[1;33m)\u001b[0m\u001b[1;33m\u001b[0m\u001b[1;33m\u001b[0m\u001b[0m\n\u001b[0m\u001b[0;32m      8\u001b[0m \u001b[0ms\u001b[0m \u001b[1;33m=\u001b[0m \u001b[0mv\u001b[0m\u001b[1;33m.\u001b[0m\u001b[0madd_surface\u001b[0m\u001b[1;33m(\u001b[0m\u001b[0msurface\u001b[0m\u001b[1;33m)\u001b[0m\u001b[1;33m\u001b[0m\u001b[1;33m\u001b[0m\u001b[0m\n\u001b[0;32m      9\u001b[0m \u001b[0ms\u001b[0m\u001b[1;33m.\u001b[0m\u001b[0mwireframe\u001b[0m\u001b[1;33m.\u001b[0m\u001b[0mvisible\u001b[0m \u001b[1;33m=\u001b[0m \u001b[1;32mFalse\u001b[0m\u001b[1;33m\u001b[0m\u001b[1;33m\u001b[0m\u001b[0m\n",
      "\u001b[1;31mNameError\u001b[0m: name 'vertices' is not defined"
     ]
    }
   ],
   "source": [
    "import napari\n",
    "print(\"opening - Napari\")\n",
    "v = napari.current_viewer()\n",
    "if v is None: v = napari.Viewer()\n",
    "v.layers.clear()\n",
    "\n",
    "surface = (vertices,faces)\n",
    "s = v.add_surface(surface)\n",
    "s.wireframe.visible = False"
   ]
  },
  {
   "cell_type": "code",
   "execution_count": null,
   "metadata": {},
   "outputs": [],
   "source": [
    "import matplotlib.pyplot as plt\n",
    "\n",
    "import osmnx as ox\n"
   ]
  },
  {
   "cell_type": "code",
   "execution_count": null,
   "metadata": {},
   "outputs": [],
   "source": [
    "\n",
    "# Define the place or bounding box\n",
    "n,s,e,w = (11.058,10.92,-74.75,-74.85)\n",
    "\n",
    "G = ox.graph_from_bbox(north=n,south=s,east=e,west=w, network_type='all')\n",
    "# Download the data for all roads\n",
    "#G = ox.graph_from_place(place, network_type='all')\n"
   ]
  },
  {
   "cell_type": "code",
   "execution_count": null,
   "metadata": {},
   "outputs": [],
   "source": [
    "dem = DEM(Root, (n,s,e,w))"
   ]
  },
  {
   "cell_type": "code",
   "execution_count": null,
   "metadata": {},
   "outputs": [],
   "source": [
    "demdata = dem.data"
   ]
  },
  {
   "cell_type": "code",
   "execution_count": null,
   "metadata": {},
   "outputs": [],
   "source": [
    "x = dem.data.copy()\n",
    "x = ndi.morphological_gradient(dem.data, (3,3))<0.001\n",
    "x = 1.*x + 1.*(dem.data.clip(0,3)<0.15)"
   ]
  },
  {
   "cell_type": "code",
   "execution_count": null,
   "metadata": {},
   "outputs": [],
   "source": [
    "x = rescale(x,sz_out=2000) \n",
    "x = x/x.max()\n",
    "\n",
    "demdata = rescale(demdata,sz_out=2000)\n",
    "\n",
    "demdata = demdata / demdata.max() * 10 \n",
    "demdata = demdata-(x*2.)"
   ]
  },
  {
   "cell_type": "code",
   "execution_count": null,
   "metadata": {},
   "outputs": [],
   "source": [
    "# Plot the graph at different zoom levels\n",
    "fig, ax = plt.subplots(1, 2, figsize=(20, 10))\n",
    "\n",
    "# Zoomed-out view (low zoom level)\n",
    "ox.plot_graph(ox.project_graph(G), ax=ax[0], node_size=0, edge_color='grey', edge_linewidth=0.2)\n",
    "ax[0].set_title(\"Zoomed-Out View\")\n",
    "\n",
    "plt.show()"
   ]
  },
  {
   "cell_type": "code",
   "execution_count": null,
   "metadata": {},
   "outputs": [],
   "source": [
    "def graph2lines(G):\n",
    "\n",
    "\trivers = []\n",
    "\tfor u, v, data in G.edges(keys=False, data=True):\n",
    "\t\t\n",
    "\t\tname = \"\"\n",
    "\t\tif \"name\" in data:  \n",
    "\t\t\tname = data[\"name\"]         \n",
    "\n",
    "\t\tif \"geometry\" in data: \n",
    "\t\t\tpts = np.array(data[\"geometry\"].xy)\n",
    "\t\telse:\n",
    "\t\t\tnode = G.nodes\n",
    "\t\t\tpts = [[ node[u]['x'], node[v]['x']],\n",
    "\t\t\t\t[ node[u]['y'], node[v]['y']]]\n",
    "\t\t\tpts = np.array(pts)\n",
    "\n",
    "\t\tline = Line(name, pts, color=\"g\", type=\"river\")\n",
    "\t\trivers.append(line)\n",
    "\treturn rivers"
   ]
  },
  {
   "cell_type": "code",
   "execution_count": null,
   "metadata": {},
   "outputs": [],
   "source": [
    "rivers2 = graph2lines(G)"
   ]
  },
  {
   "cell_type": "code",
   "execution_count": null,
   "metadata": {},
   "outputs": [],
   "source": [
    "fig, ax = plt.subplots(1, 2, figsize=(20, 10))\n",
    "\n",
    "for line in rivers2:\n",
    "    x,y = line.pts\n",
    "    ax[0].plot(x,y,\"g\")\n",
    "    \n",
    "ax[0].grid(True)"
   ]
  },
  {
   "cell_type": "code",
   "execution_count": null,
   "metadata": {},
   "outputs": [],
   "source": [
    "linepts = [line.pts for line in rivers2]\n",
    "\n",
    "lineptsim = [coor2im(((n,s),(w,e)), ((0,demdata.shape[0]),(0,demdata.shape[1])), pts.T) \n",
    "             for pts in linepts]\n",
    "\n",
    "lines_im = embed_lines(np.zeros_like(demdata).T, lineptsim , res=1).T"
   ]
  },
  {
   "cell_type": "code",
   "execution_count": null,
   "metadata": {},
   "outputs": [],
   "source": [
    "building_im = morphology.area_opening(lines_im==0, 500) == 0\n",
    "building_im = building_im & ~(lines_im)"
   ]
  },
  {
   "cell_type": "code",
   "execution_count": null,
   "metadata": {},
   "outputs": [],
   "source": [
    "plt.imshow(building_im)"
   ]
  },
  {
   "cell_type": "code",
   "execution_count": null,
   "metadata": {},
   "outputs": [],
   "source": [
    "landscape = demdata + building_im *5 + lines_im*-1 "
   ]
  },
  {
   "cell_type": "code",
   "execution_count": null,
   "metadata": {},
   "outputs": [],
   "source": [
    "landscape = landscape - landscape.min() + 1"
   ]
  },
  {
   "cell_type": "code",
   "execution_count": null,
   "metadata": {},
   "outputs": [],
   "source": [
    "savefile(out_dir, name, im2 )"
   ]
  },
  {
   "cell_type": "code",
   "execution_count": null,
   "metadata": {},
   "outputs": [],
   "source": [
    "plt.imshow(landscape, cmap=\"jet\")"
   ]
  },
  {
   "cell_type": "code",
   "execution_count": 3,
   "metadata": {},
   "outputs": [
    {
     "ename": "NameError",
     "evalue": "name 'np2stl' is not defined",
     "output_type": "error",
     "traceback": [
      "\u001b[1;31m---------------------------------------------------------------------------\u001b[0m",
      "\u001b[1;31mNameError\u001b[0m                                 Traceback (most recent call last)",
      "\u001b[1;32m<ipython-input-3-4b47b24ccda0>\u001b[0m in \u001b[0;36m<module>\u001b[1;34m\u001b[0m\n\u001b[1;32m----> 1\u001b[1;33m \u001b[0mfacet\u001b[0m \u001b[1;33m=\u001b[0m \u001b[0mnp2stl\u001b[0m\u001b[1;33m.\u001b[0m\u001b[0mnumpy2stl\u001b[0m\u001b[1;33m(\u001b[0m\u001b[0mlandscape\u001b[0m\u001b[1;33m)\u001b[0m\u001b[1;33m\u001b[0m\u001b[1;33m\u001b[0m\u001b[0m\n\u001b[0m\u001b[0;32m      2\u001b[0m \u001b[0msolid\u001b[0m \u001b[1;33m=\u001b[0m \u001b[0mnp2stl\u001b[0m\u001b[1;33m.\u001b[0m\u001b[0mSolid\u001b[0m\u001b[1;33m(\u001b[0m\u001b[0mfacet\u001b[0m\u001b[1;33m)\u001b[0m\u001b[1;33m\u001b[0m\u001b[1;33m\u001b[0m\u001b[0m\n\u001b[0;32m      3\u001b[0m \u001b[0mvx\u001b[0m \u001b[1;33m=\u001b[0m \u001b[0msolid\u001b[0m\u001b[1;33m.\u001b[0m\u001b[0mvertices\u001b[0m\u001b[1;33m.\u001b[0m\u001b[0mcopy\u001b[0m\u001b[1;33m(\u001b[0m\u001b[1;33m)\u001b[0m\u001b[1;33m.\u001b[0m\u001b[0mastype\u001b[0m\u001b[1;33m(\u001b[0m\u001b[0mfloat\u001b[0m\u001b[1;33m)\u001b[0m\u001b[1;33m\u001b[0m\u001b[1;33m\u001b[0m\u001b[0m\n\u001b[0;32m      4\u001b[0m \u001b[1;31m########################\u001b[0m\u001b[1;33m\u001b[0m\u001b[1;33m\u001b[0m\u001b[1;33m\u001b[0m\u001b[0m\n",
      "\u001b[1;31mNameError\u001b[0m: name 'np2stl' is not defined"
     ]
    }
   ],
   "source": [
    "facet = np2stl.numpy2stl(landscape)\n",
    "solid = np2stl.Solid(facet)\n",
    "vx = solid.vertices.copy().astype(float)\n",
    "########################\n"
   ]
  },
  {
   "cell_type": "code",
   "execution_count": 2,
   "metadata": {},
   "outputs": [
    {
     "ename": "NameError",
     "evalue": "name 'np2stl' is not defined",
     "output_type": "error",
     "traceback": [
      "\u001b[1;31m---------------------------------------------------------------------------\u001b[0m",
      "\u001b[1;31mNameError\u001b[0m                                 Traceback (most recent call last)",
      "\u001b[1;32m<ipython-input-2-e73aaecbe64d>\u001b[0m in \u001b[0;36m<module>\u001b[1;34m\u001b[0m\n\u001b[1;32m----> 1\u001b[1;33m \u001b[0mnp2stl\u001b[0m\u001b[1;33m.\u001b[0m\u001b[0mnumpy2stl\u001b[0m\u001b[1;33m\u001b[0m\u001b[1;33m\u001b[0m\u001b[0m\n\u001b[0m",
      "\u001b[1;31mNameError\u001b[0m: name 'np2stl' is not defined"
     ]
    }
   ],
   "source": [
    "np2stl.numpy2stl"
   ]
  },
  {
   "cell_type": "code",
   "execution_count": null,
   "metadata": {},
   "outputs": [],
   "source": [
    "import napari\n",
    "print(\"opening - Napari\")\n",
    "v = napari.current_viewer()\n",
    "if v is None: v = napari.Viewer()\n",
    "v.layers.clear()\n",
    "\n",
    "surface = (vx,solid.faces)\n",
    "s = v.add_surface(surface)\n",
    "s.wireframe.visible = False"
   ]
  },
  {
   "cell_type": "code",
   "execution_count": null,
   "metadata": {},
   "outputs": [],
   "source": [
    "import strm2stl.numpy2stl.numpy2stl as np3D\n",
    "\n",
    "def savefile(out_dir, name, im2 ):\n",
    "\tif not os.path.isdir(out_dir): return\n",
    "\n",
    "\tout_dir = out_dir + name \n",
    "\tos.makedirs(out_dir,exist_ok=True)\n",
    "\t\n",
    "\ttri = np3D.numpy2stl(im2)\n",
    "\tfacets = np3D.triangles_to_facets(tri)\n",
    "\tprint(\"Saving\")\n",
    "\tnp3D.writeSTL(facets, out_dir + \"/\" + name + \".stl\")"
   ]
  },
  {
   "cell_type": "code",
   "execution_count": null,
   "metadata": {},
   "outputs": [],
   "source": [
    "out_dir = \"C:/Users/eac84/Desktop/Desktop/Tasks/STL/Maps/\"\n",
    "\n",
    "savefile(out_dir, \"Barranquilla\", landscape )"
   ]
  },
  {
   "cell_type": "markdown",
   "metadata": {},
   "source": [
    "## SPA Race Track"
   ]
  },
  {
   "cell_type": "code",
   "execution_count": null,
   "metadata": {},
   "outputs": [],
   "source": [
    "from osmnx import utils_geo"
   ]
  },
  {
   "cell_type": "code",
   "execution_count": null,
   "metadata": {},
   "outputs": [],
   "source": [
    "#gdf = ox.features_from_place(\"Spa, Belgium\", tags)\n",
    "\n",
    "N,W = 50.438343, 5.970514\n",
    "bbox = utils_geo.bbox_from_point((N,W), dist=2000)\n",
    "n,s,e,w = bbox\n",
    "dem = DEM(Root, (n,s,e,w))\n",
    "G =  ox.graph_from_bbox( *bbox, network_type='all')\n",
    "rivers2 = graph2lines(G)\n",
    "\n",
    "\n"
   ]
  },
  {
   "cell_type": "code",
   "execution_count": null,
   "metadata": {},
   "outputs": [],
   "source": [
    "tags = {'building': True}\n",
    "gdf = ox.features.features_from_bbox(*bbox, tags = tags)"
   ]
  },
  {
   "cell_type": "code",
   "execution_count": null,
   "metadata": {},
   "outputs": [],
   "source": [
    "gdf"
   ]
  },
  {
   "cell_type": "code",
   "execution_count": null,
   "metadata": {},
   "outputs": [],
   "source": []
  },
  {
   "cell_type": "code",
   "execution_count": null,
   "metadata": {},
   "outputs": [],
   "source": [
    "\n",
    "fig, ax = plt.subplots(1, 1, figsize=(20, 10))\n",
    "\n",
    "for line in rivers2:\n",
    "    x,y = line.pts\n",
    "    ax[0].plot(x,y,\"g\")\n",
    "    \n",
    "ax[0].grid(True)"
   ]
  },
  {
   "cell_type": "code",
   "execution_count": null,
   "metadata": {},
   "outputs": [],
   "source": [
    "dem.draw()"
   ]
  },
  {
   "cell_type": "code",
   "execution_count": null,
   "metadata": {},
   "outputs": [],
   "source": [
    "\n",
    "plt.figure()\n",
    "for u, v, data in G.edges(keys=False, data=True):\n",
    "\n",
    "\tcolor = \"g\"     \n",
    "\tif \"name\" in data:  \n",
    "\t\t\n",
    "\t\tname = data[\"name\"]\n",
    "\t\tcolor = \"b\"     \n",
    "\t\tprint(name)\n",
    "\t\tif \"Circuit\" in name:\n",
    "\t\t\tcolor = \"r\"\n",
    "\n",
    "\n",
    "\tif 'highway' in data:\n",
    "\t\tif data[\"highway\"] == \"track\":\n",
    "\t\t\tcolor = \"m\"\n",
    "\t\t\tcontinue\n",
    "\n",
    "\tif 'ref' in data: \n",
    "\t\tcolor = \"y\"\n",
    "\t\t#'N62c'\n",
    "\n",
    "\tif \"geometry\" in data: \n",
    "\t\tpts = np.array(data[\"geometry\"].xy)\n",
    "\telse:\n",
    "\t\tnode = G.nodes\n",
    "\t\tpts = [[ node[u]['x'], node[v]['x']],\n",
    "\t\t\t[ node[u]['y'], node[v]['y']]]\n",
    "\t\tpts = np.array(pts)\n",
    "\n",
    "\tplt.plot(pts[0],pts[1], color = color)\t\t\t\n"
   ]
  },
  {
   "cell_type": "code",
   "execution_count": 92,
   "metadata": {},
   "outputs": [],
   "source": [
    "polygons = []\n",
    "for n,row in enumerate(gdf.itertuples(index=False)):\n",
    "\tgeometry = row.geometry\n",
    "\n",
    "\tif isinstance(geometry, Polygon):\n",
    "\t\tpts = np.array(geometry.exterior.xy)\n",
    "\t\tpoly = {\"points\":pts}\n",
    "\t\tpolygons.append(poly)\n",
    "\telif isinstance(geometry, MultiPolygon):\n",
    "\t\t#if geometry is multipolygon, go through each subpolygon \n",
    "\t\tfor subpolygon in geometry.geoms: \n",
    "\t\t\tpts = np.array(subpolygon.exterior.xy)\n",
    "\t\t\tpoly = {\"points\":pts}\n",
    "\t\t\tpolygons.append(poly)\n"
   ]
  },
  {
   "cell_type": "code",
   "execution_count": 96,
   "metadata": {},
   "outputs": [],
   "source": [
    "for p in polygons:\n",
    "  x,y = p[\"points\"]\n",
    "  plt.fill(x,y)"
   ]
  },
  {
   "cell_type": "code",
   "execution_count": 97,
   "metadata": {},
   "outputs": [
    {
     "name": "stderr",
     "output_type": "stream",
     "text": [
      "c:\\Users\\eac84\\anaconda3\\lib\\site-packages\\ipykernel\\ipkernel.py:287: DeprecationWarning: `should_run_async` will not call `transform_cell` automatically in the future. Please pass the result to `transformed_cell` argument and any exception that happen during thetransform in `preprocessing_exc_tuple` in IPython 7.17 and above.\n",
      "  and should_run_async(code)\n"
     ]
    }
   ],
   "source": [
    "plt.grid(True)"
   ]
  },
  {
   "cell_type": "code",
   "execution_count": null,
   "metadata": {},
   "outputs": [],
   "source": [
    "from strm2stl.create import coor2im"
   ]
  },
  {
   "cell_type": "code",
   "execution_count": null,
   "metadata": {},
   "outputs": [],
   "source": [
    "demdata = rescale(demdata,sz_out=1000)"
   ]
  },
  {
   "cell_type": "code",
   "execution_count": null,
   "metadata": {},
   "outputs": [],
   "source": [
    "linepts = [line.pts for line in rivers2]\n",
    "\n",
    "lineptsim = [coor2im(((n,s),(w,e)), ((0,demdata.shape[0]),(0,demdata.shape[1])), pts.T) \n",
    "             for pts in linepts]\n",
    "\n",
    "lines_im = embed_lines(demdata.T, lineptsim , res=1).T"
   ]
  },
  {
   "cell_type": "code",
   "execution_count": null,
   "metadata": {},
   "outputs": [],
   "source": [
    "lines_im = 50*embed_lines(demdata.T, lineptsim , res=1).T + demdata"
   ]
  },
  {
   "cell_type": "code",
   "execution_count": null,
   "metadata": {},
   "outputs": [],
   "source": [
    "out_dir = \"C:/Users/eac84/Desktop/Desktop/Tasks/STL/Maps/\"\n",
    "\n",
    "lines_im = lines_im - lines_im.min() + 1\n",
    "savefile(out_dir, \"Spa\", lines_im )"
   ]
  },
  {
   "cell_type": "code",
   "execution_count": null,
   "metadata": {},
   "outputs": [],
   "source": [
    "plt.figure()\n",
    "plt.imshow(lines_im )"
   ]
  },
  {
   "cell_type": "code",
   "execution_count": null,
   "metadata": {},
   "outputs": [],
   "source": [
    "demdata.min(), demdata.max()"
   ]
  },
  {
   "cell_type": "markdown",
   "metadata": {},
   "source": []
  }
 ],
 "metadata": {
  "kernelspec": {
   "display_name": "Python 3",
   "language": "python",
   "name": "python3"
  },
  "language_info": {
   "codemirror_mode": {
    "name": "ipython",
    "version": 3
   },
   "file_extension": ".py",
   "mimetype": "text/x-python",
   "name": "python",
   "nbconvert_exporter": "python",
   "pygments_lexer": "ipython3",
   "version": "3.8.8"
  }
 },
 "nbformat": 4,
 "nbformat_minor": 4
}
