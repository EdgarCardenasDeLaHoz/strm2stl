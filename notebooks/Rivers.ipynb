{
 "cells": [
  {
   "cell_type": "code",
   "execution_count": null,
   "metadata": {},
   "outputs": [],
   "source": [
    "%load_ext line_profiler\n",
    "%load_ext autoreload\n",
    "%autoreload 2"
   ]
  },
  {
   "cell_type": "code",
   "execution_count": null,
   "metadata": {},
   "outputs": [],
   "source": [
    "\n",
    "\n",
    "from strm2stl.dem2stl import *\n",
    "from strm2stl.osm2stl import *\n",
    "\n",
    "import osmnx as ox\n",
    "import numpy as np"
   ]
  },
  {
   "cell_type": "code",
   "execution_count": null,
   "metadata": {},
   "outputs": [],
   "source": [
    "%matplotlib qt"
   ]
  },
  {
   "cell_type": "code",
   "execution_count": null,
   "metadata": {},
   "outputs": [],
   "source": []
  },
  {
   "cell_type": "code",
   "execution_count": null,
   "metadata": {},
   "outputs": [],
   "source": [
    "bounds,bbox = get_boundries_osmnx('Colombia')\n"
   ]
  },
  {
   "cell_type": "code",
   "execution_count": null,
   "metadata": {},
   "outputs": [],
   "source": [
    "Root = \"C:\\\\Users\\\\eac84\\\\Desktop\""
   ]
  },
  {
   "cell_type": "code",
   "execution_count": null,
   "metadata": {},
   "outputs": [],
   "source": [
    "dem = DEM(Root,bbox)\n",
    "dem.lines = bounds\n",
    "dem.draw()"
   ]
  },
  {
   "cell_type": "code",
   "execution_count": null,
   "metadata": {},
   "outputs": [],
   "source": [
    "%matplotlib qt"
   ]
  },
  {
   "cell_type": "code",
   "execution_count": null,
   "metadata": {},
   "outputs": [],
   "source": [
    "dem.draw()"
   ]
  },
  {
   "cell_type": "code",
   "execution_count": null,
   "metadata": {},
   "outputs": [],
   "source": [
    "bbox = np.array([  1.8,  -5.0, -74.5 , -82.2])\n",
    "dem = DEM(Root,bbox)\n"
   ]
  },
  {
   "cell_type": "code",
   "execution_count": null,
   "metadata": {},
   "outputs": [],
   "source": [
    "red = dem.data**0.2\n",
    "red = np.stack((red,red*0,red*0),axis=2)\n",
    "red = red/red.max()*255\n",
    "red = red.astype(np.uint8)\n",
    "plt.imshow(red)"
   ]
  },
  {
   "cell_type": "code",
   "execution_count": null,
   "metadata": {},
   "outputs": [],
   "source": [
    "rivers, G = get_rivers(bbox, incl_streams=False)"
   ]
  },
  {
   "cell_type": "code",
   "execution_count": null,
   "metadata": {},
   "outputs": [],
   "source": [
    "%lprun -f ox.graph_from_polygon get_rivers(bbox, incl_streams=False)"
   ]
  },
  {
   "cell_type": "code",
   "execution_count": null,
   "metadata": {},
   "outputs": [],
   "source": [
    "red = dem.data"
   ]
  },
  {
   "cell_type": "code",
   "execution_count": null,
   "metadata": {},
   "outputs": [],
   "source": [
    "#pts = bounds.pts\n",
    "#plt.plot(pts[0],pts[1],'r')\n",
    "\n",
    "for line in rivers:\n",
    "    x,y = line.pts\n",
    "    plt.plot(x,y,\"g\")\n",
    "    \n",
    "plt.grid(True)"
   ]
  },
  {
   "cell_type": "code",
   "execution_count": null,
   "metadata": {},
   "outputs": [],
   "source": [
    "ox.utils.config()"
   ]
  },
  {
   "cell_type": "code",
   "execution_count": null,
   "metadata": {},
   "outputs": [],
   "source": [
    "ox.utils.config(max_query_area_size = 1000000**2)\n",
    "print( ox.settings.max_query_area_size )"
   ]
  },
  {
   "cell_type": "code",
   "execution_count": null,
   "metadata": {},
   "outputs": [],
   "source": [
    "np.sqrt(max_que_area)"
   ]
  },
  {
   "cell_type": "code",
   "execution_count": null,
   "metadata": {},
   "outputs": [],
   "source": [
    "from osmnx import downloader\n",
    "from osmnx import truncate"
   ]
  },
  {
   "cell_type": "code",
   "execution_count": null,
   "metadata": {},
   "outputs": [],
   "source": [
    "nodes,edges = ox.graph_to_gdfs(G, edges=True)\n",
    "graph_area_m = nodes.unary_union.convex_hull.area\n",
    "ox.basic_stats(G, area=graph_area_m, clean_intersects=True, circuity_dist='euclidean')"
   ]
  },
  {
   "cell_type": "code",
   "execution_count": null,
   "metadata": {},
   "outputs": [],
   "source": [
    "stats = ox.basic_stats(G, area=graph_area_m, clean_intersects=True, circuity_dist='euclidean')"
   ]
  },
  {
   "cell_type": "code",
   "execution_count": null,
   "metadata": {},
   "outputs": [],
   "source": []
  },
  {
   "cell_type": "code",
   "execution_count": null,
   "metadata": {},
   "outputs": [],
   "source": []
  },
  {
   "cell_type": "code",
   "execution_count": null,
   "metadata": {},
   "outputs": [],
   "source": [
    "wccs = nx.connected_components(G)"
   ]
  },
  {
   "cell_type": "code",
   "execution_count": null,
   "metadata": {},
   "outputs": [],
   "source": [
    "import networkx as nx"
   ]
  },
  {
   "cell_type": "code",
   "execution_count": null,
   "metadata": {},
   "outputs": [],
   "source": [
    "cc = nx.weakly_connected_components(G)"
   ]
  },
  {
   "cell_type": "code",
   "execution_count": null,
   "metadata": {},
   "outputs": [],
   "source": [
    "ccG = [ccs  for ccs in cc if len(ccs)>10]"
   ]
  },
  {
   "cell_type": "code",
   "execution_count": null,
   "metadata": {},
   "outputs": [],
   "source": [
    "nodes = []\n",
    "for cc in ccG:\n",
    "    nodes.extend(list(cc))"
   ]
  },
  {
   "cell_type": "code",
   "execution_count": null,
   "metadata": {},
   "outputs": [],
   "source": [
    "G_sub = G.subgraph(nodes)\n",
    "\n"
   ]
  },
  {
   "cell_type": "code",
   "execution_count": null,
   "metadata": {},
   "outputs": [],
   "source": [
    "for u, v, data in G_sub.edges(keys=False, data=True):\n",
    "\n",
    "    if \"geometry\" in data: \n",
    "        pts = np.array(data[\"geometry\"].xy)\n",
    "    else:\n",
    "        node = G.nodes\n",
    "        pts = [[ node[u]['x'], node[v]['x']],\n",
    "               [ node[u]['y'], node[v]['y']]]\n",
    "        pts = np.array(pts)\n",
    "            \n",
    "    plt.plot(pts[0],pts[1],'b')"
   ]
  },
  {
   "cell_type": "markdown",
   "metadata": {},
   "source": [
    "## Coasts and Islands"
   ]
  },
  {
   "cell_type": "code",
   "execution_count": null,
   "metadata": {},
   "outputs": [],
   "source": [
    "import osmnx as ox\n",
    "import matplotlib.pyplot as plt\n",
    "from shapely.geometry import Polygon, MultiPolygon, LineString, MultiLineString"
   ]
  },
  {
   "cell_type": "code",
   "execution_count": 87,
   "metadata": {},
   "outputs": [
    {
     "name": "stderr",
     "output_type": "stream",
     "text": [
      "c:\\Users\\eac84\\anaconda3\\lib\\site-packages\\ipykernel\\ipkernel.py:287: DeprecationWarning: `should_run_async` will not call `transform_cell` automatically in the future. Please pass the result to `transformed_cell` argument and any exception that happen during thetransform in `preprocessing_exc_tuple` in IPython 7.17 and above.\n",
      "  and should_run_async(code)\n"
     ]
    }
   ],
   "source": [
    "import osmnx as ox\n",
    "import plotly.graph_objects as go\n",
    "\n",
    "# Define the bounding box coordinates (north, south, east, west)\n",
    "north, south, east, west = 28.0, 27, -80.0, -80.6\n",
    "\n",
    "# Define the tags for water bodies, rivers, and islands\n",
    "tags = {'natural': ['water']}\n",
    "\n",
    "# Download land, rivers, and islands using the bounding box\n",
    "water_bodies = ox.features_from_bbox(north, south, east, west, tags)\n",
    "\n",
    "water_bodies2 = water_bodies[~water_bodies[\"water\"].isin([\"pond\", \"reservoir\", 'basin','river','lake','canal','wastewater'])]\n",
    "#water_bodies2 = water_bodies2[~water_bodies2[\"natural\"].isin([\"water\"])]"
   ]
  },
  {
   "cell_type": "code",
   "execution_count": 76,
   "metadata": {},
   "outputs": [
    {
     "name": "stderr",
     "output_type": "stream",
     "text": [
      "c:\\Users\\eac84\\anaconda3\\lib\\site-packages\\ipykernel\\ipkernel.py:287: DeprecationWarning: `should_run_async` will not call `transform_cell` automatically in the future. Please pass the result to `transformed_cell` argument and any exception that happen during thetransform in `preprocessing_exc_tuple` in IPython 7.17 and above.\n",
      "  and should_run_async(code)\n"
     ]
    }
   ],
   "source": [
    "\n",
    "# Define the tags for water bodies, rivers, and islands\n",
    "tags = {\n",
    "    'place': ['island', 'islet', 'peninsula'],\n",
    "    'natural': ['land', 'beach', 'wood', 'scrub'],\n",
    "}\n",
    "\n",
    "\n",
    "# Download land, rivers, and islands using the bounding box\n",
    "islands = ox.features_from_bbox(north, south, east, west, tags)\n"
   ]
  },
  {
   "cell_type": "code",
   "execution_count": null,
   "metadata": {},
   "outputs": [],
   "source": [
    "\n",
    "water_bodies = water_bodies.dropna(axis=1, how='all')\n"
   ]
  },
  {
   "cell_type": "code",
   "execution_count": 100,
   "metadata": {},
   "outputs": [
    {
     "name": "stderr",
     "output_type": "stream",
     "text": [
      "c:\\Users\\eac84\\anaconda3\\lib\\site-packages\\ipykernel\\ipkernel.py:287: DeprecationWarning: `should_run_async` will not call `transform_cell` automatically in the future. Please pass the result to `transformed_cell` argument and any exception that happen during thetransform in `preprocessing_exc_tuple` in IPython 7.17 and above.\n",
      "  and should_run_async(code)\n"
     ]
    },
    {
     "data": {
      "text/plain": [
       "element_type  osmid    \n",
       "way           103430618    NaN\n",
       "              103536551    NaN\n",
       "              103537974    NaN\n",
       "              103541429    NaN\n",
       "              103541430    NaN\n",
       "                          ... \n",
       "relation      4061693      NaN\n",
       "              4061694      NaN\n",
       "              4061695      NaN\n",
       "              10959708     NaN\n",
       "              12418046     NaN\n",
       "Name: water, Length: 1658, dtype: object"
      ]
     },
     "execution_count": 100,
     "metadata": {},
     "output_type": "execute_result"
    }
   ],
   "source": [
    "water_bodies2[\"water\"]"
   ]
  },
  {
   "cell_type": "code",
   "execution_count": null,
   "metadata": {},
   "outputs": [],
   "source": [
    "import osmnx as ox\n",
    "import matplotlib.pyplot as plt\n",
    "from shapely.geometry import Polygon, MultiPolygon, LineString, MultiLineString"
   ]
  },
  {
   "cell_type": "code",
   "execution_count": 85,
   "metadata": {},
   "outputs": [
    {
     "name": "stderr",
     "output_type": "stream",
     "text": [
      "c:\\Users\\eac84\\anaconda3\\lib\\site-packages\\ipykernel\\ipkernel.py:287: DeprecationWarning: `should_run_async` will not call `transform_cell` automatically in the future. Please pass the result to `transformed_cell` argument and any exception that happen during thetransform in `preprocessing_exc_tuple` in IPython 7.17 and above.\n",
      "  and should_run_async(code)\n"
     ]
    }
   ],
   "source": [
    "# Define the tags for water bodies, rivers, and islands\n",
    "tags = {'place': ['bay','strait']}"
   ]
  },
  {
   "cell_type": "code",
   "execution_count": 86,
   "metadata": {},
   "outputs": [
    {
     "ename": "InsufficientResponseError",
     "evalue": "No data elements in server response. Check log and query location/tags.",
     "output_type": "error",
     "traceback": [
      "\u001b[1;31m---------------------------------------------------------------------------\u001b[0m",
      "\u001b[1;31mInsufficientResponseError\u001b[0m                 Traceback (most recent call last)",
      "\u001b[1;32m<ipython-input-86-f1ea8a09bf38>\u001b[0m in \u001b[0;36m<module>\u001b[1;34m\u001b[0m\n\u001b[0;32m      1\u001b[0m \u001b[1;31m# Download land, rivers, and islands using the bounding box\u001b[0m\u001b[1;33m\u001b[0m\u001b[1;33m\u001b[0m\u001b[1;33m\u001b[0m\u001b[0m\n\u001b[1;32m----> 2\u001b[1;33m \u001b[0mwater_bodies\u001b[0m \u001b[1;33m=\u001b[0m \u001b[0mox\u001b[0m\u001b[1;33m.\u001b[0m\u001b[0mfeatures_from_bbox\u001b[0m\u001b[1;33m(\u001b[0m\u001b[0mnorth\u001b[0m\u001b[1;33m,\u001b[0m \u001b[0msouth\u001b[0m\u001b[1;33m,\u001b[0m \u001b[0meast\u001b[0m\u001b[1;33m,\u001b[0m \u001b[0mwest\u001b[0m\u001b[1;33m,\u001b[0m \u001b[0mtags\u001b[0m\u001b[1;33m)\u001b[0m\u001b[1;33m\u001b[0m\u001b[1;33m\u001b[0m\u001b[0m\n\u001b[0m",
      "\u001b[1;32mc:\\Users\\eac84\\anaconda3\\lib\\site-packages\\osmnx\\features.py\u001b[0m in \u001b[0;36mfeatures_from_bbox\u001b[1;34m(north, south, east, west, tags)\u001b[0m\n\u001b[0;32m    121\u001b[0m \u001b[1;33m\u001b[0m\u001b[0m\n\u001b[0;32m    122\u001b[0m     \u001b[1;31m# create GeoDataFrame of features within this polygon\u001b[0m\u001b[1;33m\u001b[0m\u001b[1;33m\u001b[0m\u001b[1;33m\u001b[0m\u001b[0m\n\u001b[1;32m--> 123\u001b[1;33m     \u001b[1;32mreturn\u001b[0m \u001b[0mfeatures_from_polygon\u001b[0m\u001b[1;33m(\u001b[0m\u001b[0mpolygon\u001b[0m\u001b[1;33m,\u001b[0m \u001b[0mtags\u001b[0m\u001b[1;33m)\u001b[0m\u001b[1;33m\u001b[0m\u001b[1;33m\u001b[0m\u001b[0m\n\u001b[0m\u001b[0;32m    124\u001b[0m \u001b[1;33m\u001b[0m\u001b[0m\n\u001b[0;32m    125\u001b[0m \u001b[1;33m\u001b[0m\u001b[0m\n",
      "\u001b[1;32mc:\\Users\\eac84\\anaconda3\\lib\\site-packages\\osmnx\\features.py\u001b[0m in \u001b[0;36mfeatures_from_polygon\u001b[1;34m(polygon, tags)\u001b[0m\n\u001b[0;32m    334\u001b[0m \u001b[1;33m\u001b[0m\u001b[0m\n\u001b[0;32m    335\u001b[0m     \u001b[1;31m# create GeoDataFrame from the downloaded data\u001b[0m\u001b[1;33m\u001b[0m\u001b[1;33m\u001b[0m\u001b[1;33m\u001b[0m\u001b[0m\n\u001b[1;32m--> 336\u001b[1;33m     \u001b[1;32mreturn\u001b[0m \u001b[0m_create_gdf\u001b[0m\u001b[1;33m(\u001b[0m\u001b[0mresponse_jsons\u001b[0m\u001b[1;33m,\u001b[0m \u001b[0mpolygon\u001b[0m\u001b[1;33m,\u001b[0m \u001b[0mtags\u001b[0m\u001b[1;33m)\u001b[0m\u001b[1;33m\u001b[0m\u001b[1;33m\u001b[0m\u001b[0m\n\u001b[0m\u001b[0;32m    337\u001b[0m \u001b[1;33m\u001b[0m\u001b[0m\n\u001b[0;32m    338\u001b[0m \u001b[1;33m\u001b[0m\u001b[0m\n",
      "\u001b[1;32mc:\\Users\\eac84\\anaconda3\\lib\\site-packages\\osmnx\\features.py\u001b[0m in \u001b[0;36m_create_gdf\u001b[1;34m(response_jsons, polygon, tags)\u001b[0m\n\u001b[0;32m    474\u001b[0m     \u001b[1;32mif\u001b[0m \u001b[0mlen\u001b[0m\u001b[1;33m(\u001b[0m\u001b[0mgeometries\u001b[0m\u001b[1;33m)\u001b[0m \u001b[1;33m==\u001b[0m \u001b[1;36m0\u001b[0m\u001b[1;33m:\u001b[0m  \u001b[1;31m# pragma: no cover\u001b[0m\u001b[1;33m\u001b[0m\u001b[1;33m\u001b[0m\u001b[0m\n\u001b[0;32m    475\u001b[0m         \u001b[0mmsg\u001b[0m \u001b[1;33m=\u001b[0m \u001b[1;34m\"No data elements in server response. Check log and query location/tags.\"\u001b[0m\u001b[1;33m\u001b[0m\u001b[1;33m\u001b[0m\u001b[0m\n\u001b[1;32m--> 476\u001b[1;33m         \u001b[1;32mraise\u001b[0m \u001b[0mInsufficientResponseError\u001b[0m\u001b[1;33m(\u001b[0m\u001b[0mmsg\u001b[0m\u001b[1;33m)\u001b[0m\u001b[1;33m\u001b[0m\u001b[1;33m\u001b[0m\u001b[0m\n\u001b[0m\u001b[0;32m    477\u001b[0m \u001b[1;33m\u001b[0m\u001b[0m\n\u001b[0;32m    478\u001b[0m     \u001b[1;31m# remove untagged elements from the final dict of geometries\u001b[0m\u001b[1;33m\u001b[0m\u001b[1;33m\u001b[0m\u001b[1;33m\u001b[0m\u001b[0m\n",
      "\u001b[1;31mInsufficientResponseError\u001b[0m: No data elements in server response. Check log and query location/tags."
     ]
    }
   ],
   "source": [
    "# Download land, rivers, and islands using the bounding box\n",
    "water_bodies = ox.features_from_bbox(north, south, east, west, tags)\n"
   ]
  },
  {
   "cell_type": "code",
   "execution_count": null,
   "metadata": {},
   "outputs": [],
   "source": [
    "water_bodies2 = water_bodies[~water_bodies[\"water\"].isin([\"pond\", \"reservoir\", 'basin','river','lake','canal','wastewater'])]\n",
    "#water_bodies2 = water_bodies2[~water_bodies2[\"natural\"].isin([\"water\"])]"
   ]
  },
  {
   "cell_type": "code",
   "execution_count": 102,
   "metadata": {},
   "outputs": [
    {
     "name": "stdout",
     "output_type": "stream",
     "text": [
      "ele\n",
      "[nan '3' '0' '1']\n",
      "gnis:feature_id\n",
      "[nan '292801' '279196' '308280']\n",
      "name\n",
      "[nan 'North Lake' 'Center Lake' 'Southeast Lake' 'Southwest Lake'\n",
      " 'Osprey Acres Floway' 'Indian River Lagoon' 'Wabasso Beach' 'Lac'\n",
      " 'Ute Lake' 'Tidal Cove Beach' \"Capt Hiram's Resort - Bimini Beach\"\n",
      " 'Little Mud Creek Beach' 'Blind Creek Beach South'\n",
      " 'Blind Creek Beach North' 'Walton Rocks Beach' 'Bonair Beach'\n",
      " 'Jensen Beach Park' 'Jensen Beach' 'Bouy Scout Island' 'Boy Scout Island'\n",
      " 'Bird Sanctuary Island' 'The Saint Lucie North Sandbar']\n",
      "geometry\n",
      "<GeometryArray>\n",
      "[<POLYGON ((-80.351 27.228, -80.351 27.228, -80.352 27.228, -80.352 27.228, -...>,\n",
      " <POLYGON ((-80.333 27.215, -80.333 27.215, -80.333 27.215, -80.333 27.215, -...>,\n",
      " <POLYGON ((-80.298 27.307, -80.298 27.307, -80.299 27.307, -80.299 27.307, -...>,\n",
      " <POLYGON ((-80.399 27.322, -80.399 27.322, -80.399 27.322, -80.4 27.322, -80...>,\n",
      " <POLYGON ((-80.385 27.333, -80.386 27.333, -80.386 27.334, -80.386 27.334, -...>,\n",
      " <POLYGON ((-80.395 27.327, -80.395 27.328, -80.395 27.328, -80.395 27.328, -...>,\n",
      " <POLYGON ((-80.392 27.334, -80.391 27.334, -80.391 27.335, -80.391 27.335, -...>,\n",
      " <POLYGON ((-80.39 27.333, -80.39 27.333, -80.391 27.333, -80.391 27.333, -80...>,\n",
      " <POLYGON ((-80.39 27.331, -80.39 27.331, -80.39 27.331, -80.39 27.331, -80.3...>,\n",
      " <POLYGON ((-80.393 27.324, -80.393 27.324, -80.392 27.324, -80.392 27.324, -...>,\n",
      " ...\n",
      " <POLYGON ((-80.263 27.095, -80.263 27.095, -80.263 27.096, -80.263 27.096, -...>,\n",
      " <POLYGON ((-80.265 27.102, -80.265 27.102, -80.265 27.102, -80.265 27.102, -...>,\n",
      " <POLYGON ((-80.271 27.089, -80.271 27.089, -80.271 27.089, -80.271 27.089, -...>,\n",
      " <POLYGON ((-80.27 27.091, -80.27 27.091, -80.27 27.091, -80.27 27.091, -80.2...>,\n",
      " <POLYGON ((-80.149 27.06, -80.149 27.06, -80.149 27.06, -80.149 27.06, -80.1...>,\n",
      " <POLYGON ((-80.149 27.059, -80.149 27.059, -80.149 27.059, -80.148 27.059, -...>,\n",
      " <POLYGON ((-80.148 27.059, -80.148 27.059, -80.148 27.059, -80.148 27.059, -...>,\n",
      " <POLYGON ((-80.152 27.065, -80.152 27.065, -80.152 27.065, -80.152 27.065, -...>,\n",
      " <POLYGON ((-80.151 27.086, -80.151 27.086, -80.151 27.086, -80.151 27.086, -...>,\n",
      " <POLYGON ((-80.164 27.095, -80.164 27.095, -80.164 27.095, -80.164 27.095, -...>]\n",
      "Length: 1658, dtype: geometry\n",
      "gnis:county_id\n",
      "[nan '061' '085' '111']\n",
      "gnis:created\n",
      "[nan '10/19/1979' '08/28/1987']\n",
      "gnis:state_id\n",
      "[nan '12']\n",
      "place\n",
      "[nan 'island' 'islet']\n",
      "wikidata\n",
      "[nan 'Q1141324' 'Q49320213' 'Q49507473']\n",
      "leisure\n",
      "[nan 'park']\n",
      "surface\n",
      "[nan 'sand']\n",
      "nodes\n",
      "source\n",
      "[nan 'Bing'\n",
      " 'TIGER/Line® 2008 Place Shapefiles (http://www.census.gov/geo/www/tiger/)'\n",
      " 'PGS' 'bing' 'bing with off set' 'PGS;aerial imagery']\n",
      "natural\n",
      "['water' 'beach' 'coastline']\n",
      "water\n",
      "[nan 'lagoon' 'yes' 'stream']\n",
      "wetland\n",
      "[nan 'mangrove']\n",
      "note\n",
      "[nan]\n",
      "basin\n",
      "[nan]\n",
      "landuse\n",
      "[nan]\n",
      "golf\n",
      "[nan 'water_hazard' 'lateral_water_hazard']\n",
      "intermittent\n",
      "[nan 'yes' 'no']\n",
      "ways\n",
      "type\n",
      "[nan 'multipolygon']\n",
      "area\n",
      "[nan 'yes']\n",
      "wikipedia\n",
      "[nan 'en:Indian River (Florida)']\n",
      "source:position\n",
      "[nan]\n",
      "source:tracer\n",
      "[nan]\n",
      "source:zoomlevel\n",
      "[nan]\n",
      "addr:city\n",
      "[nan]\n",
      "addr:housenumber\n",
      "[nan]\n",
      "addr:postcode\n",
      "[nan]\n",
      "addr:state\n",
      "[nan]\n",
      "addr:street\n",
      "[nan]\n",
      "name:ja\n",
      "[nan 'インディアン川']\n",
      "alt_name\n",
      "[nan]\n",
      "cosmha\n",
      "[nan 'yes']\n",
      "project\n",
      "[nan 'OTI_HRI_COSMHA_STM020']\n",
      "source_date\n",
      "[nan '11-04-2012' '12-04-2012']\n",
      "source_type_imagery\n",
      "[nan 'yes']\n",
      "salt\n",
      "[nan 'yes']\n",
      "tidal\n",
      "[nan 'yes' 'no']\n",
      "fishing\n",
      "[nan 'private']\n",
      "lifeguard\n",
      "[nan 'no']\n",
      "amenity\n",
      "[nan 'fountain']\n",
      "dog\n",
      "[nan 'no' 'yes']\n",
      "nudism\n",
      "[nan 'designated']\n",
      "wheelchair\n",
      "[nan 'yes']\n",
      "description\n",
      "[nan 'Small island with sandy beaches, popular for camping and fishing.'\n",
      " 'Protected area for bird nesting. Keep away area is posted in the water around the island.']\n"
     ]
    }
   ],
   "source": [
    "for col in water_bodies2:\n",
    "  \n",
    "\ttry:\n",
    "\t\tprint(col)\n",
    "\t\tprint(water_bodies2[col].unique())\n",
    "\texcept:\n",
    "\t\tpass\t"
   ]
  },
  {
   "cell_type": "code",
   "execution_count": 101,
   "metadata": {},
   "outputs": [
    {
     "name": "stderr",
     "output_type": "stream",
     "text": [
      "c:\\Users\\eac84\\anaconda3\\lib\\site-packages\\ipykernel\\ipkernel.py:287: DeprecationWarning: `should_run_async` will not call `transform_cell` automatically in the future. Please pass the result to `transformed_cell` argument and any exception that happen during thetransform in `preprocessing_exc_tuple` in IPython 7.17 and above.\n",
      "  and should_run_async(code)\n"
     ]
    },
    {
     "data": {
      "text/plain": [
       "array([nan, 'lagoon', 'yes', 'stream'], dtype=object)"
      ]
     },
     "execution_count": 101,
     "metadata": {},
     "output_type": "execute_result"
    }
   ],
   "source": [
    "water_bodies2[\"water\"].unique()"
   ]
  },
  {
   "cell_type": "code",
   "execution_count": null,
   "metadata": {},
   "outputs": [],
   "source": [
    "# Function to add traces to the plot\n",
    "def add_trace(ax, geom, name, color):\n",
    "    \n",
    "\tpts = []\n",
    "\tif isinstance(geom, Polygon):\n",
    "\t\tx, y = geom.exterior.xy\n",
    "\t\tpts.append((x,y))\n",
    "\telif isinstance(geom, MultiPolygon):\n",
    "\t\tfor poly in geom.geoms:\n",
    "\t\t\tx, y = poly.exterior.xy\n",
    "\t\t\tpts.append((x,y))\n",
    "\t\t\t\n",
    "\telif isinstance(geom, LineString):\n",
    "\t\tx, y = geom.xy\n",
    "\t\tpts.append((x,y))\n",
    "\t\t\n",
    "\telif isinstance(geom, MultiLineString):\n",
    "\t\tfor line in geom:\n",
    "\t\t\tx, y = line.xy\n",
    "\t\t\tpts.append((x,y))\n",
    "\t\t\t\n",
    "\telse: return\n",
    "\n",
    "\n",
    "\tfor x,y in pts:\n",
    "\t\tax.plot(x, y, color=color, label=name)\n",
    "\t\t#fig.add_trace(go.Scatter(\n",
    "\t\t#\t\tx=list(x), y=list(y),\n",
    "\t\t#\t\tmode='lines', name=name,\n",
    "\t\t#\t\tline=dict(color=color)))\n"
   ]
  },
  {
   "cell_type": "markdown",
   "metadata": {},
   "source": []
  },
  {
   "cell_type": "code",
   "execution_count": 77,
   "metadata": {},
   "outputs": [
    {
     "name": "stderr",
     "output_type": "stream",
     "text": [
      "c:\\Users\\eac84\\anaconda3\\lib\\site-packages\\ipykernel\\ipkernel.py:287: DeprecationWarning: `should_run_async` will not call `transform_cell` automatically in the future. Please pass the result to `transformed_cell` argument and any exception that happen during thetransform in `preprocessing_exc_tuple` in IPython 7.17 and above.\n",
      "  and should_run_async(code)\n"
     ]
    }
   ],
   "source": [
    "# Create a 2D plot\n",
    "plt.close(\"all\")\n",
    "fig, ax = plt.subplots()\n",
    "\n",
    "\n",
    "if 0:\n",
    "\t# Add water bodies to the plot\n",
    "\tfor idx, row in water_bodies2.iterrows():\n",
    "\t\tgeom = row['geometry']\n",
    "\t\tif not geom.is_empty:\n",
    "\t\t\tadd_trace(ax, geom, 'Water Body', 'blue')\n",
    "\n",
    "# Add islands to the plot\n",
    "for idx, row in islands.iterrows():\n",
    "    geom = row['geometry']\n",
    "    if not geom.is_empty:\n",
    "        add_trace(ax, geom, 'Island', 'green')\n",
    "\n",
    "# Update layout for better visualization\n",
    "ax.set_xlabel('Longitude')\n",
    "ax.set_ylabel('Latitude')\n",
    "ax.set_title('Outlines of Land, Rivers, and Islands')\n",
    "\n",
    "plt.show()"
   ]
  },
  {
   "cell_type": "code",
   "execution_count": 94,
   "metadata": {},
   "outputs": [
    {
     "name": "stderr",
     "output_type": "stream",
     "text": [
      "c:\\Users\\eac84\\anaconda3\\lib\\site-packages\\ipykernel\\ipkernel.py:287: DeprecationWarning: `should_run_async` will not call `transform_cell` automatically in the future. Please pass the result to `transformed_cell` argument and any exception that happen during thetransform in `preprocessing_exc_tuple` in IPython 7.17 and above.\n",
      "  and should_run_async(code)\n"
     ]
    }
   ],
   "source": [
    "# Create a 2D plot\n",
    "plt.close(\"all\")\n",
    "fig, ax = plt.subplots()\n",
    "\n",
    "# Add water bodies to the plot\n",
    "for idx, row in water_bodies2.iterrows():\n",
    "\tgeom = row['geometry']\n",
    "\tif not geom.is_empty:\n",
    "\t\tadd_trace(ax, geom, 'Water Body', 'blue')\n",
    "\n",
    "# Update layout for better visualization\n",
    "ax.set_xlabel('Longitude')\n",
    "ax.set_ylabel('Latitude')\n",
    "ax.set_title('Outlines of Land, Rivers, and Islands')\n",
    "\n",
    "plt.show()"
   ]
  },
  {
   "cell_type": "code",
   "execution_count": null,
   "metadata": {},
   "outputs": [],
   "source": [
    "%matplotlib qt"
   ]
  },
  {
   "cell_type": "code",
   "execution_count": null,
   "metadata": {},
   "outputs": [],
   "source": [
    "import rasterio\n",
    "from rasterio.features import rasterize"
   ]
  },
  {
   "cell_type": "code",
   "execution_count": null,
   "metadata": {},
   "outputs": [],
   "source": [
    "!pip install rasterio"
   ]
  },
  {
   "cell_type": "code",
   "execution_count": 97,
   "metadata": {},
   "outputs": [
    {
     "name": "stderr",
     "output_type": "stream",
     "text": [
      "c:\\Users\\eac84\\anaconda3\\lib\\site-packages\\ipykernel\\ipkernel.py:287: DeprecationWarning: `should_run_async` will not call `transform_cell` automatically in the future. Please pass the result to `transformed_cell` argument and any exception that happen during thetransform in `preprocessing_exc_tuple` in IPython 7.17 and above.\n",
      "  and should_run_async(code)\n"
     ]
    }
   ],
   "source": [
    "# Function to rasterize a single polygon\n",
    "def rasterize_polygon(raster, geom, value):\n",
    "    if isinstance(geom, MultiPolygon):\n",
    "        for poly in geom.geoms:\n",
    "            rasterize_polygon(raster,poly, value)\n",
    "    else:\n",
    "        # Apply affine transformation to scale and translate the polygon\n",
    "        x, y = geom.exterior.coords.xy\n",
    "\n",
    "        x = np.array(x)\n",
    "        y = np.array(y)     \n",
    "        \n",
    "        x_idx = np.clip(((x - west) / x_scale).astype(np.int32), 0, raster_width - 1)\n",
    "        y_idx = np.clip((-(y - north) / y_scale).astype(np.int32), 0, raster_height - 1)\n",
    "        raster[y_idx,x_idx] = value \n",
    "        mask = polygon2mask(raster.shape, np.array([y_idx,x_idx]).T)\n",
    "        raster[mask] = value \n",
    "\n",
    "    return raster"
   ]
  },
  {
   "cell_type": "code",
   "execution_count": 98,
   "metadata": {},
   "outputs": [
    {
     "ename": "AttributeError",
     "evalue": "'Point' object has no attribute 'exterior'",
     "output_type": "error",
     "traceback": [
      "\u001b[1;31m---------------------------------------------------------------------------\u001b[0m",
      "\u001b[1;31mAttributeError\u001b[0m                            Traceback (most recent call last)",
      "\u001b[1;32m<ipython-input-98-251b64be3c5c>\u001b[0m in \u001b[0;36m<module>\u001b[1;34m\u001b[0m\n\u001b[0;32m     29\u001b[0m     \u001b[0mgeom\u001b[0m \u001b[1;33m=\u001b[0m \u001b[0mrow\u001b[0m\u001b[1;33m[\u001b[0m\u001b[1;34m'geometry'\u001b[0m\u001b[1;33m]\u001b[0m\u001b[1;33m\u001b[0m\u001b[1;33m\u001b[0m\u001b[0m\n\u001b[0;32m     30\u001b[0m     \u001b[1;32mif\u001b[0m \u001b[1;32mnot\u001b[0m \u001b[0mgeom\u001b[0m\u001b[1;33m.\u001b[0m\u001b[0mis_empty\u001b[0m\u001b[1;33m:\u001b[0m\u001b[1;33m\u001b[0m\u001b[1;33m\u001b[0m\u001b[0m\n\u001b[1;32m---> 31\u001b[1;33m         \u001b[0mrasterize_polygon\u001b[0m\u001b[1;33m(\u001b[0m\u001b[0mraster\u001b[0m\u001b[1;33m,\u001b[0m \u001b[0mgeom\u001b[0m\u001b[1;33m,\u001b[0m \u001b[1;36m1\u001b[0m\u001b[1;33m)\u001b[0m\u001b[1;33m\u001b[0m\u001b[1;33m\u001b[0m\u001b[0m\n\u001b[0m\u001b[0;32m     32\u001b[0m \u001b[1;33m\u001b[0m\u001b[0m\n\u001b[0;32m     33\u001b[0m \u001b[1;31m# Plot the raster\u001b[0m\u001b[1;33m\u001b[0m\u001b[1;33m\u001b[0m\u001b[1;33m\u001b[0m\u001b[0m\n",
      "\u001b[1;32m<ipython-input-97-ef71edc1dda0>\u001b[0m in \u001b[0;36mrasterize_polygon\u001b[1;34m(raster, geom, value)\u001b[0m\n\u001b[0;32m      6\u001b[0m     \u001b[1;32melse\u001b[0m\u001b[1;33m:\u001b[0m\u001b[1;33m\u001b[0m\u001b[1;33m\u001b[0m\u001b[0m\n\u001b[0;32m      7\u001b[0m         \u001b[1;31m# Apply affine transformation to scale and translate the polygon\u001b[0m\u001b[1;33m\u001b[0m\u001b[1;33m\u001b[0m\u001b[1;33m\u001b[0m\u001b[0m\n\u001b[1;32m----> 8\u001b[1;33m         \u001b[0mx\u001b[0m\u001b[1;33m,\u001b[0m \u001b[0my\u001b[0m \u001b[1;33m=\u001b[0m \u001b[0mgeom\u001b[0m\u001b[1;33m.\u001b[0m\u001b[0mexterior\u001b[0m\u001b[1;33m.\u001b[0m\u001b[0mcoords\u001b[0m\u001b[1;33m.\u001b[0m\u001b[0mxy\u001b[0m\u001b[1;33m\u001b[0m\u001b[1;33m\u001b[0m\u001b[0m\n\u001b[0m\u001b[0;32m      9\u001b[0m \u001b[1;33m\u001b[0m\u001b[0m\n\u001b[0;32m     10\u001b[0m         \u001b[0mx\u001b[0m \u001b[1;33m=\u001b[0m \u001b[0mnp\u001b[0m\u001b[1;33m.\u001b[0m\u001b[0marray\u001b[0m\u001b[1;33m(\u001b[0m\u001b[0mx\u001b[0m\u001b[1;33m)\u001b[0m\u001b[1;33m\u001b[0m\u001b[1;33m\u001b[0m\u001b[0m\n",
      "\u001b[1;31mAttributeError\u001b[0m: 'Point' object has no attribute 'exterior'"
     ]
    }
   ],
   "source": [
    "import osmnx as ox\n",
    "import geopandas as gpd\n",
    "import numpy as np\n",
    "import matplotlib.pyplot as plt\n",
    "from shapely.geometry import Polygon, MultiPolygon\n",
    "\n",
    "from skimage.draw import polygon2mask\n",
    "\n",
    "north, south, east, west = 28.0, 27, -80.0, -80.6\n",
    "\n",
    "# Convert the filtered data to a GeoDataFrame\n",
    "gdf = gpd.GeoDataFrame(water_bodies2, geometry='geometry')\n",
    "\n",
    "# Define raster parameters\n",
    "raster_width = 1000  # Width of the raster\n",
    "raster_height = 1000  # Height of the raster\n",
    "\n",
    "# Create an empty raster grid\n",
    "raster = np.zeros((raster_height, raster_width))\n",
    "\n",
    "# Calculate transformation matrix\n",
    "x_scale = (east - west) / raster_width\n",
    "y_scale = (north - south) / raster_height\n",
    "transform_matrix = [x_scale, 0, 0, -y_scale, west, north]\n",
    "\n",
    "# Rasterize each polygon\n",
    "for idx, row in gdf.iterrows():\n",
    "    geom = row['geometry']\n",
    "    if not geom.is_empty:\n",
    "        rasterize_polygon(raster, geom, 1)\n",
    "\n",
    "# Plot the raster\n",
    "plt.figure()\n",
    "plt.imshow(raster, cmap='jet')\n",
    "plt.title('Rasterized Polygons')\n",
    "plt.xlabel('Longitude')\n",
    "plt.ylabel('Latitude')\n",
    "plt.show()"
   ]
  },
  {
   "cell_type": "code",
   "execution_count": null,
   "metadata": {},
   "outputs": [],
   "source": []
  }
 ],
 "metadata": {
  "kernelspec": {
   "display_name": "Python 3",
   "language": "python",
   "name": "python3"
  },
  "language_info": {
   "codemirror_mode": {
    "name": "ipython",
    "version": 3
   },
   "file_extension": ".py",
   "mimetype": "text/x-python",
   "name": "python",
   "nbconvert_exporter": "python",
   "pygments_lexer": "ipython3",
   "version": "undefined.undefined.undefined"
  }
 },
 "nbformat": 4,
 "nbformat_minor": 4
}
