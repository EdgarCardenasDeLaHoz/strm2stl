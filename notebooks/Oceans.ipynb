{
 "cells": [
  {
   "cell_type": "code",
   "execution_count": null,
   "metadata": {},
   "outputs": [],
   "source": [
    "!pip install trimesh\n",
    "!pip install triangle \n",
    "!pip install shapely"
   ]
  },
  {
   "cell_type": "code",
   "execution_count": null,
   "metadata": {},
   "outputs": [],
   "source": [
    "import os\n",
    "os.chdir(\"..\")\n",
    "from ui import location_picker\n",
    "location_picker.get_location()\n"
   ]
  },
  {
   "cell_type": "code",
   "execution_count": null,
   "metadata": {},
   "outputs": [],
   "source": [
    "import glob\n",
    "import numpy as np \n",
    "import re"
   ]
  },
  {
   "cell_type": "code",
   "execution_count": null,
   "metadata": {},
   "outputs": [],
   "source": [
    "import trimesh\n",
    "import strm2stl.numpy2stl.numpy2stl as np3D\n",
    "import cv2\n",
    "\n",
    "from skimage import io\n",
    "from skimage import filters\n",
    "import matplotlib.pyplot as plt\n",
    "\n",
    "from scipy import ndimage as ndi\n",
    "import os"
   ]
  },
  {
   "cell_type": "code",
   "execution_count": null,
   "metadata": {},
   "outputs": [],
   "source": [
    "from ui import location_picker"
   ]
  },
  {
   "cell_type": "code",
   "execution_count": null,
   "metadata": {},
   "outputs": [],
   "source": [
    "import numpy as np\n",
    "from PIL import Image\n",
    "import re\n",
    "import os\n",
    "\n",
    "def parse_extent_from_filename(filename):\n",
    "\tmatch = re.search(r'n([-\\d.]+)_s([-\\d.]+)_w([-\\d.]+)_e([-\\d.]+)', filename)\n",
    "\tif match:\n",
    "\t\tn, s, w, e = map(float, match.groups())\n",
    "\t\treturn (n, s, e, w)\n",
    "\telse:\n",
    "\t\traise ValueError(f\"Could not parse extent from {filename}\")\n",
    "\n",
    "def intersect_bbox(bbox1, bbox2):\n",
    "\tN1, S1, E1, W1 = bbox1\n",
    "\tN2, S2, E2, W2 = bbox2\n",
    "\tN = min(N1, N2)\n",
    "\tS = max(S1, S2)\n",
    "\tE = min(E1, E2)\n",
    "\tW = max(W1, W2)\n",
    "\tif N > S and E > W:\n",
    "\t\treturn (N, S, E, W)\n",
    "\treturn None\n",
    "\n",
    "def crop_tile_np(image_array, tile_bbox, crop_bbox):\n",
    "\ttile_N, tile_S, tile_E, tile_W = tile_bbox\n",
    "\tcrop_N, crop_S, crop_E, crop_W = crop_bbox\n",
    "\n",
    "\theight, width = image_array.shape\n",
    "\tlat_per_pixel = (tile_N - tile_S) / height\n",
    "\tlon_per_pixel = (tile_E - tile_W) / width\n",
    "\n",
    "\ty1 = int((tile_N - crop_N) / lat_per_pixel)\n",
    "\ty2 = int((tile_N - crop_S) / lat_per_pixel)\n",
    "\tx1 = int((crop_W - tile_W) / lon_per_pixel)\n",
    "\tx2 = int((crop_E - tile_W) / lon_per_pixel)\n",
    "\n",
    "\treturn image_array[y1:y2, x1:x2]\n",
    "\n",
    "def parse_extent_from_filename(filename):\n",
    "\tmatch = re.search(r'n([-\\d.]+)_s([-\\d.]+)_w([-\\d.]+)_e([-\\d.]+)', filename)\n",
    "\tif match:\n",
    "\t\tparts = match.groups()\n",
    "\t\t# Remove trailing dots and convert to float\n",
    "\t\ttry:\n",
    "\t\t\tn, s, w, e = [float(p.rstrip('.')) for p in parts]\n",
    "\t\texcept ValueError:\n",
    "\t\t\traise ValueError(f\"Could not convert parts to float: {parts}\")\n",
    "\t\treturn (n, s, e, w)\n",
    "\telse:\n",
    "\t\traise ValueError(f\"Could not parse extent from filename: {filename}\")\n",
    "\n",
    "def stitch_tiles_no_rasterio(tile_files, target_bbox):\n",
    "\tprint(\"==== Stitching tiles without rasterio ====\")\n",
    "\tprint(f\"Target bounding box: {target_bbox}\")\n",
    "\t\n",
    "\n",
    "\trows = {}\n",
    "\n",
    "\tfor fn in tile_files:\n",
    "\t\ttile_bbox = parse_extent_from_filename(os.path.basename(fn))\n",
    "\t\t#print(f\"Tile: {fn}\\n Parsed extent: {tile_bbox}\")\n",
    "\n",
    "\t\tintersection = intersect_bbox(tile_bbox, target_bbox)\n",
    "\t\t#print(f\" Intersection: {intersection}\")\n",
    "\n",
    "\t\tif not intersection:\n",
    "\t\t\t#print(\" Skipping due to no intersection.\")\n",
    "\t\t\tcontinue\n",
    "\n",
    "\t\ttry:\n",
    "\t\t\timage_array = io.imread(fn)\t\n",
    "\t\texcept Exception as e:\n",
    "\t\t\tprint(f\"⚠️ Failed to open {fn}: {e}\")\n",
    "\t\t\tcontinue\n",
    "\n",
    "\t\tcropped = crop_tile_np(image_array, tile_bbox, intersection)\n",
    "\t\trow_key = intersection[0]\n",
    "\t\trows.setdefault(row_key, []).append((intersection[3], cropped))  # use W for sorting\n",
    "\n",
    "\tif not rows:\n",
    "\t\tprint(\"==== No tiles matched ====\")\n",
    "\t\treturn None\n",
    "\n",
    "\tstitched_rows = []\n",
    "\tfor N in sorted(rows.keys(), reverse=True):\n",
    "\t\ttiles = sorted(rows[N], key=lambda t: t[0])\n",
    "\t\trow = np.hstack([img for _, img in tiles])\n",
    "\t\tstitched_rows.append(row)\n",
    "\n",
    "\tfinal_image = np.vstack(stitched_rows)\n",
    "\tprint(\"✅ Finished stitching without rasterio.\")\n",
    "\treturn final_image\n"
   ]
  },
  {
   "cell_type": "code",
   "execution_count": null,
   "metadata": {},
   "outputs": [],
   "source": [
    "def proj_map_height(mat,NSEW):\n",
    "    n,s,e,w = NSEW\n",
    "\n",
    "    m1, n1 = mat.shape\n",
    "    xv,yv = np.meshgrid(range(n1),range(m1))\n",
    "    \n",
    "    xv = ((xv/n1)-0.5) * (e-w)\n",
    "    xv = np.deg2rad(xv)\n",
    "        \n",
    "    yv = ((1-yv/m1)-0.5) * (n-s)\n",
    "\n",
    "    yv = np.deg2rad(yv)\n",
    "    #zv = xv_c * yv_c\n",
    "    \n",
    "    zv = np.cos(xv) * np.cos(yv)  # * (12756) \n",
    "    \n",
    "    zv = zv * m1/(n-s) * 180/np.pi\n",
    "    \n",
    "    #zv = zv - np.min(zv)\n",
    "        \n",
    "    return zv\n",
    "def proj_map_geo_to_2D(mat,NSEW):\n",
    "    \n",
    "    lat = NSEW[[0,1]]\n",
    "    lon = NSEW[[2,3]]\n",
    "\n",
    "    m, n = mat.shape\n",
    "    xv,yv = np.meshgrid(range(n),range(m))\n",
    "\n",
    "    xc = (n-1)/2\n",
    "    yc = (m-1)/2\n",
    "    xv_c = (xv - xc).astype(int)\n",
    "    yv_c = (yv - yc).astype(int)\n",
    "\n",
    "    lat_v = np.linspace(lat[0],lat[1],m)\n",
    "    lat_v = np.deg2rad(lat_v[:,None])\n",
    "    xv_adj = xv_c * np.cos(lat_v )\n",
    "\n",
    "    xv2 = (xv_adj + xc).astype(int)\n",
    "    yv2 = (yv_c + yc).astype(int)\n",
    "\n",
    "    mat_adj = mat*0.0 \n",
    "    mat_adj[:] = np.nan\n",
    "    mat_adj[yv2, xv2] = mat[yv, xv]\n",
    "    \n",
    "    y1,y2 = np.min(yv2),np.max(yv2)\n",
    "    x1,x2 = np.min(xv2),np.max(xv2)\n",
    "    \n",
    "    mat_adj = mat_adj[y1:y2,x1:x2]\n",
    "    return mat_adj  "
   ]
  },
  {
   "cell_type": "code",
   "execution_count": null,
   "metadata": {},
   "outputs": [],
   "source": [
    "def mat2coor(limits, matsize, index):\n",
    "  [x1,x2,y1,y2] = index\n",
    "\n",
    "  xs = np.array([x1,x2])\n",
    "  xs = xs / matsize[0]\n",
    "  xs = (xs * limits[1]) + limits[0]\n",
    "\n",
    "\n",
    "  ys = np.array([y1,y2])\n",
    "  ys = ys / matsize[1]\n",
    "  ys = (ys * (limits[3]-limits[2])) + (limits[2])\n",
    "\n",
    "  print(xs,ys)\n",
    "\n",
    "  coor = [xs[0], xs[1], ys[0], ys[1]]\n",
    "\n",
    "  return coor\n"
   ]
  },
  {
   "cell_type": "code",
   "execution_count": null,
   "metadata": {},
   "outputs": [],
   "source": [
    "def savefile(out_dir, name, im2 ):\n",
    "\n",
    "\tif im2.min()< 1:\n",
    "\t\tprint(\"warning values less than zero\")\n",
    "\t\treturn \n",
    "\t\n",
    "\t\n",
    "\tif not os.path.isdir(out_dir): return\n",
    "\n",
    "\tout_dir = out_dir + \"/\" + name \n",
    "\tos.makedirs(out_dir,exist_ok=True)\n",
    "\n",
    "\tprint(\"Saving Image\")\n",
    "\tnp.save(out_dir + \"/\" + name + \".npy\", im2)\n",
    "\t\n",
    "\ttri = np3D.numpy2stl(im2)\n",
    "\tfacets = np3D.triangles_to_facets(tri)\n",
    "\t\n",
    "\tprint(\"Saving STL\")\n",
    "\tnp3D.writeSTL(facets, out_dir + \"/\" + name + \".stl\")\n",
    "\n"
   ]
  },
  {
   "cell_type": "code",
   "execution_count": null,
   "metadata": {},
   "outputs": [],
   "source": [
    "Ocean_root = \"C:\\\\Users\\\\eac84\\\\Desktop\\\\Desktop\\\\Tasks\\\\srtm_tifs\\\\gebco_2020_geotiff\\\\\"\n",
    "tile_files = glob.glob(Ocean_root+\"*.tif\")\n"
   ]
  },
  {
   "cell_type": "code",
   "execution_count": null,
   "metadata": {},
   "outputs": [],
   "source": [
    "%matplotlib qt"
   ]
  },
  {
   "cell_type": "code",
   "execution_count": null,
   "metadata": {},
   "outputs": [],
   "source": [
    "Ocean_root = \"C:\\\\Users\\\\eac84\\\\Desktop\\\\srtm_tifs\\\\gebco_2020_geotiff\\\\*\"\n",
    "Ocean_root = \"C:\\\\Users\\\\eac84\\\\Desktop\\\\Desktop\\\\Tasks\\\\srtm_tifs\\\\gebco_2020_geotiff\\\\\"\n",
    "strm_fns = glob.glob(Ocean_root+\"*.tif\")\n",
    "strm_fns "
   ]
  },
  {
   "cell_type": "markdown",
   "metadata": {},
   "source": [
    "## CARIBE"
   ]
  },
  {
   "cell_type": "code",
   "execution_count": null,
   "metadata": {},
   "outputs": [],
   "source": [
    "nsew = 31,6,-54,-102"
   ]
  },
  {
   "cell_type": "code",
   "execution_count": null,
   "metadata": {},
   "outputs": [],
   "source": [
    "\n",
    "imW = io.imread(strm_fns[4])\n",
    "imE = io.imread(strm_fns[5])\n",
    "\n",
    "offset = np.array([90,90,-90,-90])\n",
    "imE = NSEW_crop_(imE, nsew, offset)\n",
    "\n",
    "offset = np.array([90,90,-180,-180])\n",
    "imW = NSEW_crop_(imW, nsew, offset)\n",
    "\n",
    "im = np.hstack((imW,imE))\n",
    "\n",
    "plt.imshow(im, cmap=\"jet\")"
   ]
  },
  {
   "cell_type": "code",
   "execution_count": null,
   "metadata": {},
   "outputs": [],
   "source": [
    "im2 = im.copy()\n",
    "im2[im2>0] = im2[im2>0]+1000\n",
    "\n",
    "sz = tuple((np.array(im2.shape)[[1,0]]*0.2).astype(np.int))\n",
    "im2 = im2 * 0.2\n",
    "im2 = cv2.resize(im2,sz)\n",
    "\n",
    "im2 = im2 * 0.02\n",
    "\n",
    "#im3 = proj_map_height(im2, np.array([n,s,e,w]))\n",
    "im4 = im2 #+ np.round(im3,3)\n",
    "im4 = proj_map_geo_to_2D(im4, np.array([n,s,e,w]))\n",
    "\n",
    "#im4[np.isnan(im4)] = np.nanmin(im4)\n",
    "im4 = im4[:,~np.any(np.isnan(im4),axis=0)]\n",
    "im4 = im4 - np.min(im4) + 1\n",
    "im4 = im4[::-1]"
   ]
  },
  {
   "cell_type": "code",
   "execution_count": null,
   "metadata": {},
   "outputs": [],
   "source": [
    "plt.figure()\n",
    "plt.imshow(im4[::-1],cmap=\"jet\")"
   ]
  },
  {
   "cell_type": "code",
   "execution_count": null,
   "metadata": {},
   "outputs": [],
   "source": [
    "tri = np3D.numpy2stl(im4)\n",
    "facets = np3D.triangles_to_facets(tri)\n",
    "np3D.writeSTL(facets, \"Ocean_flat.stl\")"
   ]
  },
  {
   "cell_type": "code",
   "execution_count": null,
   "metadata": {},
   "outputs": [],
   "source": [
    "vertices, faces = np3D.vertices_to_index(tri)\n",
    "mesh = trimesh.Trimesh(vertices,faces)\n",
    "#mesh.show()"
   ]
  },
  {
   "cell_type": "markdown",
   "metadata": {},
   "source": [
    "## COLOMBIA"
   ]
  },
  {
   "cell_type": "code",
   "execution_count": null,
   "metadata": {},
   "outputs": [],
   "source": [
    "from strm2stl.osm2stl import get_boundries_osmnx"
   ]
  },
  {
   "cell_type": "code",
   "execution_count": null,
   "metadata": {},
   "outputs": [],
   "source": [
    "from strm2stl.create import coor2im\n",
    "from strm2stl.dem2stl import embed_lines\n",
    "from skimage import morphology\n",
    "from skimage.draw import line_aa, polygon2mask"
   ]
  },
  {
   "cell_type": "code",
   "execution_count": null,
   "metadata": {},
   "outputs": [],
   "source": [
    "nsew = 14,-6,-64,-84\n",
    "nsew = np.array(nsew)"
   ]
  },
  {
   "cell_type": "code",
   "execution_count": null,
   "metadata": {},
   "outputs": [],
   "source": [
    "imN = io.imread(strm_fns[5])\n",
    "offset = np.array([90,90,-90,-90])\n",
    "imN = NSEW_crop_(imN, nsew, offset)\n",
    "\n",
    "imS = io.imread(strm_fns[1])\n",
    "offset = np.array([0,0,-90,-90])\n",
    "imS = NSEW_crop_(imS, nsew, offset)\n",
    "im = np.vstack((imN,imS))\n",
    "\n",
    "plt.imshow(im, cmap=\"jet\")"
   ]
  },
  {
   "cell_type": "code",
   "execution_count": null,
   "metadata": {},
   "outputs": [],
   "source": [
    "x1 = 300 \n",
    "x3 = 2000\n",
    "im_ = im.copy()\n",
    "im_[im_>x1] = im_[im_>x1] + (x3-x1)\n",
    "bx = (im_<=x1) & (im_>0)\n",
    "im_[bx] = im_[bx] * (x3/x1)\n",
    "\n",
    "im_[im_<0] = im_[im_<0]*0.5\n",
    "im_[im_>0] = im_[im_>0] + 10"
   ]
  },
  {
   "cell_type": "code",
   "execution_count": null,
   "metadata": {},
   "outputs": [],
   "source": [
    "scale = 0.5\n",
    "sz = tuple((np.array(im_.shape)[[1,0]]*scale).astype(int))\n",
    "im_ = im_ * scale\n",
    "im_ = cv2.resize(im_,sz)\n",
    "im_ = im_ * 0.01"
   ]
  },
  {
   "cell_type": "code",
   "execution_count": null,
   "metadata": {},
   "outputs": [],
   "source": [
    "sealine = im_>0\n",
    "sealine = morphology.binary_dilation(sealine, morphology.disk(2)) & ~sealine\n",
    "im_ = im_ - (sealine* im_.ptp()*0.01)"
   ]
  },
  {
   "cell_type": "code",
   "execution_count": null,
   "metadata": {},
   "outputs": [],
   "source": [
    "bounds,bbox = get_boundries_osmnx('Colombia')\n",
    "boundry = bounds[-2]"
   ]
  },
  {
   "cell_type": "code",
   "execution_count": null,
   "metadata": {},
   "outputs": [],
   "source": [
    "nsew = np.array(nsew)\n",
    "coorlims = (nsew[np.array([0,1])], nsew[np.array([2,3])])\n",
    "imlims = ((0,im_.shape[1]), (im_.shape[0], 0))\n",
    "r,c = coor2im(coorlims, imlims, boundry.pts.T)\n",
    "\n",
    "im_lines = np.zeros(im_.shape, dtype=np.uint8)\n",
    "\n",
    "for i in range(len(r)-1):\n",
    "\trr, cc, val = line_aa(int(round(r[i])), int(round(c[i])), int(round(r[i+1])), int(round(c[i+1])))\n",
    "\tim_lines[rr, cc] = val*255\n",
    "\t\t\t\n",
    "im_lines = morphology.binary_dilation(im_lines, morphology.disk(2))\n",
    "\n",
    "im_lines[im_<0] = 0 \n",
    "im_ = im_ - (im_lines* im_.ptp()*0.01)\n",
    "\n",
    "im_ = im_ - np.min(im_) + (im_.ptp()*.01)"
   ]
  },
  {
   "cell_type": "code",
   "execution_count": null,
   "metadata": {},
   "outputs": [],
   "source": [
    "out_dir = \"C:/Users/eac84/Desktop/Desktop/Tasks/STL/Maps/\"\n",
    "name = \"Colombia\"\n",
    "savefile(out_dir, name, im_ )"
   ]
  },
  {
   "cell_type": "markdown",
   "metadata": {},
   "source": [
    "## Medellin"
   ]
  },
  {
   "cell_type": "code",
   "execution_count": null,
   "metadata": {},
   "outputs": [],
   "source": [
    "imN = io.imread(strm_fns[5])\n",
    "\n",
    "plt.imshow(imN[20000:20200:,3300:3700:,],cmap=\"jet\")"
   ]
  },
  {
   "cell_type": "markdown",
   "metadata": {},
   "source": [
    "## INDIAN RIVER"
   ]
  },
  {
   "cell_type": "code",
   "execution_count": null,
   "metadata": {},
   "outputs": [],
   "source": [
    "n,s,e,w = 28,27,-80,-80.6"
   ]
  },
  {
   "cell_type": "code",
   "execution_count": null,
   "metadata": {},
   "outputs": [],
   "source": [
    "imE = io.imread(strm_fns[5])\n",
    "nsewE = n,s,e,max(-90,w)\n",
    "imE = NSEW_crop1(imE, nsewE)\n",
    "im = imE.copy()\n",
    "\n",
    "im[im>0] = im[im>0] + 10\n",
    "im[im<-20] = -20\n",
    "\n",
    "plt.imshow(im, cmap=\"jet\")"
   ]
  },
  {
   "cell_type": "code",
   "execution_count": null,
   "metadata": {},
   "outputs": [],
   "source": [
    "plt.imshow(im, cmap=\"jet\")"
   ]
  },
  {
   "cell_type": "markdown",
   "metadata": {},
   "source": [
    "## IBERIA"
   ]
  },
  {
   "cell_type": "code",
   "execution_count": null,
   "metadata": {},
   "outputs": [],
   "source": [
    "nsew = 44.4,34.8,5.3,-11\n",
    "\n",
    "imW = io.imread(strm_fns[5])\n",
    "imE = io.imread(strm_fns[6])\n",
    "\n",
    "offset = np.array([90,90,-90,-90])\n",
    "imW = NSEW_crop_(imW, nsew, offset)\n",
    "\n",
    "offset = np.array([90,90,-0,-0])\n",
    "imE = NSEW_crop_(imE, nsew, offset)"
   ]
  },
  {
   "cell_type": "code",
   "execution_count": null,
   "metadata": {},
   "outputs": [],
   "source": [
    "im = np.hstack((imW,imE))\n",
    "im[im<0] = im[im<0]*0.25\n",
    "im[im>0] = im[im>0]+100\n",
    "plt.imshow(im,cmap=\"jet\")"
   ]
  },
  {
   "cell_type": "code",
   "execution_count": null,
   "metadata": {},
   "outputs": [],
   "source": [
    "im_r = im.copy()\n",
    "im_r[im_r<0]=0\n",
    "im_r = (ndi.gaussian_filter(im_r,10) - im_r).clip(0)\n",
    "im = im - 2*im_r"
   ]
  },
  {
   "cell_type": "code",
   "execution_count": null,
   "metadata": {},
   "outputs": [],
   "source": [
    "plt.imshow(im2)"
   ]
  },
  {
   "cell_type": "code",
   "execution_count": null,
   "metadata": {},
   "outputs": [],
   "source": [
    "im2 = proj_map_geo_to_2D(im, np.array(nsew))\n",
    "im2 = im2[:,~np.any(np.isnan(im2),axis=0)]\n",
    "im2 = im2 - np.min(im2) + 1"
   ]
  },
  {
   "cell_type": "code",
   "execution_count": null,
   "metadata": {},
   "outputs": [],
   "source": [
    "scale = 0.3\n",
    "sz = tuple((np.array(im2.shape)[[1,0]]*scale).astype(int))\n",
    "im2 = im2 * scale\n",
    "im2 = cv2.resize(im2,sz)\n",
    "im2 = im2 * 0.02"
   ]
  },
  {
   "cell_type": "code",
   "execution_count": null,
   "metadata": {},
   "outputs": [],
   "source": [
    "plt.imshow(im2, cmap=\"jet\")"
   ]
  },
  {
   "cell_type": "code",
   "execution_count": null,
   "metadata": {},
   "outputs": [],
   "source": [
    "out_dir = \"C:/Users/eac84/Desktop/Desktop/Tasks/STL/Maps/\"\n",
    "name = \"Ibera\"\n",
    "savefile(out_dir, name, im2 )\n"
   ]
  },
  {
   "cell_type": "markdown",
   "metadata": {},
   "source": [
    "## UK"
   ]
  },
  {
   "cell_type": "code",
   "execution_count": null,
   "metadata": {},
   "outputs": [],
   "source": [
    "n,s,e,w = 90,0,30,-30\n",
    "\n",
    "nsewE = n,s,e,0\n",
    "#imE = NSEW_crop(imE, nsewE, [90,0,90,0] )\n",
    "nsewW = n,s,0,w\n",
    "#imW = NSEW_crop(imW, nsewW, [90,0,0,-90])"
   ]
  },
  {
   "cell_type": "code",
   "execution_count": null,
   "metadata": {},
   "outputs": [],
   "source": [
    "n,s = 7300, 9700\n",
    "imW = imW1[n:s, 19000:]\n",
    "imW[imW<0 ] = 0\n",
    "\n",
    "imE = imE1[n:s, :700]\n",
    "imE[imE<0 ] = 0"
   ]
  },
  {
   "cell_type": "code",
   "execution_count": null,
   "metadata": {},
   "outputs": [],
   "source": [
    "imW1 = io.imread(fns[5])\n",
    "imE1 = io.imread(fns[6])"
   ]
  },
  {
   "cell_type": "code",
   "execution_count": null,
   "metadata": {},
   "outputs": [],
   "source": [
    "y = np.array([7000,9700])\n",
    "x1 = np.array([19000])\n",
    "x2 = np.array([700])\n",
    "ntop = 90\n",
    "wtop = 90\n",
    "\n",
    "lat = -(y * 90/21600) + ntop\n",
    "lng1 = (x1 * 90/21600) - wtop\n",
    "lng2 = (x2 * 90/21600) - 0\n",
    "\n",
    "nsew = np.array([*lat,*lng2,*lng1])\n",
    "print(nsew)"
   ]
  },
  {
   "cell_type": "code",
   "execution_count": null,
   "metadata": {},
   "outputs": [],
   "source": [
    "im1 = np.concatenate((imW,imE),axis=1)\n",
    "im1 = proj_map_geo_to_2D(im1, nsew)"
   ]
  },
  {
   "cell_type": "code",
   "execution_count": null,
   "metadata": {},
   "outputs": [],
   "source": [
    "im2 = im1.copy()\n",
    "maxZ = np.max(im2)\n",
    "im2 = im2 / maxZ\n",
    "im2 = im2 ** 0.7\n",
    "im2 = im2 * maxZ\n",
    "im2 = im2[::-1]"
   ]
  },
  {
   "cell_type": "code",
   "execution_count": null,
   "metadata": {},
   "outputs": [],
   "source": [
    "sz = tuple((np.array(im2.shape)[[1,0]]*0.5).astype(np.int))\n",
    "im2 = im2 * 0.5\n",
    "im2 = cv2.resize(im2,sz)"
   ]
  },
  {
   "cell_type": "code",
   "execution_count": null,
   "metadata": {},
   "outputs": [],
   "source": [
    "out_dir = \"C:\\\\Users\\\\eac84\\\\Desktop\\\\STL\\\\Maps\\\\\"\n",
    "tri = np3D.numpy2stl(im2+10)\n",
    "facets = np3D.triangles_to_facets(tri)\n",
    "np3D.writeSTL(facets, out_dir + \"UK.stl\")"
   ]
  },
  {
   "cell_type": "markdown",
   "metadata": {},
   "source": [
    "AndaLucia"
   ]
  },
  {
   "cell_type": "code",
   "execution_count": null,
   "metadata": {},
   "outputs": [],
   "source": [
    "imE1 = io.imread(fns[5])"
   ]
  },
  {
   "cell_type": "code",
   "execution_count": null,
   "metadata": {},
   "outputs": [],
   "source": [
    "plt.imshow(imE1[12200:12800:5,-1000:-300:5])"
   ]
  },
  {
   "cell_type": "code",
   "execution_count": null,
   "metadata": {},
   "outputs": [],
   "source": [
    "imE1.shape"
   ]
  },
  {
   "cell_type": "markdown",
   "metadata": {},
   "source": [
    "## Brazil"
   ]
  },
  {
   "cell_type": "code",
   "execution_count": null,
   "metadata": {},
   "outputs": [],
   "source": [
    "im_all = io.imread(strm_fns[1])\n",
    "plt.imshow(im_all[::10,::10])"
   ]
  },
  {
   "cell_type": "code",
   "execution_count": null,
   "metadata": {},
   "outputs": [],
   "source": [
    "def normalize(imx):\n",
    "\n",
    "\tl1,l2,l3= np.percentile(imx.ravel()[::10], [1,50,99])\n",
    "\n",
    "\timx = imx - l2\n",
    "\timx[imx<0] = imx[imx<0] / np.maximum(l1,l2-1)\n",
    "\timx[imx>0] = imx[imx>0] / l3\n",
    "\t#imx = imx.clip(-5,5)\n",
    "\treturn imx"
   ]
  },
  {
   "cell_type": "code",
   "execution_count": null,
   "metadata": {},
   "outputs": [],
   "source": [
    "plt.close(\"all\")\n",
    "\n",
    "imx = im_all[5500:5800,10200:10700]*1.\n",
    "imx = normalize(imx)\n",
    "plt.figure()\n",
    "plt.imshow(imx, cmap=\"jet\")\n",
    "\n",
    "imx = im_all[5420:5550,11150:11350]*1.\n",
    "imx = normalize(imx)\n",
    "plt.figure()\n",
    "plt.imshow(imx, cmap=\"jet\")\n",
    "\n",
    "\n",
    "imx = im_all[5200:5800,10200:11500]*1.\n",
    "imx[imx>0] = imx[imx>0]+100\n",
    "imx = imx.clip(-100)\n",
    "imx = normalize(imx)\n",
    "\n",
    "plt.figure()\n",
    "plt.imshow(imx, cmap=\"jet\")"
   ]
  },
  {
   "cell_type": "code",
   "execution_count": null,
   "metadata": {},
   "outputs": [],
   "source": [
    "plt.close(\"all\")\n",
    "\n",
    "imx = im_all[4000:7000:10,7500:10500:10]*1.\n",
    "imx = imx.clip(-10)\n",
    "imx[imx>0] = imx[imx>0]+200\n",
    "imx = normalize(imx)\n",
    "plt.figure()\t\n",
    "plt.imshow(imx, cmap=\"jet\")\n",
    "\n",
    "imx = im_all[5800:6500,8000:9000:]*1.\n",
    "imx = normalize(imx)\n",
    "\n",
    "plt.figure()\t\n",
    "plt.imshow(imx, cmap=\"jet\")\n",
    "\n",
    "imx = im_all[5900:6200,8300:8800:]*1.\n",
    "imx = normalize(imx)\n",
    "\n",
    "plt.figure()\t\n",
    "plt.imshow(imx, cmap=\"jet\")\n",
    "plt.figure()\n",
    "plt.hist(imx.ravel())"
   ]
  },
  {
   "cell_type": "markdown",
   "metadata": {},
   "source": [
    "## AFRICA"
   ]
  },
  {
   "cell_type": "code",
   "execution_count": null,
   "metadata": {},
   "outputs": [],
   "source": [
    "im_4 = io.imread(strm_fns[2])\n",
    "im_1 = io.imread(strm_fns[5])\n",
    "im_2 = io.imread(strm_fns[6])\n",
    "im_3 = io.imread(strm_fns[1])"
   ]
  },
  {
   "cell_type": "code",
   "execution_count": null,
   "metadata": {},
   "outputs": [],
   "source": [
    "im_all = np.vstack([np.hstack([im_1,im_2]),np.hstack([im_3,im_4])])\n",
    "index = [11000,31500,15500,36000]\n",
    "im_0 = im_all[index[0]:index[1],index[2]:index[3]] * 1.0\n",
    "\n",
    "\n"
   ]
  },
  {
   "cell_type": "code",
   "execution_count": null,
   "metadata": {},
   "outputs": [],
   "source": [
    "im_x = im_0\n",
    "sz = tuple((np.array(im_x.shape)[[1,0]]*0.02).astype(int))\n",
    "im_x = im_x * 0.1\n",
    "im_x = cv2.resize(im_x,sz)*1.0\n",
    "\n",
    "sz = tuple((np.array(im_x.shape)[[1,0]]*2).astype(int))\n",
    "im_x = cv2.resize(im_x,sz)\n",
    "plt.close(\"all\")\n",
    "\n",
    "plt.figure()\n",
    "plt.hist(im_x.ravel()[::5],100)\n",
    "\n",
    "x = 200\n",
    "im_x[im_x>x] = 0.2*(im_x[im_x>x]-x)+x\n",
    "\n",
    "im_x[im_x<0] = im_x[im_x<0]*.1\n",
    "\n",
    "x = 100\n",
    "im_x[im_x>x] = 0.5*(im_x[im_x>x]-x)+x\n",
    "\n",
    "x = 50\n",
    "im_x[im_x>x] = 0.5*(im_x[im_x>x]-x)+x\n",
    "\n",
    "im_x[im_x<0] = im_x[im_x<0]*.2\n",
    "\n",
    "x = -10\n",
    "im_x[im_x<x] = 5*(im_x[im_x<x]-x)+x\n",
    "\n",
    "im_x[im_x<0] = im_x[im_x<0] - 0.05*(im_x.max()-im_x.min())\n",
    "\n",
    "\n",
    "\n",
    "plt.figure()\n",
    "plt.hist(im_x.ravel()[::5],100)\n",
    "\n",
    "plt.figure()\n",
    "plt.imshow(im_x,cmap=\"jet\")\n",
    "\n",
    "plt.figure()\n",
    "plt.imshow(im_x.clip(0),cmap=\"jet\")"
   ]
  },
  {
   "cell_type": "code",
   "execution_count": null,
   "metadata": {},
   "outputs": [],
   "source": []
  },
  {
   "cell_type": "code",
   "execution_count": null,
   "metadata": {},
   "outputs": [],
   "source": [
    "n1,s1,e1,w1 = mat2coor( [0, 180, -90,90], [43200, 43200], index)\n",
    "s1 = s1 - 180\n",
    "\n",
    "nsew1 = (n1,s1,e1,w1)"
   ]
  },
  {
   "cell_type": "code",
   "execution_count": null,
   "metadata": {},
   "outputs": [],
   "source": [
    "\n",
    "plt.figure()\n",
    "sz = tuple((np.array(im_x.shape)[[1,0]]*1).astype(int))\n",
    "plt.imshow(cv2.resize(im_x,sz), cmap=\"jet\")"
   ]
  },
  {
   "cell_type": "code",
   "execution_count": null,
   "metadata": {},
   "outputs": [],
   "source": [
    "plt.close(\"all\")\n",
    "\n",
    "plt.figure()\n",
    "plt.hist(im_x.ravel()[::5],100)\n",
    "\n",
    "plt.figure()\n",
    "plt.imshow(im_x,cmap=\"jet\")"
   ]
  },
  {
   "cell_type": "code",
   "execution_count": null,
   "metadata": {},
   "outputs": [],
   "source": [
    "im_x2 = proj_map_geo_to_2D(im_x,np.array(nsew1))\n",
    "\n",
    "plt.figure()\n",
    "plt.imshow(im_x2,cmap=\"jet\")"
   ]
  },
  {
   "cell_type": "code",
   "execution_count": null,
   "metadata": {},
   "outputs": [],
   "source": [
    "im_x = im_x - im_x.min() + 10\n",
    "\n",
    "\n",
    "out_dir = \"C:/Users/eac84/OneDrive/Documents/Projects/3D Maps/Map_files/\"\n",
    "name = \"Africa\"\n",
    "savefile(out_dir, name, im_x)"
   ]
  },
  {
   "cell_type": "markdown",
   "metadata": {},
   "source": [
    "## Colorado"
   ]
  },
  {
   "cell_type": "code",
   "execution_count": 51,
   "metadata": {},
   "outputs": [],
   "source": [
    "N,S,E,W = [41.0034002,   \n",
    "           36.9925245, \n",
    "       \t   -102.041585 , \n",
    "           -109.0601879]\n"
   ]
  },
  {
   "cell_type": "code",
   "execution_count": 52,
   "metadata": {},
   "outputs": [
    {
     "name": "stdout",
     "output_type": "stream",
     "text": [
      "==== Stitching tiles without rasterio ====\n",
      "Target bounding box: (41.0034002, 36.9925245, -102.041585, -109.0601879)\n",
      "✅ Finished stitching without rasterio.\n"
     ]
    }
   ],
   "source": [
    "\n",
    "target_bbox = (N, S, E, W)\n",
    "\n",
    "result = stitch_tiles_no_rasterio(tile_files, target_bbox)\n",
    "\n",
    "im = result.copy()\n",
    "\n",
    "#im = proj_map_geo_to_2D(im,np.array((N, S, E, W)))\n",
    "#im = im[:,~np.any(np.isnan(im),axis=0)]\n",
    "\n",
    "plt.figure\n",
    "plt.imshow(im, cmap='terrain')\n",
    "plt.colorbar()\n",
    "plt.show()"
   ]
  },
  {
   "cell_type": "code",
   "execution_count": null,
   "metadata": {},
   "outputs": [],
   "source": [
    "x = 2000\n",
    "im_x[im_x>x] = 0.5*(im_x[im_x>x]-x)+x\n",
    "\n",
    "#x = 2250\n",
    "#im_x[im_x>x] = 0.5*(im_x[im_x>x]-x)+x"
   ]
  },
  {
   "cell_type": "code",
   "execution_count": null,
   "metadata": {},
   "outputs": [],
   "source": [
    "scale = 0.4\n",
    "sz = tuple((np.array(im_x.shape)[[1,0]]*scale).astype(int))\n",
    "im_x = im_x * scale\n",
    "im_x = cv2.resize(im_x,sz)\n",
    "im_x = im_x * 0.02"
   ]
  },
  {
   "cell_type": "code",
   "execution_count": null,
   "metadata": {},
   "outputs": [],
   "source": [
    "out_dir = \"C:/Users/eac84/OneDrive/Documents/Projects/3D Maps/Map_files/\"\n",
    "name = \"Colorado\"\n",
    "im_x = im_x - im_x.min() + im_x.ptp()*0.1\n",
    "savefile(out_dir, name, im_x)"
   ]
  },
  {
   "cell_type": "code",
   "execution_count": null,
   "metadata": {},
   "outputs": [],
   "source": [
    "(471.5 /2) - (471/3)"
   ]
  },
  {
   "cell_type": "markdown",
   "metadata": {},
   "source": [
    "## Puerto Rico"
   ]
  },
  {
   "cell_type": "code",
   "execution_count": null,
   "metadata": {},
   "outputs": [],
   "source": [
    "nsew = 18.75, 17.65, -65.15, -67.35"
   ]
  },
  {
   "cell_type": "code",
   "execution_count": null,
   "metadata": {},
   "outputs": [],
   "source": [
    "im_ = io.imread(strm_fns[5])\n",
    "offset = np.array([90,90,-90,-90])\n",
    "imE = NSEW_crop_(im_, nsew, offset).copy()\n",
    "\n",
    "imE[imE<0] = imE[imE<0]*0.2\n",
    "imE[imE>0] = imE[imE>0] + 100\n",
    "plt.imshow(np.vstack([imE]), cmap=\"jet\")"
   ]
  },
  {
   "cell_type": "code",
   "execution_count": null,
   "metadata": {},
   "outputs": [],
   "source": [
    "im_x = imE - imE.min() + (imE.ptp()*0.1)"
   ]
  },
  {
   "cell_type": "code",
   "execution_count": null,
   "metadata": {},
   "outputs": [],
   "source": [
    "scale = 2\n",
    "sz = tuple((np.array(im_x.shape)[[1,0]]*scale).astype(int))\n",
    "im_x = im_x * scale\n",
    "im_x = cv2.resize(im_x,sz)\n",
    "im_x = im_x * 0.02"
   ]
  },
  {
   "cell_type": "code",
   "execution_count": null,
   "metadata": {},
   "outputs": [],
   "source": [
    "plt.imshow(im_x)"
   ]
  },
  {
   "cell_type": "code",
   "execution_count": null,
   "metadata": {},
   "outputs": [],
   "source": [
    "out_dir = \"C:/Users/eac84/OneDrive/Documents/Projects/3D Maps/Map_files/\"\n",
    "name = \"PuertoRico\"\n",
    "savefile(out_dir, name, im_x)"
   ]
  },
  {
   "cell_type": "markdown",
   "metadata": {},
   "source": [
    "## Keys"
   ]
  },
  {
   "cell_type": "code",
   "execution_count": null,
   "metadata": {},
   "outputs": [],
   "source": [
    "(N, S, E, W) = 25.9,24.3, -80,-82.0\n"
   ]
  },
  {
   "cell_type": "code",
   "execution_count": null,
   "metadata": {},
   "outputs": [],
   "source": [
    "\n",
    "target_bbox = (N, S, E, W)\n",
    "\n",
    "result = stitch_tiles_no_rasterio(tile_files, target_bbox)\n",
    "\n",
    "\n",
    "im = result.copy()\n",
    "im[im<0] = im[im<0]*0.1\n",
    "\n",
    "im = proj_map_geo_to_2D(im,np.array((N, S, E, W)))\n",
    "\n",
    "im = im[:,~np.any(np.isnan(im),axis=0)]\n",
    "#im[im<0] = im[im<0]-200\n",
    "\n",
    "if im is not None:\n",
    "\n",
    "\tplt.figure\n",
    "\tplt.imshow(im, cmap='terrain')\n",
    "\t \n",
    "\tplt.colorbar()\n",
    "\tplt.show()"
   ]
  },
  {
   "cell_type": "code",
   "execution_count": null,
   "metadata": {},
   "outputs": [],
   "source": [
    "\n",
    "offset = np.array([90,90,-90,-90])\n",
    "imE = NSEW_crop_(im_, nsew, offset).copy()*1.\n",
    "\n",
    "imE[imE<-100] = -100\n",
    "imE[imE<0] = imE[imE<0]*0.1\n",
    "imE[imE>0] = imE[imE>0] + 10\n"
   ]
  },
  {
   "cell_type": "code",
   "execution_count": null,
   "metadata": {},
   "outputs": [],
   "source": [
    "scale = 2\n",
    "im_x = imE.copy()\n",
    "sz = tuple((np.array(im_x.shape)[[1,0]]*scale).astype(int))\n",
    "im_x = im_x * scale\n",
    "im_x = cv2.resize(im_x,sz)\n",
    "im_x = im_x * 0.02"
   ]
  },
  {
   "cell_type": "code",
   "execution_count": null,
   "metadata": {},
   "outputs": [],
   "source": [
    "plt.imshow(im_x, cmap=\"jet\")"
   ]
  },
  {
   "cell_type": "code",
   "execution_count": null,
   "metadata": {},
   "outputs": [],
   "source": [
    "from scipy.ndimage import rotate"
   ]
  },
  {
   "cell_type": "code",
   "execution_count": null,
   "metadata": {},
   "outputs": [],
   "source": [
    "DEM = im_x\n",
    "rotation = 55 - 90\n",
    "\n",
    "DEM = rotate(DEM,rotation, reshape=True, cval=-10)\n",
    "\n",
    "DEM = DEM[480:820,:]\n",
    "DEM[DEM==-10] = DEM[DEM>-10].min()\n",
    "plt.figure()\n",
    "plt.imshow(DEM, cmap=\"jet\")"
   ]
  },
  {
   "cell_type": "markdown",
   "metadata": {},
   "source": [
    "## Great Lakes"
   ]
  },
  {
   "cell_type": "code",
   "execution_count": null,
   "metadata": {},
   "outputs": [],
   "source": [
    "(N, S, E, W) =  49.677, 40.465,  -74, -93.387,"
   ]
  },
  {
   "cell_type": "code",
   "execution_count": null,
   "metadata": {},
   "outputs": [],
   "source": [
    "\n",
    "target_bbox = (N, S, E, W)\n",
    "\n",
    "result = stitch_tiles_no_rasterio(tile_files, target_bbox)\n",
    "\n",
    "\n",
    "im = result.copy()\n",
    "im[im<0] = im[im<0]*0.1\n",
    "\n",
    "im = proj_map_geo_to_2D(im,np.array((N, S, E, W)))\n",
    "\n",
    "im = im[:,~np.any(np.isnan(im),axis=0)]\n",
    "\n",
    "\n"
   ]
  },
  {
   "cell_type": "code",
   "execution_count": null,
   "metadata": {},
   "outputs": [],
   "source": [
    "if im is not None:\n",
    "\n",
    "\tim[0,0] = -10\n",
    "\tim[0,1] = 500\n",
    "\n",
    "\tplt.figure\n",
    "\tplt.imshow(im, cmap='jet')\n",
    "\t \n",
    "\tplt.colorbar()\n",
    "\tplt.show()"
   ]
  },
  {
   "cell_type": "code",
   "execution_count": null,
   "metadata": {},
   "outputs": [],
   "source": [
    "im_x = im.copy()\n",
    "\n",
    "x = 500\n",
    "im_x[im_x>x] = 0.5*(im_x[im_x>x]-x)+x\n",
    "\n",
    "x = 800\n",
    "im_x[im_x>x] = 0.1*(im_x[im_x>x]-x)+x\n",
    "\n",
    "im_x = proj_map_geo_to_2D(im_x,np.array(nsew))\n",
    "\n",
    "im_x = im_x[:,~np.any(np.isnan(im_x),axis=0)]\n",
    "\n",
    "plt.imshow(im_x, cmap=\"jet\")"
   ]
  },
  {
   "cell_type": "markdown",
   "metadata": {},
   "source": [
    "## norway"
   ]
  },
  {
   "cell_type": "code",
   "execution_count": null,
   "metadata": {},
   "outputs": [],
   "source": [
    "S=57.03\n",
    "W=-5\n",
    "N=72.07\n",
    "E=33.28"
   ]
  },
  {
   "cell_type": "code",
   "execution_count": null,
   "metadata": {},
   "outputs": [],
   "source": [
    "target_bbox = (N, S, E, W)"
   ]
  },
  {
   "cell_type": "code",
   "execution_count": null,
   "metadata": {},
   "outputs": [],
   "source": [
    "target_bbox = (N, S, E, W)\n",
    "\n",
    "result = stitch_tiles_no_rasterio(tile_files, target_bbox)\n",
    "\n",
    "im = result.copy()\n",
    "im[im<0] = im[im<0]*0.1\n",
    "\n",
    "im = proj_map_geo_to_2D(im,np.array((N, S, E, W)))\n",
    "\n",
    "im = im[:,~np.any(np.isnan(im),axis=0)]\n",
    "\n",
    "if im is not None:\n",
    "\tfrom matplotlib import pyplot as plt\n",
    "\tplt.imshow(im, cmap='terrain')\n",
    "\t \n",
    "\tplt.colorbar()\n",
    "\tplt.show()"
   ]
  },
  {
   "cell_type": "markdown",
   "metadata": {},
   "source": [
    "## Japans"
   ]
  },
  {
   "cell_type": "code",
   "execution_count": null,
   "metadata": {},
   "outputs": [],
   "source": [
    "S=28.75\n",
    "W=118\n",
    "N=55.066\n",
    "E=153.69\n",
    "\n",
    "from matplotlib import pyplot as plt\n",
    "target_bbox = (N, S, E, W)\n",
    "\n",
    "result = stitch_tiles_no_rasterio(tile_files, target_bbox)\n"
   ]
  },
  {
   "cell_type": "code",
   "execution_count": null,
   "metadata": {},
   "outputs": [],
   "source": [
    "\n",
    "target_bbox = (N, S, E, W)\n",
    "\n",
    "result = stitch_tiles_no_rasterio(tile_files, target_bbox)\n",
    "\n",
    "im = result.copy()\n",
    "im[im<0] = im[im<0]*0.1\n",
    "\n",
    "im = proj_map_geo_to_2D(im,np.array((N, S, E, W)))\n",
    "\n",
    "im = im[:,~np.any(np.isnan(im),axis=0)]\n",
    "im[im<0] = im[im<0]-200\n",
    "\n",
    "plt.imshow(im, cmap=\"jet\")\n",
    "\n",
    "if im is not None:\n",
    "\n",
    "\tplt.figure\n",
    "\tplt.imshow(im, cmap='terrain')\n",
    "\t \n",
    "\tplt.colorbar()\n",
    "\tplt.show()"
   ]
  },
  {
   "cell_type": "markdown",
   "metadata": {},
   "source": [
    "## mediterrian"
   ]
  },
  {
   "cell_type": "code",
   "execution_count": null,
   "metadata": {},
   "outputs": [],
   "source": [
    "S =  29\n",
    "W =  -15.\n",
    "N =  47\n",
    "E =  42\n",
    "\n"
   ]
  },
  {
   "cell_type": "code",
   "execution_count": null,
   "metadata": {},
   "outputs": [],
   "source": [
    "\n",
    "target_bbox = (N, S, E, W)\n",
    "\n",
    "result = stitch_tiles_no_rasterio(tile_files, target_bbox)\n",
    "\n",
    "im = result.copy()\n",
    "im[im<0] = im[im<0]*0.1\n",
    "\n",
    "im = proj_map_geo_to_2D(im,np.array((N, S, E, W)))\n",
    "\n",
    "im = im[:,~np.any(np.isnan(im),axis=0)]\n",
    "im[im<0] = im[im<0]-500\n",
    "\n",
    "if im is not None:\n",
    "\n",
    "\tplt.figure\n",
    "\tplt.imshow(im, cmap='terrain')\n",
    "\t \n",
    "\tplt.colorbar()\n",
    "\tplt.show()"
   ]
  },
  {
   "cell_type": "code",
   "execution_count": null,
   "metadata": {},
   "outputs": [],
   "source": []
  }
 ],
 "metadata": {
  "kernelspec": {
   "display_name": "Python 3",
   "language": "python",
   "name": "python3"
  },
  "language_info": {
   "codemirror_mode": {
    "name": "ipython",
    "version": 3
   },
   "file_extension": ".py",
   "mimetype": "text/x-python",
   "name": "python",
   "nbconvert_exporter": "python",
   "pygments_lexer": "ipython3",
   "version": "3.11.0"
  }
 },
 "nbformat": 4,
 "nbformat_minor": 4
}
