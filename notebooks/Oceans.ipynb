{
 "cells": [
  {
   "cell_type": "code",
   "execution_count": null,
   "metadata": {},
   "outputs": [],
   "source": [
    "!pip install trimesh\n",
    "!pip install triangle \n",
    "!pip install shapely"
   ]
  },
  {
   "cell_type": "code",
   "execution_count": 1,
   "metadata": {},
   "outputs": [
    {
     "name": "stderr",
     "output_type": "stream",
     "text": [
      "INFO:     Started server process [14072]\n",
      "INFO:     Waiting for application startup.\n",
      "INFO:     Application startup complete.\n",
      "INFO:     Uvicorn running on http://127.0.0.1:9000 (Press CTRL+C to quit)\n"
     ]
    },
    {
     "name": "stdout",
     "output_type": "stream",
     "text": [
      "Templates path: c:\\Users\\eac84\\OneDrive\\Documents\\Projects\\3D Maps\\Code\\strm2stl\\ui\\templates\n",
      "Waiting for user to select a bounding box...\n",
      "c:\\Users\\eac84\\OneDrive\\Documents\\Projects\\3D Maps\\Code\\strm2stl\\ui\\templates\n",
      "INFO:     127.0.0.1:51296 - \"GET / HTTP/1.1\" 200 OK\n",
      "INFO:     127.0.0.1:51296 - \"GET /favicon.ico HTTP/1.1\" 404 Not Found\n"
     ]
    },
    {
     "ename": "KeyboardInterrupt",
     "evalue": "",
     "output_type": "error",
     "traceback": [
      "\u001b[1;31m---------------------------------------------------------------------------\u001b[0m",
      "\u001b[1;31mKeyboardInterrupt\u001b[0m                         Traceback (most recent call last)",
      "Cell \u001b[1;32mIn[1], line 4\u001b[0m\n\u001b[0;32m      2\u001b[0m os\u001b[38;5;241m.\u001b[39mchdir(\u001b[38;5;124m\"\u001b[39m\u001b[38;5;124m..\u001b[39m\u001b[38;5;124m\"\u001b[39m)\n\u001b[0;32m      3\u001b[0m \u001b[38;5;28;01mfrom\u001b[39;00m \u001b[38;5;21;01mui\u001b[39;00m \u001b[38;5;28;01mimport\u001b[39;00m location_picker\n\u001b[1;32m----> 4\u001b[0m \u001b[43mlocation_picker\u001b[49m\u001b[38;5;241;43m.\u001b[39;49m\u001b[43mget_location\u001b[49m\u001b[43m(\u001b[49m\u001b[43m)\u001b[49m\n",
      "File \u001b[1;32mc:\\Users\\eac84\\OneDrive\\Documents\\Projects\\3D Maps\\Code\\strm2stl\\ui\\location_picker.py:75\u001b[0m, in \u001b[0;36mget_location\u001b[1;34m()\u001b[0m\n\u001b[0;32m     72\u001b[0m \u001b[38;5;28;01melse\u001b[39;00m:\n\u001b[0;32m     73\u001b[0m     \u001b[38;5;66;03m# Otherwise, use time.sleep for standard blocking operation\u001b[39;00m\n\u001b[0;32m     74\u001b[0m     \u001b[38;5;28;01mwhile\u001b[39;00m \u001b[38;5;124m'\u001b[39m\u001b[38;5;124mlat\u001b[39m\u001b[38;5;124m'\u001b[39m \u001b[38;5;129;01mnot\u001b[39;00m \u001b[38;5;129;01min\u001b[39;00m selected_location:\n\u001b[1;32m---> 75\u001b[0m         \u001b[43mtime\u001b[49m\u001b[38;5;241;43m.\u001b[39;49m\u001b[43msleep\u001b[49m\u001b[43m(\u001b[49m\u001b[38;5;241;43m0.2\u001b[39;49m\u001b[43m)\u001b[49m\n\u001b[0;32m     77\u001b[0m \u001b[38;5;28;01mreturn\u001b[39;00m selected_location[\u001b[38;5;124m'\u001b[39m\u001b[38;5;124mlat\u001b[39m\u001b[38;5;124m'\u001b[39m], selected_location[\u001b[38;5;124m'\u001b[39m\u001b[38;5;124mlng\u001b[39m\u001b[38;5;124m'\u001b[39m]\n",
      "\u001b[1;31mKeyboardInterrupt\u001b[0m: "
     ]
    }
   ],
   "source": [
    "import os\n",
    "os.chdir(\"..\")\n",
    "from ui import location_picker\n",
    "location_picker.get_location()\n"
   ]
  },
  {
   "cell_type": "code",
   "execution_count": 1,
   "metadata": {},
   "outputs": [
    {
     "ename": "ModuleNotFoundError",
     "evalue": "No module named 'ui'",
     "output_type": "error",
     "traceback": [
      "\u001b[1;31m---------------------------------------------------------------------------\u001b[0m",
      "\u001b[1;31mModuleNotFoundError\u001b[0m                       Traceback (most recent call last)",
      "Cell \u001b[1;32mIn[1], line 1\u001b[0m\n\u001b[1;32m----> 1\u001b[0m \u001b[38;5;28;01mfrom\u001b[39;00m \u001b[38;5;21;01mui\u001b[39;00m \u001b[38;5;28;01mimport\u001b[39;00m location_picker\n\u001b[0;32m      2\u001b[0m location_picker\u001b[38;5;241m.\u001b[39mget_location()\n",
      "\u001b[1;31mModuleNotFoundError\u001b[0m: No module named 'ui'"
     ]
    }
   ],
   "source": [
    "from ui import location_picker\n",
    "location_picker.get_location()\n"
   ]
  },
  {
   "cell_type": "code",
   "execution_count": 3,
   "metadata": {},
   "outputs": [],
   "source": [
    "import os\n",
    "os.chdir(\"..\")"
   ]
  },
  {
   "cell_type": "code",
   "execution_count": null,
   "metadata": {},
   "outputs": [],
   "source": [
    "import glob\n",
    "import numpy as np \n",
    "import re"
   ]
  },
  {
   "cell_type": "code",
   "execution_count": 5,
   "metadata": {},
   "outputs": [],
   "source": [
    "import trimesh\n",
    "import numpy2stl.numpy2stl as np3D\n",
    "import cv2\n",
    "\n",
    "from skimage import io\n",
    "from skimage import filters\n",
    "import matplotlib.pyplot as plt\n",
    "\n",
    "from scipy import ndimage as ndi\n",
    "import os"
   ]
  },
  {
   "cell_type": "code",
   "execution_count": null,
   "metadata": {},
   "outputs": [],
   "source": [
    "%matplotlib qt"
   ]
  },
  {
   "cell_type": "code",
   "execution_count": 6,
   "metadata": {},
   "outputs": [
    {
     "name": "stdout",
     "output_type": "stream",
     "text": [
      "Templates path: c:\\Users\\eac84\\OneDrive\\Documents\\Projects\\3D Maps\\Code\\strm2stl\\ui\\templates\n"
     ]
    }
   ],
   "source": [
    "from ui import location_picker"
   ]
  },
  {
   "cell_type": "code",
   "execution_count": 4,
   "metadata": {},
   "outputs": [],
   "source": [
    "from geo2stl.geo2stl import *"
   ]
  },
  {
   "cell_type": "code",
   "execution_count": null,
   "metadata": {},
   "outputs": [],
   "source": []
  },
  {
   "cell_type": "code",
   "execution_count": null,
   "metadata": {},
   "outputs": [],
   "source": []
  },
  {
   "cell_type": "markdown",
   "metadata": {},
   "source": [
    "#### Get data from source and place in root\n",
    "https://www.gebco.net/data-products/gridded-bathymetry-data/gebco-2020\n",
    "\n",
    "\"\""
   ]
  },
  {
   "cell_type": "code",
   "execution_count": null,
   "metadata": {},
   "outputs": [],
   "source": [
    "Ocean_root = \"C:\\\\Users\\\\eac84\\\\Desktop\\\\Desktop\\\\Tasks\\\\srtm_tifs\\\\gebco_2020_geotiff\\\\\"\n",
    "tile_files = glob.glob(Ocean_root+\"*.tif\")\n"
   ]
  },
  {
   "cell_type": "code",
   "execution_count": null,
   "metadata": {},
   "outputs": [],
   "source": [
    "Ocean_root = \"C:\\\\Users\\\\eac84\\\\Desktop\\\\srtm_tifs\\\\gebco_2020_geotiff\\\\*\"\n",
    "Ocean_root = \"C:\\\\Users\\\\eac84\\\\Desktop\\\\Desktop\\\\Tasks\\\\srtm_tifs\\\\gebco_2020_geotiff\\\\\"\n",
    "strm_fns = glob.glob(Ocean_root+\"*.tif\")\n",
    "strm_fns "
   ]
  },
  {
   "cell_type": "markdown",
   "metadata": {},
   "source": [
    "## CARIBE"
   ]
  },
  {
   "cell_type": "code",
   "execution_count": null,
   "metadata": {},
   "outputs": [],
   "source": [
    "nsew = 31,6,-54,-102"
   ]
  },
  {
   "cell_type": "code",
   "execution_count": 5,
   "metadata": {},
   "outputs": [
    {
     "ename": "NameError",
     "evalue": "name 'io' is not defined",
     "output_type": "error",
     "traceback": [
      "\u001b[1;31m---------------------------------------------------------------------------\u001b[0m",
      "\u001b[1;31mNameError\u001b[0m                                 Traceback (most recent call last)",
      "Cell \u001b[1;32mIn[5], line 1\u001b[0m\n\u001b[1;32m----> 1\u001b[0m imW \u001b[38;5;241m=\u001b[39m \u001b[43mio\u001b[49m\u001b[38;5;241m.\u001b[39mimread(strm_fns[\u001b[38;5;241m4\u001b[39m])\n\u001b[0;32m      2\u001b[0m imE \u001b[38;5;241m=\u001b[39m io\u001b[38;5;241m.\u001b[39mimread(strm_fns[\u001b[38;5;241m5\u001b[39m])\n\u001b[0;32m      4\u001b[0m offset \u001b[38;5;241m=\u001b[39m np\u001b[38;5;241m.\u001b[39marray([\u001b[38;5;241m90\u001b[39m,\u001b[38;5;241m90\u001b[39m,\u001b[38;5;241m-\u001b[39m\u001b[38;5;241m90\u001b[39m,\u001b[38;5;241m-\u001b[39m\u001b[38;5;241m90\u001b[39m])\n",
      "\u001b[1;31mNameError\u001b[0m: name 'io' is not defined"
     ]
    }
   ],
   "source": [
    "\n",
    "imW = io.imread(strm_fns[4])\n",
    "imE = io.imread(strm_fns[5])\n",
    "\n",
    "offset = np.array([90,90,-90,-90])\n",
    "imE = NSEW_crop_(imE, nsew, offset)\n",
    "\n",
    "offset = np.array([90,90,-180,-180])\n",
    "imW = NSEW_crop_(imW, nsew, offset)\n",
    "\n",
    "im = np.hstack((imW,imE))\n",
    "\n",
    "plt.imshow(im, cmap=\"jet\")"
   ]
  },
  {
   "cell_type": "code",
   "execution_count": null,
   "metadata": {},
   "outputs": [],
   "source": [
    "im2 = im.copy()\n",
    "im2[im2>0] = im2[im2>0]+1000\n",
    "\n",
    "sz = tuple((np.array(im2.shape)[[1,0]]*0.2).astype(np.int))\n",
    "im2 = im2 * 0.2\n",
    "im2 = cv2.resize(im2,sz)\n",
    "\n",
    "im2 = im2 * 0.02\n",
    "\n",
    "#im3 = proj_map_height(im2, np.array([n,s,e,w]))\n",
    "im4 = im2 #+ np.round(im3,3)\n",
    "im4 = proj_map_geo_to_2D(im4, np.array([n,s,e,w]))\n",
    "\n",
    "#im4[np.isnan(im4)] = np.nanmin(im4)\n",
    "im4 = im4[:,~np.any(np.isnan(im4),axis=0)]\n",
    "im4 = im4 - np.min(im4) + 1\n",
    "im4 = im4[::-1]"
   ]
  },
  {
   "cell_type": "code",
   "execution_count": null,
   "metadata": {},
   "outputs": [],
   "source": [
    "plt.figure()\n",
    "plt.imshow(im4[::-1],cmap=\"jet\")"
   ]
  },
  {
   "cell_type": "code",
   "execution_count": null,
   "metadata": {},
   "outputs": [],
   "source": [
    "tri = np3D.numpy2stl(im4)\n",
    "facets = np3D.triangles_to_facets(tri)\n",
    "np3D.writeSTL(facets, \"Ocean_flat.stl\")"
   ]
  },
  {
   "cell_type": "code",
   "execution_count": null,
   "metadata": {},
   "outputs": [],
   "source": [
    "vertices, faces = np3D.vertices_to_index(tri)\n",
    "mesh = trimesh.Trimesh(vertices,faces)\n",
    "#mesh.show()"
   ]
  },
  {
   "cell_type": "markdown",
   "metadata": {},
   "source": [
    "## COLOMBIA"
   ]
  },
  {
   "cell_type": "code",
   "execution_count": null,
   "metadata": {},
   "outputs": [],
   "source": [
    "from strm2stl.osm2stl import get_boundries_osmnx"
   ]
  },
  {
   "cell_type": "code",
   "execution_count": null,
   "metadata": {},
   "outputs": [],
   "source": [
    "from strm2stl.create import coor2im\n",
    "from strm2stl.dem2stl import embed_lines\n",
    "from skimage import morphology\n",
    "from skimage.draw import line_aa, polygon2mask"
   ]
  },
  {
   "cell_type": "code",
   "execution_count": null,
   "metadata": {},
   "outputs": [],
   "source": [
    "nsew = 14,-6,-64,-84\n",
    "nsew = np.array(nsew)"
   ]
  },
  {
   "cell_type": "code",
   "execution_count": null,
   "metadata": {},
   "outputs": [],
   "source": [
    "imN = io.imread(strm_fns[5])\n",
    "offset = np.array([90,90,-90,-90])\n",
    "imN = NSEW_crop_(imN, nsew, offset)\n",
    "\n",
    "imS = io.imread(strm_fns[1])\n",
    "offset = np.array([0,0,-90,-90])\n",
    "imS = NSEW_crop_(imS, nsew, offset)\n",
    "im = np.vstack((imN,imS))\n",
    "\n",
    "plt.imshow(im, cmap=\"jet\")"
   ]
  },
  {
   "cell_type": "code",
   "execution_count": null,
   "metadata": {},
   "outputs": [],
   "source": [
    "x1 = 300 \n",
    "x3 = 2000\n",
    "im_ = im.copy()\n",
    "im_[im_>x1] = im_[im_>x1] + (x3-x1)\n",
    "bx = (im_<=x1) & (im_>0)\n",
    "im_[bx] = im_[bx] * (x3/x1)\n",
    "\n",
    "im_[im_<0] = im_[im_<0]*0.5\n",
    "im_[im_>0] = im_[im_>0] + 10"
   ]
  },
  {
   "cell_type": "code",
   "execution_count": null,
   "metadata": {},
   "outputs": [],
   "source": [
    "scale = 0.5\n",
    "sz = tuple((np.array(im_.shape)[[1,0]]*scale).astype(int))\n",
    "im_ = im_ * scale\n",
    "im_ = cv2.resize(im_,sz)\n",
    "im_ = im_ * 0.01"
   ]
  },
  {
   "cell_type": "code",
   "execution_count": null,
   "metadata": {},
   "outputs": [],
   "source": [
    "sealine = im_>0\n",
    "sealine = morphology.binary_dilation(sealine, morphology.disk(2)) & ~sealine\n",
    "im_ = im_ - (sealine* im_.ptp()*0.01)"
   ]
  },
  {
   "cell_type": "code",
   "execution_count": null,
   "metadata": {},
   "outputs": [],
   "source": [
    "bounds,bbox = get_boundries_osmnx('Colombia')\n",
    "boundry = bounds[-2]"
   ]
  },
  {
   "cell_type": "code",
   "execution_count": null,
   "metadata": {},
   "outputs": [],
   "source": [
    "nsew = np.array(nsew)\n",
    "coorlims = (nsew[np.array([0,1])], nsew[np.array([2,3])])\n",
    "imlims = ((0,im_.shape[1]), (im_.shape[0], 0))\n",
    "r,c = coor2im(coorlims, imlims, boundry.pts.T)\n",
    "\n",
    "im_lines = np.zeros(im_.shape, dtype=np.uint8)\n",
    "\n",
    "for i in range(len(r)-1):\n",
    "\trr, cc, val = line_aa(int(round(r[i])), int(round(c[i])), int(round(r[i+1])), int(round(c[i+1])))\n",
    "\tim_lines[rr, cc] = val*255\n",
    "\t\t\t\n",
    "im_lines = morphology.binary_dilation(im_lines, morphology.disk(2))\n",
    "\n",
    "im_lines[im_<0] = 0 \n",
    "im_ = im_ - (im_lines* im_.ptp()*0.01)\n",
    "\n",
    "im_ = im_ - np.min(im_) + (im_.ptp()*.01)"
   ]
  },
  {
   "cell_type": "code",
   "execution_count": null,
   "metadata": {},
   "outputs": [],
   "source": [
    "out_dir = \"C:/Users/eac84/Desktop/Desktop/Tasks/STL/Maps/\"\n",
    "name = \"Colombia\"\n",
    "savefile(out_dir, name, im_ )"
   ]
  },
  {
   "cell_type": "markdown",
   "metadata": {},
   "source": [
    "## Medellin"
   ]
  },
  {
   "cell_type": "code",
   "execution_count": null,
   "metadata": {},
   "outputs": [],
   "source": [
    "imN = io.imread(strm_fns[5])\n",
    "\n",
    "plt.imshow(imN[20000:20200:,3300:3700:,],cmap=\"jet\")"
   ]
  },
  {
   "cell_type": "markdown",
   "metadata": {},
   "source": [
    "## INDIAN RIVER"
   ]
  },
  {
   "cell_type": "code",
   "execution_count": null,
   "metadata": {},
   "outputs": [],
   "source": [
    "n,s,e,w = 28,27,-80,-80.6"
   ]
  },
  {
   "cell_type": "code",
   "execution_count": null,
   "metadata": {},
   "outputs": [],
   "source": [
    "imE = io.imread(strm_fns[5])\n",
    "nsewE = n,s,e,max(-90,w)\n",
    "imE = NSEW_crop1(imE, nsewE)\n",
    "im = imE.copy()\n",
    "\n",
    "im[im>0] = im[im>0] + 10\n",
    "im[im<-20] = -20\n",
    "\n",
    "plt.imshow(im, cmap=\"jet\")"
   ]
  },
  {
   "cell_type": "code",
   "execution_count": null,
   "metadata": {},
   "outputs": [],
   "source": [
    "plt.imshow(im, cmap=\"jet\")"
   ]
  },
  {
   "cell_type": "markdown",
   "metadata": {},
   "source": [
    "## IBERIA"
   ]
  },
  {
   "cell_type": "code",
   "execution_count": null,
   "metadata": {},
   "outputs": [],
   "source": [
    "nsew = 44.4,34.8,5.3,-11\n",
    "\n",
    "imW = io.imread(strm_fns[5])\n",
    "imE = io.imread(strm_fns[6])\n",
    "\n",
    "offset = np.array([90,90,-90,-90])\n",
    "imW = NSEW_crop_(imW, nsew, offset)\n",
    "\n",
    "offset = np.array([90,90,-0,-0])\n",
    "imE = NSEW_crop_(imE, nsew, offset)"
   ]
  },
  {
   "cell_type": "code",
   "execution_count": null,
   "metadata": {},
   "outputs": [],
   "source": [
    "im = np.hstack((imW,imE))\n",
    "im[im<0] = im[im<0]*0.25\n",
    "im[im>0] = im[im>0]+100\n",
    "plt.imshow(im,cmap=\"jet\")"
   ]
  },
  {
   "cell_type": "code",
   "execution_count": null,
   "metadata": {},
   "outputs": [],
   "source": [
    "im_r = im.copy()\n",
    "im_r[im_r<0]=0\n",
    "im_r = (ndi.gaussian_filter(im_r,10) - im_r).clip(0)\n",
    "im = im - 2*im_r"
   ]
  },
  {
   "cell_type": "code",
   "execution_count": null,
   "metadata": {},
   "outputs": [],
   "source": [
    "plt.imshow(im2)"
   ]
  },
  {
   "cell_type": "code",
   "execution_count": null,
   "metadata": {},
   "outputs": [],
   "source": [
    "im2 = proj_map_geo_to_2D(im, np.array(nsew))\n",
    "im2 = im2[:,~np.any(np.isnan(im2),axis=0)]\n",
    "im2 = im2 - np.min(im2) + 1"
   ]
  },
  {
   "cell_type": "code",
   "execution_count": null,
   "metadata": {},
   "outputs": [],
   "source": [
    "scale = 0.3\n",
    "sz = tuple((np.array(im2.shape)[[1,0]]*scale).astype(int))\n",
    "im2 = im2 * scale\n",
    "im2 = cv2.resize(im2,sz)\n",
    "im2 = im2 * 0.02"
   ]
  },
  {
   "cell_type": "code",
   "execution_count": null,
   "metadata": {},
   "outputs": [],
   "source": [
    "plt.imshow(im2, cmap=\"jet\")"
   ]
  },
  {
   "cell_type": "code",
   "execution_count": null,
   "metadata": {},
   "outputs": [],
   "source": [
    "out_dir = \"C:/Users/eac84/Desktop/Desktop/Tasks/STL/Maps/\"\n",
    "name = \"Ibera\"\n",
    "savefile(out_dir, name, im2 )\n"
   ]
  },
  {
   "cell_type": "markdown",
   "metadata": {},
   "source": [
    "## UK"
   ]
  },
  {
   "cell_type": "code",
   "execution_count": null,
   "metadata": {},
   "outputs": [],
   "source": [
    "n,s,e,w = 90,0,30,-30\n",
    "\n",
    "nsewE = n,s,e,0\n",
    "#imE = NSEW_crop(imE, nsewE, [90,0,90,0] )\n",
    "nsewW = n,s,0,w\n",
    "#imW = NSEW_crop(imW, nsewW, [90,0,0,-90])"
   ]
  },
  {
   "cell_type": "code",
   "execution_count": null,
   "metadata": {},
   "outputs": [],
   "source": [
    "n,s = 7300, 9700\n",
    "imW = imW1[n:s, 19000:]\n",
    "imW[imW<0 ] = 0\n",
    "\n",
    "imE = imE1[n:s, :700]\n",
    "imE[imE<0 ] = 0"
   ]
  },
  {
   "cell_type": "code",
   "execution_count": null,
   "metadata": {},
   "outputs": [],
   "source": [
    "imW1 = io.imread(fns[5])\n",
    "imE1 = io.imread(fns[6])"
   ]
  },
  {
   "cell_type": "code",
   "execution_count": null,
   "metadata": {},
   "outputs": [],
   "source": [
    "y = np.array([7000,9700])\n",
    "x1 = np.array([19000])\n",
    "x2 = np.array([700])\n",
    "ntop = 90\n",
    "wtop = 90\n",
    "\n",
    "lat = -(y * 90/21600) + ntop\n",
    "lng1 = (x1 * 90/21600) - wtop\n",
    "lng2 = (x2 * 90/21600) - 0\n",
    "\n",
    "nsew = np.array([*lat,*lng2,*lng1])\n",
    "print(nsew)"
   ]
  },
  {
   "cell_type": "code",
   "execution_count": null,
   "metadata": {},
   "outputs": [],
   "source": [
    "im1 = np.concatenate((imW,imE),axis=1)\n",
    "im1 = proj_map_geo_to_2D(im1, nsew)"
   ]
  },
  {
   "cell_type": "code",
   "execution_count": null,
   "metadata": {},
   "outputs": [],
   "source": [
    "im2 = im1.copy()\n",
    "maxZ = np.max(im2)\n",
    "im2 = im2 / maxZ\n",
    "im2 = im2 ** 0.7\n",
    "im2 = im2 * maxZ\n",
    "im2 = im2[::-1]"
   ]
  },
  {
   "cell_type": "code",
   "execution_count": null,
   "metadata": {},
   "outputs": [],
   "source": [
    "sz = tuple((np.array(im2.shape)[[1,0]]*0.5).astype(np.int))\n",
    "im2 = im2 * 0.5\n",
    "im2 = cv2.resize(im2,sz)"
   ]
  },
  {
   "cell_type": "code",
   "execution_count": null,
   "metadata": {},
   "outputs": [],
   "source": [
    "out_dir = \"C:\\\\Users\\\\eac84\\\\Desktop\\\\STL\\\\Maps\\\\\"\n",
    "tri = np3D.numpy2stl(im2+10)\n",
    "facets = np3D.triangles_to_facets(tri)\n",
    "np3D.writeSTL(facets, out_dir + \"UK.stl\")"
   ]
  },
  {
   "cell_type": "markdown",
   "metadata": {},
   "source": [
    "AndaLucia"
   ]
  },
  {
   "cell_type": "code",
   "execution_count": null,
   "metadata": {},
   "outputs": [],
   "source": [
    "imE1 = io.imread(fns[5])"
   ]
  },
  {
   "cell_type": "code",
   "execution_count": null,
   "metadata": {},
   "outputs": [],
   "source": [
    "plt.imshow(imE1[12200:12800:5,-1000:-300:5])"
   ]
  },
  {
   "cell_type": "code",
   "execution_count": null,
   "metadata": {},
   "outputs": [],
   "source": [
    "imE1.shape"
   ]
  },
  {
   "cell_type": "markdown",
   "metadata": {},
   "source": [
    "## Brazil"
   ]
  },
  {
   "cell_type": "code",
   "execution_count": null,
   "metadata": {},
   "outputs": [],
   "source": [
    "im_all = io.imread(strm_fns[1])\n",
    "plt.imshow(im_all[::10,::10])"
   ]
  },
  {
   "cell_type": "code",
   "execution_count": null,
   "metadata": {},
   "outputs": [],
   "source": [
    "def normalize(imx):\n",
    "\n",
    "\tl1,l2,l3= np.percentile(imx.ravel()[::10], [1,50,99])\n",
    "\n",
    "\timx = imx - l2\n",
    "\timx[imx<0] = imx[imx<0] / np.maximum(l1,l2-1)\n",
    "\timx[imx>0] = imx[imx>0] / l3\n",
    "\t#imx = imx.clip(-5,5)\n",
    "\treturn imx"
   ]
  },
  {
   "cell_type": "code",
   "execution_count": null,
   "metadata": {},
   "outputs": [],
   "source": [
    "plt.close(\"all\")\n",
    "\n",
    "imx = im_all[5500:5800,10200:10700]*1.\n",
    "imx = normalize(imx)\n",
    "plt.figure()\n",
    "plt.imshow(imx, cmap=\"jet\")\n",
    "\n",
    "imx = im_all[5420:5550,11150:11350]*1.\n",
    "imx = normalize(imx)\n",
    "plt.figure()\n",
    "plt.imshow(imx, cmap=\"jet\")\n",
    "\n",
    "\n",
    "imx = im_all[5200:5800,10200:11500]*1.\n",
    "imx[imx>0] = imx[imx>0]+100\n",
    "imx = imx.clip(-100)\n",
    "imx = normalize(imx)\n",
    "\n",
    "plt.figure()\n",
    "plt.imshow(imx, cmap=\"jet\")"
   ]
  },
  {
   "cell_type": "code",
   "execution_count": null,
   "metadata": {},
   "outputs": [],
   "source": [
    "plt.close(\"all\")\n",
    "\n",
    "imx = im_all[4000:7000:10,7500:10500:10]*1.\n",
    "imx = imx.clip(-10)\n",
    "imx[imx>0] = imx[imx>0]+200\n",
    "imx = normalize(imx)\n",
    "plt.figure()\t\n",
    "plt.imshow(imx, cmap=\"jet\")\n",
    "\n",
    "imx = im_all[5800:6500,8000:9000:]*1.\n",
    "imx = normalize(imx)\n",
    "\n",
    "plt.figure()\t\n",
    "plt.imshow(imx, cmap=\"jet\")\n",
    "\n",
    "imx = im_all[5900:6200,8300:8800:]*1.\n",
    "imx = normalize(imx)\n",
    "\n",
    "plt.figure()\t\n",
    "plt.imshow(imx, cmap=\"jet\")\n",
    "plt.figure()\n",
    "plt.hist(imx.ravel())"
   ]
  },
  {
   "cell_type": "markdown",
   "metadata": {},
   "source": [
    "## AFRICA"
   ]
  },
  {
   "cell_type": "code",
   "execution_count": null,
   "metadata": {},
   "outputs": [],
   "source": [
    "im_4 = io.imread(strm_fns[2])\n",
    "im_1 = io.imread(strm_fns[5])\n",
    "im_2 = io.imread(strm_fns[6])\n",
    "im_3 = io.imread(strm_fns[1])"
   ]
  },
  {
   "cell_type": "code",
   "execution_count": null,
   "metadata": {},
   "outputs": [],
   "source": [
    "im_all = np.vstack([np.hstack([im_1,im_2]),np.hstack([im_3,im_4])])\n",
    "index = [11000,31500,15500,36000]\n",
    "im_0 = im_all[index[0]:index[1],index[2]:index[3]] * 1.0\n",
    "\n",
    "\n"
   ]
  },
  {
   "cell_type": "code",
   "execution_count": null,
   "metadata": {},
   "outputs": [],
   "source": [
    "im_x = im_0\n",
    "sz = tuple((np.array(im_x.shape)[[1,0]]*0.02).astype(int))\n",
    "im_x = im_x * 0.1\n",
    "im_x = cv2.resize(im_x,sz)*1.0\n",
    "\n",
    "sz = tuple((np.array(im_x.shape)[[1,0]]*2).astype(int))\n",
    "im_x = cv2.resize(im_x,sz)\n",
    "plt.close(\"all\")\n",
    "\n",
    "plt.figure()\n",
    "plt.hist(im_x.ravel()[::5],100)\n",
    "\n",
    "x = 200\n",
    "im_x[im_x>x] = 0.2*(im_x[im_x>x]-x)+x\n",
    "\n",
    "im_x[im_x<0] = im_x[im_x<0]*.1\n",
    "\n",
    "x = 100\n",
    "im_x[im_x>x] = 0.5*(im_x[im_x>x]-x)+x\n",
    "\n",
    "x = 50\n",
    "im_x[im_x>x] = 0.5*(im_x[im_x>x]-x)+x\n",
    "\n",
    "im_x[im_x<0] = im_x[im_x<0]*.2\n",
    "\n",
    "x = -10\n",
    "im_x[im_x<x] = 5*(im_x[im_x<x]-x)+x\n",
    "\n",
    "im_x[im_x<0] = im_x[im_x<0] - 0.05*(im_x.max()-im_x.min())\n",
    "\n",
    "\n",
    "\n",
    "plt.figure()\n",
    "plt.hist(im_x.ravel()[::5],100)\n",
    "\n",
    "plt.figure()\n",
    "plt.imshow(im_x,cmap=\"jet\")\n",
    "\n",
    "plt.figure()\n",
    "plt.imshow(im_x.clip(0),cmap=\"jet\")"
   ]
  },
  {
   "cell_type": "code",
   "execution_count": null,
   "metadata": {},
   "outputs": [],
   "source": []
  },
  {
   "cell_type": "code",
   "execution_count": null,
   "metadata": {},
   "outputs": [],
   "source": [
    "n1,s1,e1,w1 = mat2coor( [0, 180, -90,90], [43200, 43200], index)\n",
    "s1 = s1 - 180\n",
    "\n",
    "nsew1 = (n1,s1,e1,w1)"
   ]
  },
  {
   "cell_type": "code",
   "execution_count": null,
   "metadata": {},
   "outputs": [],
   "source": [
    "\n",
    "plt.figure()\n",
    "sz = tuple((np.array(im_x.shape)[[1,0]]*1).astype(int))\n",
    "plt.imshow(cv2.resize(im_x,sz), cmap=\"jet\")"
   ]
  },
  {
   "cell_type": "code",
   "execution_count": null,
   "metadata": {},
   "outputs": [],
   "source": [
    "plt.close(\"all\")\n",
    "\n",
    "plt.figure()\n",
    "plt.hist(im_x.ravel()[::5],100)\n",
    "\n",
    "plt.figure()\n",
    "plt.imshow(im_x,cmap=\"jet\")"
   ]
  },
  {
   "cell_type": "code",
   "execution_count": null,
   "metadata": {},
   "outputs": [],
   "source": [
    "im_x2 = proj_map_geo_to_2D(im_x,np.array(nsew1))\n",
    "\n",
    "plt.figure()\n",
    "plt.imshow(im_x2,cmap=\"jet\")"
   ]
  },
  {
   "cell_type": "code",
   "execution_count": null,
   "metadata": {},
   "outputs": [],
   "source": [
    "im_x = im_x - im_x.min() + 10\n",
    "\n",
    "\n",
    "out_dir = \"C:/Users/eac84/OneDrive/Documents/Projects/3D Maps/Map_files/\"\n",
    "name = \"Africa\"\n",
    "savefile(out_dir, name, im_x)"
   ]
  },
  {
   "cell_type": "markdown",
   "metadata": {},
   "source": [
    "## Colorado"
   ]
  },
  {
   "cell_type": "code",
   "execution_count": null,
   "metadata": {},
   "outputs": [],
   "source": [
    "N,S,E,W = [41.0034002,   \n",
    "           36.9925245, \n",
    "       \t   -102.041585 , \n",
    "           -109.0601879]\n"
   ]
  },
  {
   "cell_type": "code",
   "execution_count": null,
   "metadata": {},
   "outputs": [],
   "source": [
    "\n",
    "target_bbox = (N, S, E, W)\n",
    "\n",
    "result = stitch_tiles_no_rasterio(tile_files, target_bbox)\n",
    "\n",
    "im = result.copy()\n",
    "\n",
    "#im = proj_map_geo_to_2D(im,np.array((N, S, E, W)))\n",
    "#im = im[:,~np.any(np.isnan(im),axis=0)]\n",
    "\n",
    "plt.figure\n",
    "plt.imshow(im, cmap='terrain')\n",
    "plt.colorbar()\n",
    "plt.show()"
   ]
  },
  {
   "cell_type": "code",
   "execution_count": null,
   "metadata": {},
   "outputs": [],
   "source": [
    "x = 2000\n",
    "im_x[im_x>x] = 0.5*(im_x[im_x>x]-x)+x\n",
    "\n",
    "#x = 2250\n",
    "#im_x[im_x>x] = 0.5*(im_x[im_x>x]-x)+x"
   ]
  },
  {
   "cell_type": "code",
   "execution_count": null,
   "metadata": {},
   "outputs": [],
   "source": [
    "scale = 0.4\n",
    "sz = tuple((np.array(im_x.shape)[[1,0]]*scale).astype(int))\n",
    "im_x = im_x * scale\n",
    "im_x = cv2.resize(im_x,sz)\n",
    "im_x = im_x * 0.02"
   ]
  },
  {
   "cell_type": "code",
   "execution_count": null,
   "metadata": {},
   "outputs": [],
   "source": [
    "out_dir = \"C:/Users/eac84/OneDrive/Documents/Projects/3D Maps/Map_files/\"\n",
    "name = \"Colorado\"\n",
    "im_x = im_x - im_x.min() + im_x.ptp()*0.1\n",
    "savefile(out_dir, name, im_x)"
   ]
  },
  {
   "cell_type": "code",
   "execution_count": null,
   "metadata": {},
   "outputs": [],
   "source": [
    "(471.5 /2) - (471/3)"
   ]
  },
  {
   "cell_type": "markdown",
   "metadata": {},
   "source": [
    "## Puerto Rico"
   ]
  },
  {
   "cell_type": "code",
   "execution_count": null,
   "metadata": {},
   "outputs": [],
   "source": [
    "nsew = 18.75, 17.65, -65.15, -67.35"
   ]
  },
  {
   "cell_type": "code",
   "execution_count": null,
   "metadata": {},
   "outputs": [],
   "source": [
    "im_ = io.imread(strm_fns[5])\n",
    "offset = np.array([90,90,-90,-90])\n",
    "imE = NSEW_crop_(im_, nsew, offset).copy()\n",
    "\n",
    "imE[imE<0] = imE[imE<0]*0.2\n",
    "imE[imE>0] = imE[imE>0] + 100\n",
    "plt.imshow(np.vstack([imE]), cmap=\"jet\")"
   ]
  },
  {
   "cell_type": "code",
   "execution_count": null,
   "metadata": {},
   "outputs": [],
   "source": [
    "im_x = imE - imE.min() + (imE.ptp()*0.1)"
   ]
  },
  {
   "cell_type": "code",
   "execution_count": null,
   "metadata": {},
   "outputs": [],
   "source": [
    "scale = 2\n",
    "sz = tuple((np.array(im_x.shape)[[1,0]]*scale).astype(int))\n",
    "im_x = im_x * scale\n",
    "im_x = cv2.resize(im_x,sz)\n",
    "im_x = im_x * 0.02"
   ]
  },
  {
   "cell_type": "code",
   "execution_count": null,
   "metadata": {},
   "outputs": [],
   "source": [
    "plt.imshow(im_x)"
   ]
  },
  {
   "cell_type": "code",
   "execution_count": null,
   "metadata": {},
   "outputs": [],
   "source": [
    "out_dir = \"C:/Users/eac84/OneDrive/Documents/Projects/3D Maps/Map_files/\"\n",
    "name = \"PuertoRico\"\n",
    "savefile(out_dir, name, im_x)"
   ]
  },
  {
   "cell_type": "markdown",
   "metadata": {},
   "source": [
    "## Keys"
   ]
  },
  {
   "cell_type": "code",
   "execution_count": null,
   "metadata": {},
   "outputs": [],
   "source": [
    "(N, S, E, W) = 25.9,24.3, -80,-82.0\n"
   ]
  },
  {
   "cell_type": "code",
   "execution_count": null,
   "metadata": {},
   "outputs": [],
   "source": [
    "\n",
    "target_bbox = (N, S, E, W)\n",
    "\n",
    "result = stitch_tiles_no_rasterio(tile_files, target_bbox)\n",
    "\n",
    "\n",
    "im = result.copy()\n",
    "im[im<0] = im[im<0]*0.1\n",
    "\n",
    "im = proj_map_geo_to_2D(im,np.array((N, S, E, W)))\n",
    "\n",
    "im = im[:,~np.any(np.isnan(im),axis=0)]\n",
    "#im[im<0] = im[im<0]-200\n",
    "\n",
    "if im is not None:\n",
    "\n",
    "\tplt.figure\n",
    "\tplt.imshow(im, cmap='terrain')\n",
    "\t \n",
    "\tplt.colorbar()\n",
    "\tplt.show()"
   ]
  },
  {
   "cell_type": "code",
   "execution_count": null,
   "metadata": {},
   "outputs": [],
   "source": [
    "\n",
    "offset = np.array([90,90,-90,-90])\n",
    "imE = NSEW_crop_(im_, nsew, offset).copy()*1.\n",
    "\n",
    "imE[imE<-100] = -100\n",
    "imE[imE<0] = imE[imE<0]*0.1\n",
    "imE[imE>0] = imE[imE>0] + 10\n"
   ]
  },
  {
   "cell_type": "code",
   "execution_count": null,
   "metadata": {},
   "outputs": [],
   "source": [
    "scale = 2\n",
    "im_x = imE.copy()\n",
    "sz = tuple((np.array(im_x.shape)[[1,0]]*scale).astype(int))\n",
    "im_x = im_x * scale\n",
    "im_x = cv2.resize(im_x,sz)\n",
    "im_x = im_x * 0.02"
   ]
  },
  {
   "cell_type": "code",
   "execution_count": null,
   "metadata": {},
   "outputs": [],
   "source": [
    "plt.imshow(im_x, cmap=\"jet\")"
   ]
  },
  {
   "cell_type": "code",
   "execution_count": null,
   "metadata": {},
   "outputs": [],
   "source": [
    "from scipy.ndimage import rotate"
   ]
  },
  {
   "cell_type": "code",
   "execution_count": null,
   "metadata": {},
   "outputs": [],
   "source": [
    "DEM = im_x\n",
    "rotation = 55 - 90\n",
    "\n",
    "DEM = rotate(DEM,rotation, reshape=True, cval=-10)\n",
    "\n",
    "DEM = DEM[480:820,:]\n",
    "DEM[DEM==-10] = DEM[DEM>-10].min()\n",
    "plt.figure()\n",
    "plt.imshow(DEM, cmap=\"jet\")"
   ]
  },
  {
   "cell_type": "markdown",
   "metadata": {},
   "source": [
    "## Great Lakes"
   ]
  },
  {
   "cell_type": "code",
   "execution_count": null,
   "metadata": {},
   "outputs": [],
   "source": [
    "(N, S, E, W) =  49.677, 40.465,  -74, -93.387,"
   ]
  },
  {
   "cell_type": "code",
   "execution_count": null,
   "metadata": {},
   "outputs": [],
   "source": [
    "\n",
    "target_bbox = (N, S, E, W)\n",
    "\n",
    "result = stitch_tiles_no_rasterio(tile_files, target_bbox)\n",
    "\n",
    "\n",
    "im = result.copy()\n",
    "im[im<0] = im[im<0]*0.1\n",
    "\n",
    "im = proj_map_geo_to_2D(im,np.array((N, S, E, W)))\n",
    "\n",
    "im = im[:,~np.any(np.isnan(im),axis=0)]\n",
    "\n",
    "\n"
   ]
  },
  {
   "cell_type": "code",
   "execution_count": null,
   "metadata": {},
   "outputs": [],
   "source": [
    "if im is not None:\n",
    "\n",
    "\tim[0,0] = -10\n",
    "\tim[0,1] = 500\n",
    "\n",
    "\tplt.figure\n",
    "\tplt.imshow(im, cmap='jet')\n",
    "\t \n",
    "\tplt.colorbar()\n",
    "\tplt.show()"
   ]
  },
  {
   "cell_type": "code",
   "execution_count": null,
   "metadata": {},
   "outputs": [],
   "source": [
    "im_x = im.copy()\n",
    "\n",
    "x = 500\n",
    "im_x[im_x>x] = 0.5*(im_x[im_x>x]-x)+x\n",
    "\n",
    "x = 800\n",
    "im_x[im_x>x] = 0.1*(im_x[im_x>x]-x)+x\n",
    "\n",
    "im_x = proj_map_geo_to_2D(im_x,np.array(nsew))\n",
    "\n",
    "im_x = im_x[:,~np.any(np.isnan(im_x),axis=0)]\n",
    "\n",
    "plt.imshow(im_x, cmap=\"jet\")"
   ]
  },
  {
   "cell_type": "markdown",
   "metadata": {},
   "source": [
    "## norway"
   ]
  },
  {
   "cell_type": "code",
   "execution_count": null,
   "metadata": {},
   "outputs": [],
   "source": [
    "S=57.03\n",
    "W=-5\n",
    "N=72.07\n",
    "E=33.28"
   ]
  },
  {
   "cell_type": "code",
   "execution_count": null,
   "metadata": {},
   "outputs": [],
   "source": [
    "target_bbox = (N, S, E, W)"
   ]
  },
  {
   "cell_type": "code",
   "execution_count": null,
   "metadata": {},
   "outputs": [],
   "source": [
    "target_bbox = (N, S, E, W)\n",
    "\n",
    "result = stitch_tiles_no_rasterio(tile_files, target_bbox)\n",
    "\n",
    "im = result.copy()\n",
    "im[im<0] = im[im<0]*0.1\n",
    "\n",
    "im = proj_map_geo_to_2D(im,np.array((N, S, E, W)))\n",
    "\n",
    "im = im[:,~np.any(np.isnan(im),axis=0)]\n",
    "\n",
    "if im is not None:\n",
    "\tfrom matplotlib import pyplot as plt\n",
    "\tplt.imshow(im, cmap='terrain')\n",
    "\t \n",
    "\tplt.colorbar()\n",
    "\tplt.show()"
   ]
  },
  {
   "cell_type": "markdown",
   "metadata": {},
   "source": [
    "## Japans"
   ]
  },
  {
   "cell_type": "code",
   "execution_count": null,
   "metadata": {},
   "outputs": [],
   "source": [
    "S=28.75\n",
    "W=118\n",
    "N=55.066\n",
    "E=153.69\n",
    "\n",
    "from matplotlib import pyplot as plt\n",
    "target_bbox = (N, S, E, W)\n",
    "\n",
    "result = stitch_tiles_no_rasterio(tile_files, target_bbox)\n"
   ]
  },
  {
   "cell_type": "code",
   "execution_count": null,
   "metadata": {},
   "outputs": [],
   "source": [
    "\n",
    "target_bbox = (N, S, E, W)\n",
    "\n",
    "result = stitch_tiles_no_rasterio(tile_files, target_bbox)\n",
    "\n",
    "im = result.copy()\n",
    "im[im<0] = im[im<0]*0.1\n",
    "\n",
    "im = proj_map_geo_to_2D(im,np.array((N, S, E, W)))\n",
    "\n",
    "im = im[:,~np.any(np.isnan(im),axis=0)]\n",
    "im[im<0] = im[im<0]-200\n",
    "\n",
    "plt.imshow(im, cmap=\"jet\")\n",
    "\n",
    "if im is not None:\n",
    "\n",
    "\tplt.figure\n",
    "\tplt.imshow(im, cmap='terrain')\n",
    "\t \n",
    "\tplt.colorbar()\n",
    "\tplt.show()"
   ]
  },
  {
   "cell_type": "markdown",
   "metadata": {},
   "source": [
    "## mediterrian"
   ]
  },
  {
   "cell_type": "code",
   "execution_count": null,
   "metadata": {},
   "outputs": [],
   "source": [
    "S =  29\n",
    "W =  -15.\n",
    "N =  47\n",
    "E =  42\n",
    "\n"
   ]
  },
  {
   "cell_type": "code",
   "execution_count": null,
   "metadata": {},
   "outputs": [],
   "source": [
    "\n",
    "target_bbox = (N, S, E, W)\n",
    "\n",
    "result = stitch_tiles_no_rasterio(tile_files, target_bbox)\n",
    "\n",
    "im = result.copy()\n",
    "im[im<0] = im[im<0]*0.1\n",
    "\n",
    "im = proj_map_geo_to_2D(im,np.array((N, S, E, W)))\n",
    "\n",
    "im = im[:,~np.any(np.isnan(im),axis=0)]\n",
    "im[im<0] = im[im<0]-500\n",
    "\n",
    "if im is not None:\n",
    "\n",
    "\tplt.figure\n",
    "\tplt.imshow(im, cmap='terrain')\n",
    "\t \n",
    "\tplt.colorbar()\n",
    "\tplt.show()"
   ]
  },
  {
   "cell_type": "code",
   "execution_count": null,
   "metadata": {},
   "outputs": [],
   "source": []
  }
 ],
 "metadata": {
  "kernelspec": {
   "display_name": "Python 3",
   "language": "python",
   "name": "python3"
  },
  "language_info": {
   "codemirror_mode": {
    "name": "ipython",
    "version": 3
   },
   "file_extension": ".py",
   "mimetype": "text/x-python",
   "name": "python",
   "nbconvert_exporter": "python",
   "pygments_lexer": "ipython3",
   "version": "3.11.0"
  }
 },
 "nbformat": 4,
 "nbformat_minor": 4
}
