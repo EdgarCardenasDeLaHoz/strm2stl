{
 "cells": [
  {
   "cell_type": "code",
   "execution_count": 5,
   "metadata": {},
   "outputs": [],
   "source": [
    "import h5py\n",
    "import glob \n",
    "from PIL import Image\n",
    "import numpy as np \n",
    "import matplotlib.pyplot as plt"
   ]
  },
  {
   "cell_type": "code",
   "execution_count": 18,
   "metadata": {},
   "outputs": [],
   "source": [
    "tif_root = \"C:/Users/eac84/Desktop/Desktop/Tasks/srtm_tifs/\""
   ]
  },
  {
   "cell_type": "code",
   "execution_count": 21,
   "metadata": {},
   "outputs": [],
   "source": [
    "fns = glob.glob(tif_root + \"/srtm*/*.tif\")\n",
    "h5fn = \"C:/Users/eac84/Desktop/Desktop/FILES/strm_data.h5\""
   ]
  },
  {
   "cell_type": "code",
   "execution_count": 22,
   "metadata": {},
   "outputs": [
    {
     "data": {
      "text/plain": [
       "['C:/Users/eac84/Desktop/Desktop/Tasks/srtm_tifs\\\\srtm_20_07\\\\srtm_20_07.tif',\n",
       " 'C:/Users/eac84/Desktop/Desktop/Tasks/srtm_tifs\\\\srtm_33_06\\\\srtm_33_06.tif',\n",
       " 'C:/Users/eac84/Desktop/Desktop/Tasks/srtm_tifs\\\\srtm_34_02\\\\srtm_34_02.tif',\n",
       " 'C:/Users/eac84/Desktop/Desktop/Tasks/srtm_tifs\\\\srtm_35_01\\\\srtm_35_01.tif',\n",
       " 'C:/Users/eac84/Desktop/Desktop/Tasks/srtm_tifs\\\\srtm_35_02\\\\srtm_35_02.tif',\n",
       " 'C:/Users/eac84/Desktop/Desktop/Tasks/srtm_tifs\\\\srtm_36_01\\\\srtm_36_01.tif',\n",
       " 'C:/Users/eac84/Desktop/Desktop/Tasks/srtm_tifs\\\\srtm_36_02\\\\srtm_36_02.tif',\n",
       " 'C:/Users/eac84/Desktop/Desktop/Tasks/srtm_tifs\\\\srtm_36_03\\\\srtm_36_03.tif',\n",
       " 'C:/Users/eac84/Desktop/Desktop/Tasks/srtm_tifs\\\\srtm_37_02\\\\srtm_37_02.tif',\n",
       " 'C:/Users/eac84/Desktop/Desktop/Tasks/srtm_tifs\\\\srtm_37_03\\\\srtm_37_03.tif',\n",
       " 'C:/Users/eac84/Desktop/Desktop/Tasks/srtm_tifs\\\\srtm_37_05\\\\srtm_37_05.tif',\n",
       " 'C:/Users/eac84/Desktop/Desktop/Tasks/srtm_tifs\\\\srtm_38_02\\\\srtm_38_02.tif',\n",
       " 'C:/Users/eac84/Desktop/Desktop/Tasks/srtm_tifs\\\\srtm_38_04\\\\srtm_38_04.tif',\n",
       " 'C:/Users/eac84/Desktop/Desktop/Tasks/srtm_tifs\\\\srtm_39_02\\\\srtm_39_02.tif',\n",
       " 'C:/Users/eac84/Desktop/Desktop/Tasks/srtm_tifs\\\\srtm_40_02\\\\srtm_40_02.tif',\n",
       " 'C:/Users/eac84/Desktop/Desktop/Tasks/srtm_tifs\\\\srtm_40_03\\\\srtm_40_03.tif',\n",
       " 'C:/Users/eac84/Desktop/Desktop/Tasks/srtm_tifs\\\\srtm_41_02\\\\srtm_41_02.tif',\n",
       " 'C:/Users/eac84/Desktop/Desktop/Tasks/srtm_tifs\\\\srtm_41_03\\\\srtm_41_03.tif',\n",
       " 'C:/Users/eac84/Desktop/Desktop/Tasks/srtm_tifs\\\\srtm_42_03\\\\srtm_42_03.tif']"
      ]
     },
     "execution_count": 22,
     "metadata": {},
     "output_type": "execute_result"
    }
   ],
   "source": [
    "fns "
   ]
  },
  {
   "cell_type": "code",
   "execution_count": 29,
   "metadata": {},
   "outputs": [
    {
     "name": "stdout",
     "output_type": "stream",
     "text": [
      "srtm_20_07  adding\n",
      "srtm_33_06  exists\n",
      "srtm_34_02  exists\n",
      "srtm_35_01  exists\n",
      "srtm_35_02  exists\n",
      "srtm_36_01  exists\n",
      "srtm_36_02  exists\n",
      "srtm_36_03  exists\n",
      "srtm_37_02  exists\n",
      "srtm_37_03  exists\n",
      "srtm_37_05  exists\n",
      "srtm_38_02  exists\n",
      "srtm_38_04  exists\n",
      "srtm_39_02  exists\n",
      "srtm_40_02  exists\n",
      "srtm_40_03  exists\n",
      "srtm_41_02  exists\n",
      "srtm_41_03  exists\n",
      "srtm_42_03  exists\n"
     ]
    }
   ],
   "source": [
    "with h5py.File(h5fn, 'r+') as fh:\n",
    "        \n",
    "\tfor fn in fns:\n",
    "        \n",
    "\t\tfilename = fn.split('\\\\')[-1].split('.')[0]\n",
    "\t\tif filename in fh: \n",
    "\t\t\tprint(filename, \" exists\")\n",
    "\t\t\tcontinue\n",
    "\t\telse: \n",
    "\t\t\tprint(filename, \" adding\")\n",
    "\n",
    "\t\tim = np.array( Image.open(fn) )\n",
    "\t\tim[im<0]= 0 \n",
    "\t\tim = im.astype(np.uint16)\n",
    "\t\tfh.create_dataset(filename, data = im, compression=\"lzf\")\n",
    "        "
   ]
  },
  {
   "cell_type": "code",
   "execution_count": 8,
   "metadata": {},
   "outputs": [
    {
     "ename": "NameError",
     "evalue": "name 'h5fn' is not defined",
     "output_type": "error",
     "traceback": [
      "\u001b[1;31m---------------------------------------------------------------------------\u001b[0m",
      "\u001b[1;31mNameError\u001b[0m                                 Traceback (most recent call last)",
      "\u001b[1;32m<ipython-input-8-2468cdbb594e>\u001b[0m in \u001b[0;36m<module>\u001b[1;34m\u001b[0m\n\u001b[1;32m----> 1\u001b[1;33m \u001b[1;32mwith\u001b[0m \u001b[0mh5py\u001b[0m\u001b[1;33m.\u001b[0m\u001b[0mFile\u001b[0m\u001b[1;33m(\u001b[0m\u001b[0mh5fn\u001b[0m\u001b[1;33m,\u001b[0m \u001b[1;34m'r+'\u001b[0m\u001b[1;33m)\u001b[0m \u001b[1;32mas\u001b[0m \u001b[0mfh\u001b[0m\u001b[1;33m:\u001b[0m\u001b[1;33m\u001b[0m\u001b[1;33m\u001b[0m\u001b[0m\n\u001b[0m\u001b[0;32m      2\u001b[0m     \u001b[0mkeys\u001b[0m \u001b[1;33m=\u001b[0m \u001b[0mlist\u001b[0m\u001b[1;33m(\u001b[0m\u001b[0mfh\u001b[0m\u001b[1;33m.\u001b[0m\u001b[0mkeys\u001b[0m\u001b[1;33m(\u001b[0m\u001b[1;33m)\u001b[0m\u001b[1;33m)\u001b[0m\u001b[1;33m\u001b[0m\u001b[1;33m\u001b[0m\u001b[0m\n",
      "\u001b[1;31mNameError\u001b[0m: name 'h5fn' is not defined"
     ]
    }
   ],
   "source": [
    "with h5py.File(h5fn, 'r+') as fh:\n",
    "    keys = list(fh.keys())"
   ]
  },
  {
   "cell_type": "code",
   "execution_count": 27,
   "metadata": {},
   "outputs": [
    {
     "data": {
      "text/plain": [
       "<matplotlib.image.AxesImage at 0x1b4b7458970>"
      ]
     },
     "execution_count": 27,
     "metadata": {},
     "output_type": "execute_result"
    }
   ],
   "source": [
    "plt.imshow(im)"
   ]
  },
  {
   "cell_type": "code",
   "execution_count": 26,
   "metadata": {},
   "outputs": [],
   "source": [
    "%matplotlib qt"
   ]
  },
  {
   "cell_type": "code",
   "execution_count": 5,
   "metadata": {},
   "outputs": [],
   "source": [
    "Map2 = plt.imread('MapList.PNG')"
   ]
  },
  {
   "cell_type": "code",
   "execution_count": 6,
   "metadata": {},
   "outputs": [],
   "source": [
    "def check_tiles(keys):\n",
    "\n",
    "    Map = np.zeros((24,72))\n",
    "    Map2 = plt.imread('MapList.PNG')\n",
    "    print(keys)\n",
    "    \n",
    "    for X in range( 1,72):\n",
    "        for Y in range( 1, 24):\n",
    "\n",
    "            Xstr = str(X)\n",
    "            if len(Xstr)==1:     Xstr = '0'+Xstr\n",
    "\n",
    "            Ystr = str(Y)\n",
    "            if len(Ystr)==1:     Ystr = '0'+Ystr\n",
    "            \n",
    "            if 'srtm_'+ Xstr+'_'+Ystr not in keys:\n",
    "                continue \n",
    "\n",
    "            Map[Y,X] = 1\n",
    "\n",
    "            x1 = int((X-1)*34.6)+ 50\n",
    "            x2 = int((X)*34.6) +50\n",
    "            y1 = int((Y-1)*34.8) +26\n",
    "            y2 = int((Y)*34.8) + 26\n",
    "            \n",
    "            #Xpix = np.arange( x1, x2 )  \n",
    "            #Ypix = np.arange( y1, y2 ) \n",
    "            Map2[y1:y2,x1:x2,:] = 0.5* Map2[y1:y2,x1:x2,:];\n",
    "\n",
    "    plt.figure()\n",
    "    plt.imshow(Map2)\n"
   ]
  },
  {
   "cell_type": "code",
   "execution_count": 7,
   "metadata": {},
   "outputs": [
    {
     "ename": "NameError",
     "evalue": "name 'keys' is not defined",
     "output_type": "error",
     "traceback": [
      "\u001b[1;31m---------------------------------------------------------------------------\u001b[0m",
      "\u001b[1;31mNameError\u001b[0m                                 Traceback (most recent call last)",
      "\u001b[1;32m<ipython-input-7-b827a88fcc83>\u001b[0m in \u001b[0;36m<module>\u001b[1;34m\u001b[0m\n\u001b[1;32m----> 1\u001b[1;33m \u001b[0mcheck_tiles\u001b[0m\u001b[1;33m(\u001b[0m\u001b[0mkeys\u001b[0m\u001b[1;33m)\u001b[0m\u001b[1;33m\u001b[0m\u001b[1;33m\u001b[0m\u001b[0m\n\u001b[0m",
      "\u001b[1;31mNameError\u001b[0m: name 'keys' is not defined"
     ]
    }
   ],
   "source": [
    "check_tiles(keys)"
   ]
  },
  {
   "cell_type": "code",
   "execution_count": 9,
   "metadata": {},
   "outputs": [],
   "source": [
    "%matplotlib qt"
   ]
  },
  {
   "cell_type": "code",
   "execution_count": null,
   "metadata": {},
   "outputs": [],
   "source": []
  }
 ],
 "metadata": {
  "kernelspec": {
   "display_name": "base",
   "language": "python",
   "name": "python3"
  },
  "language_info": {
   "codemirror_mode": {
    "name": "ipython",
    "version": 3
   },
   "file_extension": ".py",
   "mimetype": "text/x-python",
   "name": "python",
   "nbconvert_exporter": "python",
   "pygments_lexer": "ipython3",
   "version": "3.8.8"
  }
 },
 "nbformat": 4,
 "nbformat_minor": 4
}
