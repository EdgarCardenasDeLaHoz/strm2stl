{
 "cells": [
  {
   "cell_type": "code",
   "execution_count": null,
   "metadata": {},
   "outputs": [],
   "source": [
    "%load_ext line_profiler\n",
    "%load_ext autoreload\n",
    "%autoreload 2\n"
   ]
  },
  {
   "cell_type": "code",
   "execution_count": null,
   "metadata": {},
   "outputs": [],
   "source": [
    "import os \n",
    "import sys\n",
    "import numpy as np\n",
    "import pandas as pd\n",
    "from shapely.geometry import Polygon\n",
    "import osmnx as ox\n",
    "%matplotlib qt\n",
    "\n",
    "from buildings import *\n",
    "from dem2stl import *"
   ]
  },
  {
   "cell_type": "code",
   "execution_count": null,
   "metadata": {},
   "outputs": [],
   "source": [
    "sys.path.append('..\\\\numpy2stl')\n",
    "import numpy2stl as np2stl\n",
    "from osm2stl import *"
   ]
  },
  {
   "cell_type": "code",
   "execution_count": null,
   "metadata": {},
   "outputs": [],
   "source": [
    "pd.set_option('display.max_rows', None)"
   ]
  },
  {
   "cell_type": "code",
   "execution_count": null,
   "metadata": {},
   "outputs": [],
   "source": [
    "%matplotlib qt"
   ]
  },
  {
   "cell_type": "markdown",
   "metadata": {},
   "source": [
    "# Buildings and Cities: Philadelphia "
   ]
  },
  {
   "cell_type": "code",
   "execution_count": null,
   "metadata": {},
   "outputs": [],
   "source": [
    "NSEW = np.array([39.967, 39.945,-75.135,-75.1925])\n",
    "GEO_poly = ox.utils_geo.bbox_to_poly(*NSEW)\n",
    "gdf = building_polygons(GEO_poly)"
   ]
  },
  {
   "cell_type": "code",
   "execution_count": null,
   "metadata": {},
   "outputs": [],
   "source": [
    "poly = ox.geocode_to_gdf('Antwerp,Belgium')\n",
    "poly2 = ox.project_gdf(poly)\n",
    "GEO_poly = poly2.loc[0,\"geometry\"]"
   ]
  },
  {
   "cell_type": "code",
   "execution_count": null,
   "metadata": {},
   "outputs": [],
   "source": [
    "poly "
   ]
  },
  {
   "cell_type": "markdown",
   "metadata": {},
   "source": [
    "# Buildings and Cities: Antwerpen"
   ]
  },
  {
   "cell_type": "code",
   "execution_count": null,
   "metadata": {},
   "outputs": [],
   "source": [
    "from shapely.ops import cascaded_union\n",
    "from shapely.geometry import Polygon,MultiPolygon\n",
    "from shapely.geometry import polygon\n",
    "\n",
    "def polygon_to_perimeter(poly):\n",
    "    \n",
    "    poly = polygon.orient(poly)\n",
    "    \n",
    "    verts,peri = [],[]\n",
    "    n_v = 0\n",
    "    exter = np.array(poly.exterior.coords)\n",
    "    exter = exter[:-1]\n",
    "    verts.extend(exter)\n",
    "    peri.append( np.arange(len(exter) + n_v ))\n",
    "    n_v = len(exter) + n_v \n",
    "    \n",
    "    \n",
    "    inter = poly.interiors\n",
    "    for p in inter:\n",
    "        pts = p.coords[:-1]\n",
    "        verts.extend( pts )\n",
    "        peri.append( np.arange(len(pts)) + n_v )\n",
    "        n_v = len(pts) + n_v             \n",
    "               \n",
    "    verts = np.array(verts)\n",
    "    \n",
    "    perimeters = []\n",
    "    for line_idx in peri:\n",
    "        line = verts[line_idx]\n",
    "        \n",
    "        angles = get_perimeter_angles( line) \n",
    "        simpified_line = np.array(line_idx[  (angles < 179) | (angles > 181) ])\n",
    "        perimeters.append(simpified_line)\n",
    "    \n",
    "\n",
    "    return verts,perimeters\n",
    "\n",
    "def polygon_to_prism(polygons,heights,base_val=0):\n",
    "    all_triangles = []\n",
    "\n",
    "    for n,poly in enumerate(polygons):\n",
    "        print(n)\n",
    "        #if poly.area < 500: continue        \n",
    "        \n",
    "        verts, peri = polygon_to_perimeter(poly)\n",
    "        verts = np.concatenate((verts, verts[:,0:1]*0),axis=1)\n",
    "        \n",
    "        verts[:,2] = heights[n]\n",
    "        try:\n",
    "            _, faces = np2stl.simplify_surface(verts, peri)\n",
    "        except: \n",
    "            continue\n",
    "        \n",
    "        #    print(verts)\n",
    "        ## Add Z value\n",
    "        top_tris = verts[faces]\n",
    "        all_triangles.append( top_tris )\n",
    "        wall_tris = np2stl.perimeter_to_walls(verts, peri, floor_val=base_val)\n",
    "        all_triangles.append( wall_tris )\n",
    "\n",
    "    return all_triangles\n",
    "\n",
    "def shapely_to_buildings(shp_poly, z0=1,z1=39,polygons=None):\n",
    "    if polygons is None:\n",
    "        polygons = []\n",
    "        \n",
    "    for poly in shp_poly:\n",
    "        p = {}\n",
    "        p['roof_height'] = z1\n",
    "        p['base_height'] = z0\n",
    "        p['points'] = np.array(poly.exterior.coords).T\n",
    "        polygons.append(p)\n",
    "        \n",
    "    return polygons\n",
    "\n",
    "def triangulate_buildings(polygons):\n",
    "\n",
    "    triangles = []\n",
    "\n",
    "    for _,p in enumerate( polygons ):\n",
    "\n",
    "        roof = p['roof_height'] \n",
    "        base = p['base_height'] \n",
    "        vert = p['points'].T\n",
    "\n",
    "        #if (np.isclose(vert[0],vert[-1])):   \n",
    "        vert = vert[:-1]\n",
    "\n",
    "        zdim = np.zeros((len(vert),1)) + roof\n",
    "        vert = np.concatenate([vert, zdim],axis=1)\n",
    "        \n",
    "        tri = np2stl.polygon_to_prism(vert, base_val=base)\n",
    "        triangles.append( tri )\n",
    "\n",
    "    triangles = np.concatenate(triangles)   \n",
    "    return triangles\n",
    "\n",
    "def boundry_to_poly(GEO_poly):\n",
    "    pts = np.array(GEO_poly.exterior.coords).T\n",
    "    p = {\"points\":pts,\"roof_height\":0,\"base_height\":-30}\n",
    "    polygons = [p]\n",
    "\n",
    "    return polygons\n",
    "\n",
    "def get_waterways( GEO ):\n",
    "    \n",
    "    ftpt = ox.footprints_from_polygon(GEO, footprint_type=\"natural\")    \n",
    "    \n",
    "    x = ftpt[ftpt[\"natural\"]==\"water\"]\n",
    "    x = x.dropna(axis=1, how='all')\n",
    "    x = x[[\"geometry\",\"name\",\"waterway\",\"natural\"]]\n",
    "    areas = [i[\"geometry\"].area*10000000 for n,i in x.iterrows()]\n",
    "    x[\"areas\"] = areas\n",
    "    x = x[x[\"areas\"]>1]\n",
    "    \n",
    "    polys = [ i[\"geometry\"].intersection(GEO) for n,i in x.iterrows()]\n",
    "    x[\"geometry\"] = polys\n",
    "    x = ox.project_gdf(x)\n",
    "    return x "
   ]
  },
  {
   "cell_type": "code",
   "execution_count": null,
   "metadata": {},
   "outputs": [],
   "source": [
    "ox"
   ]
  },
  {
   "cell_type": "code",
   "execution_count": null,
   "metadata": {},
   "outputs": [],
   "source": [
    "#bounds,bbox = get_boundries_osmnx('Antwerp,Belgium')\n",
    "NSEW = np.array([51.242, 51.202,  4.42,  4.36])\n",
    "GEO_poly = ox.utils_geo.bbox_to_poly(*NSEW)"
   ]
  },
  {
   "cell_type": "code",
   "execution_count": null,
   "metadata": {},
   "outputs": [],
   "source": [
    "print(\"Adding Buildings\")\n",
    "#gdf = building_to_gdf(GEO_poly)\n",
    "gdf = ox.project_gdf(gdf)\n",
    "print(\"Making Polygons\")\n",
    "#building_poly = get_polygons(gdf)\n",
    "heights = building_heights(gdf)"
   ]
  },
  {
   "cell_type": "code",
   "execution_count": null,
   "metadata": {},
   "outputs": [],
   "source": []
  },
  {
   "cell_type": "code",
   "execution_count": null,
   "metadata": {},
   "outputs": [],
   "source": [
    "building_poly = get_polygons(gdf)\n",
    "building_poly = [Polygon(poly[\"points\"].T) for poly in building_poly]\n",
    "building_poly = MultiPolygon(building_poly)\n",
    "building_poly = cascaded_union(building_poly)\n",
    "print(building_poly)"
   ]
  },
  {
   "cell_type": "code",
   "execution_count": null,
   "metadata": {},
   "outputs": [],
   "source": [
    "building_poly = shapely_to_buildings(building_poly , z0=0,z1=40)\n",
    "print(building_poly)"
   ]
  },
  {
   "cell_type": "code",
   "execution_count": null,
   "metadata": {},
   "outputs": [],
   "source": [
    "\n",
    "\n",
    "tris = triangulate_buildings(building_poly)\n",
    "vertices, faces = np2stl.vertices_to_index(tris)\n",
    "mesh = trimesh.Trimesh(vertices,faces)\n",
    "#mesh.export(\"Antwerpen_buildings.stl\")"
   ]
  },
  {
   "cell_type": "code",
   "execution_count": null,
   "metadata": {},
   "outputs": [],
   "source": [
    "mesh.show()"
   ]
  },
  {
   "cell_type": "code",
   "execution_count": null,
   "metadata": {},
   "outputs": [],
   "source": []
  },
  {
   "cell_type": "markdown",
   "metadata": {},
   "source": [
    "## Get Waterways"
   ]
  },
  {
   "cell_type": "code",
   "execution_count": null,
   "metadata": {},
   "outputs": [],
   "source": [
    "gdf_rivers = get_waterways( GEO_poly )"
   ]
  },
  {
   "cell_type": "code",
   "execution_count": null,
   "metadata": {},
   "outputs": [],
   "source": [
    "polygons = get_polygons(gdf_rivers)\n",
    "\n",
    "water_poly = [Polygon(poly[\"points\"].T) for poly in polygons]\n",
    "water_poly = MultiPolygon(water_poly)\n",
    "water_poly = cascaded_union(water_poly)\n"
   ]
  },
  {
   "cell_type": "code",
   "execution_count": null,
   "metadata": {},
   "outputs": [],
   "source": [
    "patches = [PolygonPatch(poly) for poly in water_poly]\n",
    "patches.extend([PolygonPatch(poly) for poly in water_poly])\n",
    "draw_patches(patches)"
   ]
  },
  {
   "cell_type": "code",
   "execution_count": null,
   "metadata": {},
   "outputs": [],
   "source": [
    "pts = np.array([np.array(water_poly.bounds)[[0,0,2,2,0]],np.array(water_poly.bounds)[[1,3,3,1,1]]])\n",
    "p = {\"points\":pts,\"roof_height\":300,\"base_height\":1}\n",
    "base_dict = [p]"
   ]
  },
  {
   "cell_type": "code",
   "execution_count": null,
   "metadata": {},
   "outputs": [],
   "source": [
    "water_dict = shapely_to_buildings(water_poly, z0=-10,z1=1,polygons=None)"
   ]
  },
  {
   "cell_type": "code",
   "execution_count": null,
   "metadata": {},
   "outputs": [],
   "source": []
  },
  {
   "cell_type": "code",
   "execution_count": null,
   "metadata": {},
   "outputs": [],
   "source": [
    "building_poly"
   ]
  },
  {
   "cell_type": "code",
   "execution_count": null,
   "metadata": {},
   "outputs": [],
   "source": [
    "\n",
    "tris = triangulate_buildings(water_dict)\n",
    "vertices, faces = np2stl.vertices_to_index(tris)\n",
    "river_mesh = trimesh.Trimesh(vertices,faces)\n",
    "#river_mesh.export(\"Antwerpen_Rivers.stl\")"
   ]
  },
  {
   "cell_type": "markdown",
   "metadata": {},
   "source": [
    "## Almanjano"
   ]
  },
  {
   "cell_type": "code",
   "execution_count": null,
   "metadata": {},
   "outputs": [],
   "source": [
    "#bounds,bbox = get_boundries_osmnx('Antwerp,Belgium')\n",
    "NSEW = np.array([41.8537, 41.848, -2.3345, -2.3421])\n",
    "GEO_poly = ox.utils_geo.bbox_to_poly(*NSEW)"
   ]
  },
  {
   "cell_type": "code",
   "execution_count": null,
   "metadata": {},
   "outputs": [],
   "source": []
  },
  {
   "cell_type": "code",
   "execution_count": null,
   "metadata": {},
   "outputs": [],
   "source": []
  },
  {
   "cell_type": "code",
   "execution_count": null,
   "metadata": {},
   "outputs": [],
   "source": []
  },
  {
   "cell_type": "code",
   "execution_count": null,
   "metadata": {},
   "outputs": [],
   "source": []
  },
  {
   "cell_type": "markdown",
   "metadata": {},
   "source": [
    "## Test"
   ]
  },
  {
   "cell_type": "code",
   "execution_count": null,
   "metadata": {},
   "outputs": [],
   "source": [
    "import numpy as np\n",
    "m, heights = np.load(\"local.npy\", allow_pickle=True)"
   ]
  },
  {
   "cell_type": "code",
   "execution_count": null,
   "metadata": {},
   "outputs": [],
   "source": [
    "np.save(\"local.npy\", np.array([m,heights]))"
   ]
  },
  {
   "cell_type": "code",
   "execution_count": null,
   "metadata": {},
   "outputs": [],
   "source": [
    "tris = polygon_to_prism(m[150:155],heights,base_val=0)"
   ]
  },
  {
   "cell_type": "code",
   "execution_count": null,
   "metadata": {},
   "outputs": [],
   "source": [
    "np.concatenate(tris).shape"
   ]
  },
  {
   "cell_type": "code",
   "execution_count": null,
   "metadata": {},
   "outputs": [],
   "source": [
    "tris"
   ]
  },
  {
   "cell_type": "code",
   "execution_count": null,
   "metadata": {},
   "outputs": [],
   "source": [
    "patches = [PolygonPatch(poly) for poly in m]\n",
    "draw_patches(patches,heights)"
   ]
  },
  {
   "cell_type": "code",
   "execution_count": null,
   "metadata": {},
   "outputs": [],
   "source": [
    "from skimage.measure import approximate_polygon"
   ]
  },
  {
   "cell_type": "code",
   "execution_count": null,
   "metadata": {},
   "outputs": [],
   "source": [
    "for p in m[150:152]:\n",
    "\n",
    "    exter = np.array(p.exterior.coords)\n",
    "    plt.plot(exter[:,0],exter[:,1],\"-o\")\n",
    "\n",
    "    #inter = np.array(p.interiors)"
   ]
  },
  {
   "cell_type": "code",
   "execution_count": null,
   "metadata": {},
   "outputs": [],
   "source": [
    "sqr = np.array([[0,0],[1,0],[1,1],[0,1]])\n",
    "poly = [sqr * 20 + 30, sqr*10 + 100, sqr] \n",
    "heights = [10,30,10]\n",
    "\n",
    "m = [Polygon(p) for p in poly]\n",
    "m = MultiPolygon(m)\n",
    "m = cascaded_union(m)"
   ]
  },
  {
   "cell_type": "code",
   "execution_count": null,
   "metadata": {},
   "outputs": [],
   "source": []
  },
  {
   "cell_type": "code",
   "execution_count": null,
   "metadata": {},
   "outputs": [],
   "source": [
    "for t in np.concatenate(tris[:100]):\n",
    "    plt.plot(t[:,0],t[:,1])\n",
    "    plt.plot(t[[-1,0],0],t[[-1,0],1])"
   ]
  },
  {
   "cell_type": "code",
   "execution_count": null,
   "metadata": {},
   "outputs": [],
   "source": [
    "tris"
   ]
  },
  {
   "cell_type": "code",
   "execution_count": null,
   "metadata": {},
   "outputs": [],
   "source": []
  }
 ],
 "metadata": {
  "kernelspec": {
   "display_name": "Python 3",
   "language": "python",
   "name": "python3"
  },
  "language_info": {
   "codemirror_mode": {
    "name": "ipython",
    "version": 3
   },
   "file_extension": ".py",
   "mimetype": "text/x-python",
   "name": "python",
   "nbconvert_exporter": "python",
   "pygments_lexer": "ipython3",
   "version": "undefined.undefined.undefined"
  }
 },
 "nbformat": 4,
 "nbformat_minor": 4
}
