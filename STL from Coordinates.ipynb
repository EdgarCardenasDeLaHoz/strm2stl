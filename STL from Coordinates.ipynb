{
 "cells": [
  {
   "cell_type": "code",
   "execution_count": null,
   "metadata": {},
   "outputs": [],
   "source": [
    "%load_ext line_profiler\n",
    "%load_ext autoreload\n",
    "%autoreload 2\n"
   ]
  },
  {
   "cell_type": "code",
   "execution_count": null,
   "metadata": {},
   "outputs": [],
   "source": [
    "!pip install osmnx"
   ]
  },
  {
   "cell_type": "code",
   "execution_count": null,
   "metadata": {},
   "outputs": [],
   "source": [
    "import os \n",
    "import sys\n",
    "import numpy as np\n",
    "import pandas as pd\n",
    "from shapely.geometry import Polygon\n",
    "import osmnx as ox\n",
    "%matplotlib qt\n",
    "\n",
    "from buildings import *\n",
    "from dem2stl import *\n"
   ]
  },
  {
   "cell_type": "code",
   "execution_count": null,
   "metadata": {},
   "outputs": [],
   "source": [
    "Root"
   ]
  },
  {
   "cell_type": "code",
   "execution_count": null,
   "metadata": {},
   "outputs": [],
   "source": [
    "!pip install descartes"
   ]
  },
  {
   "cell_type": "code",
   "execution_count": null,
   "metadata": {},
   "outputs": [],
   "source": [
    "sys.path.append('..\\\\numpy2stl')\n",
    "import numpy2stl as np2stl\n",
    "from osm2stl import *"
   ]
  },
  {
   "cell_type": "code",
   "execution_count": null,
   "metadata": {},
   "outputs": [],
   "source": [
    "%matplotlib qt"
   ]
  },
  {
   "cell_type": "code",
   "execution_count": null,
   "metadata": {},
   "outputs": [],
   "source": [
    "Root = \"C:\\\\Users\\\\eac84\\\\Desktop\"\n",
    "\n",
    "Root = \"C:/Users/eac84/Desktop/Desktop/FILES\""
   ]
  },
  {
   "cell_type": "code",
   "execution_count": null,
   "metadata": {},
   "outputs": [],
   "source": [
    "plt.close(\"all\")"
   ]
  },
  {
   "cell_type": "markdown",
   "metadata": {},
   "source": [
    "## EXAMPLES\n"
   ]
  },
  {
   "cell_type": "code",
   "execution_count": null,
   "metadata": {},
   "outputs": [],
   "source": [
    "Coor = pd.read_excel('../CoOrLists.xls') \n",
    "%matplotlib qt     \n"
   ]
  },
  {
   "cell_type": "code",
   "execution_count": null,
   "metadata": {},
   "outputs": [],
   "source": [
    "ox.settings.useful_tags_path.append(\"piste:difficulty\")"
   ]
  },
  {
   "cell_type": "code",
   "execution_count": null,
   "metadata": {},
   "outputs": [],
   "source": [
    "STLoutDir = \"C:/Users/eac84/OneDrive/Desktop/SLTout\"   \n",
    "os.path.exists(STLoutDir)"
   ]
  },
  {
   "cell_type": "markdown",
   "metadata": {},
   "source": [
    "### Obtaining Data using Open Street Map "
   ]
  },
  {
   "cell_type": "code",
   "execution_count": null,
   "metadata": {
    "scrolled": true
   },
   "outputs": [],
   "source": [
    "Coor.at[10,[\"X1\",\"X2\",\"Y1\",\"Y2\"]] = [1610,1720,2580,2690]\n",
    "Coor.at[10,[\"X1\",\"X2\",\"Y1\",\"Y2\"]] = [1640,1695,2610,2695]\n",
    "\n",
    "bounds = get_bounds_geo(Coor,10)\n",
    "Coor = set_geo_bounds(Coor)\n",
    "\n",
    "#export_dem_2_stl(DEM,STLoutDir,\"Killington\")"
   ]
  },
  {
   "cell_type": "code",
   "execution_count": null,
   "metadata": {
    "scrolled": true
   },
   "outputs": [],
   "source": [
    "Coor.at[12,[\"X1\",\"X2\",\"Y1\",\"Y2\"]] = [2260, 2295, 2485, 2535]\n",
    "bbox = get_bounds_geo(Coor,12)"
   ]
  },
  {
   "cell_type": "code",
   "execution_count": null,
   "metadata": {},
   "outputs": [],
   "source": [
    "set_geo_bounds(Coor)\n",
    "Coor"
   ]
  },
  {
   "cell_type": "markdown",
   "metadata": {},
   "source": [
    "## Ski Mountains and Pistes"
   ]
  },
  {
   "cell_type": "code",
   "execution_count": null,
   "metadata": {},
   "outputs": [],
   "source": [
    "bounds,bbox = get_boundries_osmnx('Killington,Vermont')"
   ]
  },
  {
   "cell_type": "code",
   "execution_count": null,
   "metadata": {},
   "outputs": [],
   "source": [
    "bounds,bbox = get_boundries_osmnx('Granada, Spain')"
   ]
  },
  {
   "cell_type": "code",
   "execution_count": null,
   "metadata": {},
   "outputs": [],
   "source": [
    "bbox = [37, 39, 35, 36] "
   ]
  },
  {
   "cell_type": "code",
   "execution_count": null,
   "metadata": {},
   "outputs": [],
   "source": [
    "dem = DEM(Root,bbox)\n",
    "#dem.lines = get_pistes_osmnx(bbox)\n",
    "dem.draw()"
   ]
  },
  {
   "cell_type": "code",
   "execution_count": null,
   "metadata": {},
   "outputs": [],
   "source": []
  },
  {
   "cell_type": "markdown",
   "metadata": {},
   "source": [
    "## NJ/PA"
   ]
  },
  {
   "cell_type": "code",
   "execution_count": null,
   "metadata": {
    "scrolled": true
   },
   "outputs": [],
   "source": [
    "#bounds,bbox = get_boundries_osmnx('New Jersey')\n",
    "\n",
    "\n",
    "dem = DEM(Root,bbox)\n",
    "#dem.mask_region(bounds.pts)\n",
    "dem.lines= [bounds]\n",
    "dem.draw()"
   ]
  },
  {
   "cell_type": "code",
   "execution_count": null,
   "metadata": {},
   "outputs": [],
   "source": [
    "import networkx as nx\n",
    "import osmnx as ox\n",
    "city = ox.geocode_to_gdf(['Manhattan, New York, USA'])"
   ]
  },
  {
   "cell_type": "code",
   "execution_count": null,
   "metadata": {},
   "outputs": [],
   "source": [
    "!pip install shapely -U"
   ]
  },
  {
   "cell_type": "code",
   "execution_count": null,
   "metadata": {},
   "outputs": [],
   "source": [
    "draw_lines(bounds)"
   ]
  },
  {
   "cell_type": "code",
   "execution_count": null,
   "metadata": {},
   "outputs": [],
   "source": [
    "bounds,bbox = get_boundries_osmnx('Austria')"
   ]
  },
  {
   "cell_type": "code",
   "execution_count": null,
   "metadata": {
    "scrolled": true
   },
   "outputs": [],
   "source": [
    "dem = DEM(Root,bbox)\n",
    "dem.mask_region(bounds.pts)\n",
    "dem.lines= [bounds]\n",
    "dem.draw()"
   ]
  },
  {
   "cell_type": "code",
   "execution_count": null,
   "metadata": {},
   "outputs": [],
   "source": [
    "%lprun -f mask_region dem.mask_region(bounds)"
   ]
  },
  {
   "cell_type": "markdown",
   "metadata": {},
   "source": [
    "## ADKS"
   ]
  },
  {
   "cell_type": "code",
   "execution_count": null,
   "metadata": {
    "scrolled": true
   },
   "outputs": [],
   "source": [
    "Locations = pd.read_excel(\"../ADK_Peaks.xls\") \n",
    "\n",
    "#bbox = np.array([44.42,  44.0, -73.6667, -74.2492])\n",
    "bbox = np.array([44.24,  44.03, -73.74, -74.05])\n",
    "dem = DEM(Root,bbox)\n",
    "dem.draw()\n",
    "\n",
    "for i,L in Locations.iterrows():\n",
    "    plt.plot(L[1],L[0],'ko')\n",
    "    plt.text(L[1],L[0],L[2],horizontalalignment='center')"
   ]
  },
  {
   "cell_type": "code",
   "execution_count": null,
   "metadata": {},
   "outputs": [],
   "source": [
    "bbox = dem.bounds\n",
    "geo_size = [  bbox[1]-bbox[0] , bbox[2]-bbox[3] ]\n",
    "resolution = (np.abs(geo_size) / dem.data.shape).mean()\n",
    "resolution\n",
    "\n",
    "## Add Rivers \n",
    "dem = DEM(Root,bbox)\n",
    "dem.lines = rivers\n",
    "dem.draw()"
   ]
  },
  {
   "cell_type": "markdown",
   "metadata": {},
   "source": [
    "# Topography"
   ]
  },
  {
   "cell_type": "code",
   "execution_count": null,
   "metadata": {},
   "outputs": [],
   "source": [
    "fn = \"C:\\\\Users\\\\eac84\\\\Desktop\\\\STL\\\\Spain2.stl\"\n",
    "NSEW = np.array([44.2,35,6,-9])\n",
    "Dem = DEM(Root,NSEW)\n",
    "DEM2STL(DEM, rotation = 0)"
   ]
  },
  {
   "cell_type": "code",
   "execution_count": null,
   "metadata": {},
   "outputs": [],
   "source": [
    "## Madera \n",
    "fn = \"C:\\\\Users\\\\eac84\\\\Desktop\\\\STL\\\\Madera.stl\"\n",
    "NSEW = np.array([32.888, 32.6,-16.64,-17.285])\n",
    "Dem = DEM(Root,NSEW)\n",
    "DEM2STL(Dem)"
   ]
  },
  {
   "cell_type": "code",
   "execution_count": null,
   "metadata": {},
   "outputs": [],
   "source": [
    "## The Alps\n",
    "fn = \"C:\\\\Users\\\\eac84\\\\Desktop\\\\STL\\\\Alps2.stl\"\n",
    "NSEW = np.array([50, 42, 18.5, 3])\n",
    "Dem = DEM(Root,NSEW)\n",
    "DEM2STL(Dem, rotation = -25)"
   ]
  },
  {
   "cell_type": "code",
   "execution_count": null,
   "metadata": {},
   "outputs": [],
   "source": [
    "## Greece\n",
    "fn = \"C:\\\\Users\\\\eac84\\\\Desktop\\\\STL\\\\Greece_root.stl\"\n",
    "NSEW = np.array([44,34,30,18])\n",
    "Dem = DEM(Root,NSEW)\n",
    "#DEM2STL(Dem)"
   ]
  },
  {
   "cell_type": "code",
   "execution_count": null,
   "metadata": {},
   "outputs": [],
   "source": [
    "DEM2STL(DEM, rotation = 0)"
   ]
  },
  {
   "cell_type": "code",
   "execution_count": null,
   "metadata": {},
   "outputs": [],
   "source": [
    "Dem.draw()"
   ]
  },
  {
   "cell_type": "markdown",
   "metadata": {},
   "source": [
    "## Banff"
   ]
  },
  {
   "cell_type": "code",
   "execution_count": null,
   "metadata": {},
   "outputs": [],
   "source": [
    "NSEW = [52,51,-115.5,-116.5]"
   ]
  },
  {
   "cell_type": "code",
   "execution_count": null,
   "metadata": {},
   "outputs": [],
   "source": [
    "Dem = DEM(Root,NSEW)\n",
    "\n",
    "d = Dem.data"
   ]
  },
  {
   "cell_type": "code",
   "execution_count": null,
   "metadata": {},
   "outputs": [],
   "source": [
    "d = d - d.min()\n",
    "d = d / d.max()*255\n",
    "d = d.astype(np.uint8)\n"
   ]
  },
  {
   "cell_type": "code",
   "execution_count": null,
   "metadata": {},
   "outputs": [],
   "source": [
    "import cv2\n",
    "cv2.imwrite(\"Banff.png\",d)"
   ]
  },
  {
   "cell_type": "code",
   "execution_count": null,
   "metadata": {},
   "outputs": [],
   "source": [
    "plt.imshow(Dem.data)"
   ]
  },
  {
   "cell_type": "code",
   "execution_count": null,
   "metadata": {},
   "outputs": [],
   "source": [
    "vertices = solid2.vertices\n",
    "faces = solid2.faces\n",
    "\n",
    "triangles = vertices[faces]\n",
    "\n",
    "is_valid = True\n",
    "\n",
    "## Check for invalid triangles \n",
    "normals = np.cross(triangles[:,1] - triangles[:,0] , triangles[:,2] - triangles[:,0])\n",
    "invalid = (normals==0).all(axis=1)\n",
    "triangles = triangles[invalid==False]\n",
    "\n",
    "if np.sum(invalid)>0:\n",
    "    print(\"invalid faces exist in object!!\")\n",
    "\n",
    "## Check for invalid edges \n",
    "open_edges = np2stl.get_open_edges(faces)\n",
    "if len(open_edges) > 0:\n",
    "\n",
    "    is_valid = False\n",
    "    print(list(open_edges))\n",
    "    print(list(vertices[open_edges]))\n",
    "    print(\"Open edges exist in object!!\")\n",
    "\n",
    "if (is_valid)==False:\n",
    "    print(\"Solid is not valid\")"
   ]
  },
  {
   "cell_type": "code",
   "execution_count": null,
   "metadata": {},
   "outputs": [],
   "source": [
    "%lprun -f np2stl.get_open_edges np2stl.numpy2stl( mat2 + 1 )"
   ]
  },
  {
   "cell_type": "code",
   "execution_count": null,
   "metadata": {},
   "outputs": [],
   "source": [
    "pts = vertices[open_edges][:,:,:2]"
   ]
  },
  {
   "cell_type": "code",
   "execution_count": null,
   "metadata": {},
   "outputs": [],
   "source": [
    "for p in pts:\n",
    "    plt.plot(p[:,0],p[:,1])"
   ]
  },
  {
   "cell_type": "markdown",
   "metadata": {},
   "source": [
    "## ITALY"
   ]
  },
  {
   "cell_type": "code",
   "execution_count": null,
   "metadata": {},
   "outputs": [],
   "source": [
    "bounds,bbox = get_boundries_osmnx('ITALY')\n",
    "dem = DEM(Root,bbox)\n",
    "#dem.mask_region(bounds.pts)\n",
    "dem.lines= bounds\n",
    "dem.draw()"
   ]
  },
  {
   "cell_type": "code",
   "execution_count": null,
   "metadata": {},
   "outputs": [],
   "source": [
    "dem.lines = subpolygon"
   ]
  },
  {
   "cell_type": "code",
   "execution_count": null,
   "metadata": {},
   "outputs": [],
   "source": [
    "dem.data = dem.data**0.2"
   ]
  },
  {
   "cell_type": "markdown",
   "metadata": {},
   "source": [
    "## BENELUX"
   ]
  },
  {
   "cell_type": "code",
   "execution_count": null,
   "metadata": {},
   "outputs": [],
   "source": [
    "plt.close(\"all\")\n",
    "bounds,bbox = get_boundries_osmnx('Belgium')\n",
    "dem = DEM(Root,bbox)\n",
    "#dem.mask_region(bounds.pts)\n",
    "dem.lines= bounds\n",
    "dem.draw()"
   ]
  },
  {
   "cell_type": "code",
   "execution_count": null,
   "metadata": {},
   "outputs": [],
   "source": [
    "dem.lines= bounds\n",
    "dem.draw()"
   ]
  },
  {
   "cell_type": "code",
   "execution_count": null,
   "metadata": {},
   "outputs": [],
   "source": [
    "bounds[0]"
   ]
  },
  {
   "cell_type": "markdown",
   "metadata": {},
   "source": [
    "## Profiling"
   ]
  },
  {
   "cell_type": "code",
   "execution_count": null,
   "metadata": {},
   "outputs": [],
   "source": []
  },
  {
   "cell_type": "code",
   "execution_count": null,
   "metadata": {},
   "outputs": [],
   "source": []
  },
  {
   "cell_type": "code",
   "execution_count": null,
   "metadata": {},
   "outputs": [],
   "source": [
    "triangles = solid.vertices[solid.faces]\n",
    "N = np2stl.calculate_normals(triangles)"
   ]
  },
  {
   "cell_type": "code",
   "execution_count": null,
   "metadata": {},
   "outputs": [],
   "source": [
    "surfaces, normals = np2stl.get_surfaces(triangles)\n",
    "surf_color = (normals - np.min(normals,axis=1)[...,None])\n",
    "surf_color = surf_color /  np.max(surf_color,axis=1)[...,None]\n",
    "np2stl.draw_3D_vertices(triangles, surfaces=surfaces, surf_color=surf_color)"
   ]
  },
  {
   "cell_type": "code",
   "execution_count": null,
   "metadata": {},
   "outputs": [],
   "source": []
  },
  {
   "cell_type": "code",
   "execution_count": null,
   "metadata": {},
   "outputs": [],
   "source": [
    "%lprun -f np2stl.simplify_perimeters  solid.simplify()"
   ]
  },
  {
   "cell_type": "code",
   "execution_count": null,
   "metadata": {},
   "outputs": [],
   "source": [
    "%lprun -f np2stl.contiguous_edges  np2stl.Solid(triangles)"
   ]
  },
  {
   "cell_type": "code",
   "execution_count": null,
   "metadata": {},
   "outputs": [],
   "source": [
    "def set_geo_bounds(Coor):\n",
    "    \n",
    "    #Get North, West \n",
    "    X = np.array(Coor[[\"GridX1\",\"GridY1\",\"Y1\",\"X1\"]])\n",
    "    GeoStart = tile_num_2_geo_coor(X[:,0],X[:,1],X[:,2],X[:,3])\n",
    "    #Get South, East \n",
    "    X = np.array(Coor[[\"GridX1\",\"GridY1\",\"Y2\",\"X2\"]])\n",
    "    GeoEnd = tile_num_2_geo_coor(X[:,0],X[:,1],X[:,2],X[:,3])\n",
    "\n",
    "    Coor[\"north\"] = GeoStart[0]\n",
    "    Coor[\"south\"] = GeoEnd[0]\n",
    "    Coor[\"east\"]  = GeoEnd[1]\n",
    "    Coor[\"west\"]  = GeoStart[1]\n"
   ]
  },
  {
   "cell_type": "markdown",
   "metadata": {},
   "source": [
    "## SANDBOX & SCRIPTS "
   ]
  },
  {
   "cell_type": "code",
   "execution_count": null,
   "metadata": {},
   "outputs": [],
   "source": [
    "import pandas as pd \n",
    "Locations = pd.read_excel('../ADK locations.xlsx') \n",
    "Locations.fillna(\"\", inplace = True)\n",
    "Locations.iloc[:,3] = Locations.iloc[:,3:5].agg(\" \".join, axis=1)\n",
    "Locations.iloc[:,1] = [float(L[1:]) if L[0]==\"N\" else -float(L[1:]) for L in Locations.iloc[:,1] ]\n",
    "Locations.iloc[:,2] = [float(L[1:]) if L[0]==\"E\" else -float(L[1:]) for L in Locations.iloc[:,2] ]\n",
    "Locations = Locations.drop(columns = [\"Unnamed: 0\",\"Unnamed: 4\"])\n",
    "Locations = Locations.rename(columns={\"Unnamed: 1\":\"Long\", \"Unnamed: 2\":\"Lat\", \"Unnamed: 3\":\"Name\"})\n",
    "Locations.to_excel(\"../ADK_Peaks.xls\", index=False) "
   ]
  },
  {
   "cell_type": "code",
   "execution_count": null,
   "metadata": {},
   "outputs": [],
   "source": []
  }
 ],
 "metadata": {
  "kernelspec": {
   "display_name": "Python 3",
   "language": "python",
   "name": "python3"
  },
  "language_info": {
   "codemirror_mode": {
    "name": "ipython",
    "version": 3
   },
   "file_extension": ".py",
   "mimetype": "text/x-python",
   "name": "python",
   "nbconvert_exporter": "python",
   "pygments_lexer": "ipython3",
   "version": "3.8.8"
  }
 },
 "nbformat": 4,
 "nbformat_minor": 2
}
