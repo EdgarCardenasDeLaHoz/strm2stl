{
 "cells": [
  {
   "cell_type": "code",
   "execution_count": null,
   "metadata": {},
   "outputs": [],
   "source": [
    "!conda create --name DEMSTL\n",
    "!conda activate DEMSTL\n"
   ]
  },
  {
   "cell_type": "code",
   "execution_count": 1,
   "metadata": {},
   "outputs": [],
   "source": [
    "%load_ext line_profiler\n",
    "%load_ext autoreload\n",
    "%autoreload 2\n"
   ]
  },
  {
   "cell_type": "code",
   "execution_count": 2,
   "metadata": {},
   "outputs": [],
   "source": [
    "import os \n",
    "import sys\n",
    "import numpy as np\n",
    "import pandas as pd\n",
    "from shapely.geometry import Polygon\n",
    "import osmnx as ox\n",
    "%matplotlib qt\n",
    "\n",
    "from buildings import *\n",
    "from dem2stl import *"
   ]
  },
  {
   "cell_type": "code",
   "execution_count": 3,
   "metadata": {},
   "outputs": [],
   "source": [
    "sys.path.append('..\\\\numpy2stl')\n",
    "import numpy2stl as np2stl\n",
    "from osm2stl import *"
   ]
  },
  {
   "cell_type": "code",
   "execution_count": 4,
   "metadata": {},
   "outputs": [],
   "source": [
    "import trimesh\n",
    "import glob\n"
   ]
  },
  {
   "cell_type": "code",
   "execution_count": 5,
   "metadata": {},
   "outputs": [],
   "source": [
    "%matplotlib qt"
   ]
  },
  {
   "cell_type": "code",
   "execution_count": 100,
   "metadata": {},
   "outputs": [],
   "source": [
    "from shapely.ops import cascaded_union\n",
    "from shapely.geometry import Polygon,MultiPolygon\n",
    "from shapely.geometry import polygon\n",
    "\n",
    "def polygon_to_perimeter(poly):\n",
    "    \n",
    "    poly = polygon.orient(poly)\n",
    "    \n",
    "    verts,peri = [],[]\n",
    "    n_v = 0\n",
    "    exter = np.array(poly.exterior.coords)\n",
    "    exter = exter[:-1]\n",
    "    verts.extend(exter)\n",
    "    peri.append( np.arange(len(exter) + n_v ))\n",
    "    n_v = len(exter) + n_v \n",
    "    \n",
    "    \n",
    "    inter = poly.interiors\n",
    "    for p in inter:\n",
    "        pts = p.coords[:-1]\n",
    "        verts.extend( pts )\n",
    "        peri.append( np.arange(len(pts)) + n_v )\n",
    "        n_v = len(pts) + n_v             \n",
    "               \n",
    "    verts = np.array(verts)\n",
    "    \n",
    "    perimeters = []\n",
    "    for line_idx in peri:\n",
    "        line = verts[line_idx]\n",
    "        \n",
    "        angles = get_perimeter_angles( line) \n",
    "        simpified_line = np.array(line_idx[  (angles < 179) | (angles > 181) ])\n",
    "        perimeters.append(simpified_line)\n",
    "    \n",
    "\n",
    "    return verts,perimeters\n",
    "\n",
    "def polygon_to_prism(polygons,heights,base_val=0):\n",
    "    all_triangles = []\n",
    "\n",
    "    for n,poly in enumerate(polygons):\n",
    "        print(n)\n",
    "        #if poly.area < 500: continue        \n",
    "        \n",
    "        verts, peri = polygon_to_perimeter(poly)\n",
    "        verts = np.concatenate((verts, verts[:,0:1]*0),axis=1)\n",
    "        \n",
    "        verts[:,2] = heights[n]\n",
    "        try:\n",
    "            _, faces = np2stl.simplify_surface(verts, peri)\n",
    "        except: \n",
    "            continue\n",
    "        \n",
    "        #    print(verts)\n",
    "        ## Add Z value\n",
    "        top_tris = verts[faces]\n",
    "        all_triangles.append( top_tris )\n",
    "        wall_tris = np2stl.perimeter_to_walls(verts, peri, floor_val=base_val)\n",
    "        all_triangles.append( wall_tris )\n",
    "\n",
    "    return all_triangles\n",
    "\n",
    "def shapely_to_buildings(shp_poly, z0=1,z1=39,polygons=None):\n",
    "\n",
    "    if polygons is None:    polygons = []\n",
    "        \n",
    "    for poly in shp_poly.geoms:\n",
    "        p = {}\n",
    "        p['roof_height'] = z1\n",
    "        p['base_height'] = z0\n",
    "        p['points'] = np.array(poly.exterior.coords).T\n",
    "        polygons.append(p)\n",
    "        \n",
    "    return polygons\n",
    "\n",
    "def triangulate_buildings(polygons):\n",
    "\n",
    "    triangles = []\n",
    "\n",
    "    for _,p in enumerate( polygons ):\n",
    "\n",
    "        roof = p['z1'] \n",
    "        base = p['z0'] \n",
    "        vert = p['points'].T\n",
    "\n",
    "        #if (np.isclose(vert[0],vert[-1])):   \n",
    "        vert = vert[:-1]\n",
    "\n",
    "        zdim = np.zeros((len(vert),1)) + roof\n",
    "        vert = np.concatenate([vert, zdim],axis=1)\n",
    "        \n",
    "        tri = np2stl.polygon_to_prism(vert, base_val=base)\n",
    "        triangles.append( tri )\n",
    "\n",
    "    triangles = np.concatenate(triangles)   \n",
    "    return triangles\n",
    "\n",
    "def boundry_to_poly(GEO_poly):\n",
    "    pts = np.array(GEO_poly.exterior.coords).T\n",
    "    p = {\"points\":pts,\"roof_height\":0,\"base_height\":-30}\n",
    "    polygons = [p]\n",
    "\n",
    "    return polygons\n",
    "\n",
    "def get_waterways( GEO ):\n",
    "    \n",
    "    ftpt = ox.footprints_from_polygon(GEO, footprint_type=\"natural\")    \n",
    "    \n",
    "    x = ftpt[ftpt[\"natural\"]==\"water\"]\n",
    "    x = x.dropna(axis=1, how='all')\n",
    "    x = x[[\"geometry\",\"name\",\"waterway\",\"natural\"]]\n",
    "    areas = [i[\"geometry\"].area*10000000 for n,i in x.iterrows()]\n",
    "    x[\"areas\"] = areas\n",
    "    x = x[x[\"areas\"]>1]\n",
    "    \n",
    "    polys = [ i[\"geometry\"].intersection(GEO) for n,i in x.iterrows()]\n",
    "    x[\"geometry\"] = polys\n",
    "    x = ox.project_gdf(x)\n",
    "    return x \n",
    "\n",
    "def map(low_in, high_in, low_out, high_out, qx):\n",
    "\n",
    "  ix = (qx - low_in)\n",
    "  ix = (ix / (high_in - low_in))\n",
    "\n",
    "  ix = ix * (high_out - low_out)\n",
    "  ix = ix + low_out\n",
    "\n",
    "  return ix"
   ]
  },
  {
   "cell_type": "code",
   "execution_count": 7,
   "metadata": {},
   "outputs": [],
   "source": [
    "pd.set_option('display.max_rows', None)"
   ]
  },
  {
   "cell_type": "code",
   "execution_count": 10,
   "metadata": {},
   "outputs": [],
   "source": [
    "\n",
    "gdf = ox.features_from_place(\"Granada,Spain\", tags)\n",
    "gdf = ox.features_from_place(\"Albaicín,Spain\", tags)"
   ]
  },
  {
   "cell_type": "code",
   "execution_count": 9,
   "metadata": {},
   "outputs": [],
   "source": [
    "\n"
   ]
  },
  {
   "cell_type": "code",
   "execution_count": 328,
   "metadata": {},
   "outputs": [
    {
     "name": "stderr",
     "output_type": "stream",
     "text": [
      "c:\\Users\\eac84\\anaconda3\\lib\\site-packages\\ipykernel\\ipkernel.py:287: DeprecationWarning: `should_run_async` will not call `transform_cell` automatically in the future. Please pass the result to `transformed_cell` argument and any exception that happen during thetransform in `preprocessing_exc_tuple` in IPython 7.17 and above.\n",
      "  and should_run_async(code)\n"
     ]
    }
   ],
   "source": [
    "fn = \"C:\\\\Users\\\\eac84\\\\Desktop\\\\Desktop\\\\Tasks\\\\srtm_tifs\\\\*.jpg\"\n",
    "xl_fn = glob.glob(fn)\n",
    "im = plt.imread(xl_fn[0])"
   ]
  },
  {
   "cell_type": "code",
   "execution_count": null,
   "metadata": {},
   "outputs": [],
   "source": [
    "def collect_building_heights(gdf, im, coor_lims):\n",
    "\n",
    "    H = get_base_height(gdf, im, coor_lims)   \n",
    "     \n",
    "    gdf[\"heights\"] = building_heights(gdf)*.05\n",
    "\n",
    "    gdf[\"topo_base\"] = H\n",
    "    gdf[\"z0\"] = gdf[\"topo_base\"]\n",
    "    gdf[\"z1\"] = gdf[\"z0\"]+ gdf[\"heights\"]\n",
    "\n",
    "    building_poly = get_polygons(gdf)\n",
    "    tris = triangulate_buildings(building_poly)\n",
    "\n",
    "    return tris\n",
    "\n",
    "def get_base_height(gdf, im, coor_lims):\n",
    "\n",
    "    x_ = gdf[\"geometry\"]\n",
    "\n",
    "    ###########################\n",
    "    xy_list = []\n",
    "    for x in x_:\n",
    "      xy_list.append([x.centroid.x,  x.centroid.y])\n",
    "    xy_list = np.array(xy_list)\n",
    "\n",
    "    ###########################\n",
    "    im_lims = ((0,im.shape[0]),(0,im.shape[1]))\n",
    "    Nc, Wc = coor2im(coor_lims, im_lims, xy_list)\n",
    "    Nc,Wc = Nc.astype(int), Wc.astype(int)\n",
    "    #################\n",
    "    Nx,Sx = Nc.max(),Nc.min()\n",
    "    Ex,Wx = Wc.max(),Wc.min()\n",
    "    ############################\n",
    "    H = im[Nc, Wc] *.8\n",
    "    data =  im[int(Sx):int(Nx), int(Wx):int(Ex)] *.8\n",
    "    #####################\n",
    "    H = (H) - data.min() + 1\n",
    "\n",
    "    return H\n",
    "\n",
    "def coor2im(coor_lims, im_lims, xy_list):\n",
    "\n",
    "    N0,N1 = coor_lims[0]\n",
    "    W0,W1 = coor_lims[1]\n",
    "    X0,X1 = im_lims[0]\n",
    "    Y0,Y1 = im_lims[1]\n",
    "\n",
    "    Ncoor = map( N0,N1, X0*1., X1*1., xy_list[:,1])\n",
    "    Wcoor = map( W0,W1, Y0*1., Y1*1., xy_list[:,0])\n",
    "\n",
    "    return Ncoor, Wcoor\n"
   ]
  },
  {
   "cell_type": "code",
   "execution_count": 355,
   "metadata": {},
   "outputs": [
    {
     "name": "stderr",
     "output_type": "stream",
     "text": [
      "c:\\Users\\eac84\\anaconda3\\lib\\site-packages\\ipykernel\\ipkernel.py:287: DeprecationWarning: `should_run_async` will not call `transform_cell` automatically in the future. Please pass the result to `transformed_cell` argument and any exception that happen during thetransform in `preprocessing_exc_tuple` in IPython 7.17 and above.\n",
      "  and should_run_async(code)\n"
     ]
    },
    {
     "name": "stdout",
     "output_type": "stream",
     "text": [
      "Creating top...\n",
      "Creating walls...\n",
      "Creating bottom...\n"
     ]
    }
   ],
   "source": [
    "######################\n",
    "Nx,Sx,Wx,Ex = bounds\n",
    "\n",
    "data =  im[int(Sx):int(Nx), int(Wx):int(Ex)] *.8\n",
    "data = data - data.min() + 1\n",
    "\n",
    "####################\n",
    "facet = np2stl.numpy2stl(data)\n",
    "solid = np2stl.Solid(facet)\n",
    "vx = solid.vertices.copy().astype(float)\n",
    "########################\n",
    "vx = reposition_dem(vx, im_lims, coor_lims, bounds)\n",
    "########################\n",
    "vx[:,2] = vx[:,2] * scale\n",
    "vx = vx*1000\n",
    "#########################\n"
   ]
  },
  {
   "cell_type": "code",
   "execution_count": null,
   "metadata": {},
   "outputs": [],
   "source": [
    "def reposition_dem(vx, im_lims, coor_lims, bounds):\n",
    "\n",
    "  Nx,Sx,Wx,Ex = bounds\n",
    "\n",
    "  x,y = vx[:,1],vx[:,0]\n",
    "  x = x + Sx\n",
    "  y = y + Wx\n",
    "  imcoor = np.array((y,x)).T*1.\n",
    "  y, x = coor2im(im_lims, coor_lims, imcoor)\n",
    "  vx[:,0], vx[:,1] = y, x\n",
    "\n",
    "  return vx "
   ]
  },
  {
   "cell_type": "code",
   "execution_count": 354,
   "metadata": {},
   "outputs": [
    {
     "name": "stderr",
     "output_type": "stream",
     "text": [
      "c:\\Users\\eac84\\anaconda3\\lib\\site-packages\\ipykernel\\ipkernel.py:287: DeprecationWarning: `should_run_async` will not call `transform_cell` automatically in the future. Please pass the result to `transformed_cell` argument and any exception that happen during thetransform in `preprocessing_exc_tuple` in IPython 7.17 and above.\n",
      "  and should_run_async(code)\n"
     ]
    },
    {
     "name": "stdout",
     "output_type": "stream",
     "text": [
      "Adding Buildings\n",
      "Making Polygons\n"
     ]
    }
   ],
   "source": [
    "tags = {'building': True}\n",
    "center = (37.17827, -3.5925189) \n",
    "gdf = ox.features.features_from_point(center, tags, dist=1000)\n",
    "\n",
    "coor_lims = ((38, 37),(-4, -3))\n",
    "\n",
    "tris = collect_building_heights(gdf, im, coor_lims)\n",
    "vertices, faces = np2stl.vertices_to_index(tris)\n",
    "\n",
    "##################\n",
    "vertices[:,[1,0]] = vertices[:,[0,1]]\n",
    "vertices[:,2] = vertices[:,2] *scale\n",
    "vertices = vertices*1000\n",
    "\n",
    "#building_poly = MultiPolygon(building_poly)\n",
    "#building_poly = unary_union(building_poly)\n",
    "#building_list = shapely_to_buildings(building_poly , z0=0,z1=10)"
   ]
  },
  {
   "cell_type": "code",
   "execution_count": 344,
   "metadata": {},
   "outputs": [
    {
     "name": "stderr",
     "output_type": "stream",
     "text": [
      "c:\\Users\\eac84\\anaconda3\\lib\\site-packages\\ipykernel\\ipkernel.py:287: DeprecationWarning: `should_run_async` will not call `transform_cell` automatically in the future. Please pass the result to `transformed_cell` argument and any exception that happen during thetransform in `preprocessing_exc_tuple` in IPython 7.17 and above.\n",
      "  and should_run_async(code)\n"
     ]
    },
    {
     "name": "stdout",
     "output_type": "stream",
     "text": [
      "[ 3.71768097e+04 -3.59727079e+03  1.10189902e+00] [ 3.71784569e+04 -3.59283105e+03  1.16870074e+00]\n",
      "[22.7281     28.1055      3.19355735] [21.66064982 27.21466259  3.74895862]\n"
     ]
    }
   ],
   "source": [
    "print(vertices.mean(axis=0), vx.mean(axis=0))\n",
    "print(vertices.max(axis=0) - vertices.min(axis=0), vx.max(axis=0)- vx.min(axis=0))"
   ]
  },
  {
   "cell_type": "code",
   "execution_count": 298,
   "metadata": {},
   "outputs": [
    {
     "name": "stderr",
     "output_type": "stream",
     "text": [
      "c:\\Users\\eac84\\anaconda3\\lib\\site-packages\\ipykernel\\ipkernel.py:287: DeprecationWarning: `should_run_async` will not call `transform_cell` automatically in the future. Please pass the result to `transformed_cell` argument and any exception that happen during thetransform in `preprocessing_exc_tuple` in IPython 7.17 and above.\n",
      "  and should_run_async(code)\n"
     ]
    },
    {
     "name": "stdout",
     "output_type": "stream",
     "text": [
      "opening - Napari\n"
     ]
    }
   ],
   "source": []
  },
  {
   "cell_type": "code",
   "execution_count": 356,
   "metadata": {},
   "outputs": [
    {
     "name": "stdout",
     "output_type": "stream",
     "text": [
      "opening - Napari\n"
     ]
    }
   ],
   "source": [
    "import napari\n",
    "print(\"opening - Napari\")\n",
    "v = napari.current_viewer()\n",
    "if v is None: v = napari.Viewer()\n",
    "v.layers.clear()\n",
    "\n",
    "\n",
    "surface1 = (vertices,faces)\n",
    "s = v.add_surface(surface1)\n",
    "s.wireframe.visible = True\n",
    "###\n",
    "surface = (vx, solid.faces)\n",
    "s = v.add_surface(surface)\n",
    "s.wireframe.visible = True\n",
    "#s.normals.face.visible = True\n",
    "#s.normals.vertex.visible = True"
   ]
  },
  {
   "cell_type": "code",
   "execution_count": null,
   "metadata": {},
   "outputs": [],
   "source": [
    "\n",
    "mesh = trimesh.Trimesh(vertices,faces)"
   ]
  },
  {
   "cell_type": "code",
   "execution_count": null,
   "metadata": {},
   "outputs": [],
   "source": [
    "mesh.export(\"Granada_buildings.stl\")"
   ]
  },
  {
   "cell_type": "code",
   "execution_count": 294,
   "metadata": {},
   "outputs": [
    {
     "name": "stderr",
     "output_type": "stream",
     "text": [
      "c:\\Users\\eac84\\anaconda3\\lib\\site-packages\\ipykernel\\ipkernel.py:287: DeprecationWarning: `should_run_async` will not call `transform_cell` automatically in the future. Please pass the result to `transformed_cell` argument and any exception that happen during thetransform in `preprocessing_exc_tuple` in IPython 7.17 and above.\n",
      "  and should_run_async(code)\n"
     ]
    },
    {
     "data": {
      "text/plain": [
       "(array([ 3.71768097e+04, -3.59727079e+03, -3.75786216e+00]),\n",
       " array([ 3.75681566e+04, -3.15362209e+03,  2.07166104e+00]),\n",
       " array([22.7281    , 28.1055    ,  3.19355735]),\n",
       " array([21.66064982, 27.21466259,  7.22021661]))"
      ]
     },
     "execution_count": 294,
     "metadata": {},
     "output_type": "execute_result"
    }
   ],
   "source": []
  },
  {
   "cell_type": "code",
   "execution_count": null,
   "metadata": {},
   "outputs": [],
   "source": [
    "%matplotlib qt"
   ]
  },
  {
   "cell_type": "code",
   "execution_count": 201,
   "metadata": {},
   "outputs": [
    {
     "name": "stdout",
     "output_type": "stream",
     "text": [
      "Creating top...\n",
      "Creating walls...\n",
      "Creating bottom...\n"
     ]
    },
    {
     "name": "stderr",
     "output_type": "stream",
     "text": [
      "..\\numpy2stl\\numpy2stl\\save.py:39: ResourceWarning: unclosed file <_io.BufferedWriter name='granada_topo.stl'>\n",
      "  f = open(file_name, 'wb')\n",
      "ResourceWarning: Enable tracemalloc to get the object allocation traceback\n"
     ]
    },
    {
     "ename": "KeyboardInterrupt",
     "evalue": "",
     "output_type": "error",
     "traceback": [
      "\u001b[1;31m---------------------------------------------------------------------------\u001b[0m",
      "\u001b[1;31mKeyboardInterrupt\u001b[0m                         Traceback (most recent call last)",
      "\u001b[1;32m<ipython-input-201-d74bc764f09b>\u001b[0m in \u001b[0;36m<module>\u001b[1;34m\u001b[0m\n\u001b[0;32m     14\u001b[0m \u001b[1;31m#solid.simplify()\u001b[0m\u001b[1;33m\u001b[0m\u001b[1;33m\u001b[0m\u001b[1;33m\u001b[0m\u001b[0m\n\u001b[0;32m     15\u001b[0m \u001b[0mfn\u001b[0m \u001b[1;33m=\u001b[0m \u001b[1;34m\"granada_topo.stl\"\u001b[0m\u001b[1;33m\u001b[0m\u001b[1;33m\u001b[0m\u001b[0m\n\u001b[1;32m---> 16\u001b[1;33m \u001b[0msolid\u001b[0m\u001b[1;33m.\u001b[0m\u001b[0msave_stl\u001b[0m\u001b[1;33m(\u001b[0m\u001b[0mfn\u001b[0m\u001b[1;33m)\u001b[0m\u001b[1;33m\u001b[0m\u001b[1;33m\u001b[0m\u001b[0m\n\u001b[0m",
      "\u001b[1;32mc:\\Users\\eac84\\OneDrive\\Documents\\Projects\\3D Maps\\Code\\numpy2stl\\numpy2stl\\solid.py\u001b[0m in \u001b[0;36msave_stl\u001b[1;34m(self, filename, ascii)\u001b[0m\n\u001b[0;32m     30\u001b[0m         \u001b[0mtriangles\u001b[0m \u001b[1;33m=\u001b[0m \u001b[0mself\u001b[0m\u001b[1;33m.\u001b[0m\u001b[0mvertices\u001b[0m\u001b[1;33m[\u001b[0m\u001b[0mself\u001b[0m\u001b[1;33m.\u001b[0m\u001b[0mfaces\u001b[0m\u001b[1;33m]\u001b[0m\u001b[1;33m\u001b[0m\u001b[1;33m\u001b[0m\u001b[0m\n\u001b[0;32m     31\u001b[0m         \u001b[0mfacets\u001b[0m \u001b[1;33m=\u001b[0m \u001b[0mtriangles_to_facets\u001b[0m\u001b[1;33m(\u001b[0m\u001b[0mtriangles\u001b[0m\u001b[1;33m)\u001b[0m\u001b[1;33m\u001b[0m\u001b[1;33m\u001b[0m\u001b[0m\n\u001b[1;32m---> 32\u001b[1;33m         \u001b[0mwriteSTL\u001b[0m\u001b[1;33m(\u001b[0m\u001b[0mfacets\u001b[0m\u001b[1;33m,\u001b[0m \u001b[0mfilename\u001b[0m\u001b[1;33m,\u001b[0m \u001b[0mascii\u001b[0m\u001b[1;33m=\u001b[0m\u001b[0mascii\u001b[0m\u001b[1;33m)\u001b[0m\u001b[1;33m\u001b[0m\u001b[1;33m\u001b[0m\u001b[0m\n\u001b[0m\u001b[0;32m     33\u001b[0m \u001b[1;33m\u001b[0m\u001b[0m\n\u001b[0;32m     34\u001b[0m \u001b[1;32mdef\u001b[0m \u001b[0mcalculate_normals\u001b[0m\u001b[1;33m(\u001b[0m\u001b[0mtriangles\u001b[0m\u001b[1;33m)\u001b[0m\u001b[1;33m:\u001b[0m\u001b[1;33m\u001b[0m\u001b[1;33m\u001b[0m\u001b[0m\n",
      "\u001b[1;32mc:\\Users\\eac84\\OneDrive\\Documents\\Projects\\3D Maps\\Code\\numpy2stl\\numpy2stl\\save.py\u001b[0m in \u001b[0;36mwriteSTL\u001b[1;34m(facets, file_name, ascii)\u001b[0m\n\u001b[0;32m     37\u001b[0m     \u001b[1;34m\"\"\"writes an ASCII or binary STL file\"\"\"\u001b[0m\u001b[1;33m\u001b[0m\u001b[1;33m\u001b[0m\u001b[0m\n\u001b[0;32m     38\u001b[0m \u001b[1;33m\u001b[0m\u001b[0m\n\u001b[1;32m---> 39\u001b[1;33m     \u001b[0mf\u001b[0m \u001b[1;33m=\u001b[0m \u001b[0mopen\u001b[0m\u001b[1;33m(\u001b[0m\u001b[0mfile_name\u001b[0m\u001b[1;33m,\u001b[0m \u001b[1;34m'wb'\u001b[0m\u001b[1;33m)\u001b[0m\u001b[1;33m\u001b[0m\u001b[1;33m\u001b[0m\u001b[0m\n\u001b[0m\u001b[0;32m     40\u001b[0m     \u001b[1;32mif\u001b[0m \u001b[0mascii\u001b[0m\u001b[1;33m:\u001b[0m\u001b[1;33m\u001b[0m\u001b[1;33m\u001b[0m\u001b[0m\n\u001b[0;32m     41\u001b[0m         \u001b[0mlines\u001b[0m \u001b[1;33m=\u001b[0m \u001b[0m_build_ascii_stl\u001b[0m\u001b[1;33m(\u001b[0m\u001b[0mfacets\u001b[0m\u001b[1;33m)\u001b[0m\u001b[1;33m\u001b[0m\u001b[1;33m\u001b[0m\u001b[0m\n",
      "\u001b[1;31mKeyboardInterrupt\u001b[0m: "
     ]
    }
   ],
   "source": [
    "from skimage import filters,transform\n",
    " \n",
    "outshape = np.array(data.shape)*2\n",
    "filt = transform.resize(data, outshape)\n",
    "filt = filters.gaussian( filt , sigma=3, truncate=3)\n",
    "filt = filters.median(filt, np.ones((3,3)))\n",
    "\n",
    "plt.figure()\n",
    "plt.imshow(filt)\n",
    "\n",
    "#data = dem.data\n",
    "facet = np2stl.numpy2stl(filt)\n",
    "solid = np2stl.Solid(facet)\n",
    "#solid.simplify()\n",
    "fn = \"granada_topo.stl\" \n",
    "solid.save_stl(fn)"
   ]
  },
  {
   "cell_type": "code",
   "execution_count": null,
   "metadata": {},
   "outputs": [],
   "source": [
    "x = 660\n",
    "y = 1470\n",
    "plt.imshow(im[-780:-570,1370:1570])"
   ]
  },
  {
   "cell_type": "code",
   "execution_count": null,
   "metadata": {},
   "outputs": [],
   "source": [
    "r0 = 2820\n",
    "r1 = 3030\n",
    "c0 = 1370\n",
    "c1 = 1570\n",
    "\n",
    "mx = im[r0:r1, c0:c1]\n",
    "plt.imshow(mx)"
   ]
  },
  {
   "cell_type": "code",
   "execution_count": null,
   "metadata": {},
   "outputs": [],
   "source": [
    "plt.imshow(im)\n",
    "plt.plot(Wcoor,Ncoor, \"ro\")"
   ]
  },
  {
   "cell_type": "code",
   "execution_count": null,
   "metadata": {},
   "outputs": [],
   "source": [
    "ax = plt.figure().add_subplot(projection='3d')\n",
    "ax.plot(Ncoor,Wcoor,H, \"o\")"
   ]
  },
  {
   "cell_type": "code",
   "execution_count": null,
   "metadata": {},
   "outputs": [],
   "source": []
  }
 ],
 "metadata": {
  "kernelspec": {
   "display_name": "Python 3",
   "language": "python",
   "name": "python3"
  },
  "language_info": {
   "codemirror_mode": {
    "name": "ipython",
    "version": 3
   },
   "file_extension": ".py",
   "mimetype": "text/x-python",
   "name": "python",
   "nbconvert_exporter": "python",
   "pygments_lexer": "ipython3",
   "version": "3.8.8"
  }
 },
 "nbformat": 4,
 "nbformat_minor": 4
}
